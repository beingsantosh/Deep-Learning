{
  "nbformat": 4,
  "nbformat_minor": 0,
  "metadata": {
    "colab": {
      "name": "Hate Speech Classification.ipynb",
      "provenance": [],
      "collapsed_sections": [],
      "authorship_tag": "ABX9TyPbgD44Xv/ifAd+G/1pea2c",
      "include_colab_link": true
    },
    "kernelspec": {
      "name": "python3",
      "display_name": "Python 3"
    },
    "accelerator": "GPU"
  },
  "cells": [
    {
      "cell_type": "markdown",
      "metadata": {
        "id": "view-in-github",
        "colab_type": "text"
      },
      "source": [
        "<a href=\"https://colab.research.google.com/github/santoshkumarbvp/Deep-Learning/blob/main/Hate_Speech_Classification.ipynb\" target=\"_parent\"><img src=\"https://colab.research.google.com/assets/colab-badge.svg\" alt=\"Open In Colab\"/></a>"
      ]
    },
    {
      "cell_type": "markdown",
      "metadata": {
        "id": "pTD9VhhwGXUY"
      },
      "source": [
        "Hate speech classification via deep learning\n",
        "\n",
        "  classes -\n",
        "   \n",
        "    hate speech\n",
        "\n",
        "    offensive language\n",
        "    \n",
        "    neither"
      ]
    },
    {
      "cell_type": "code",
      "metadata": {
        "id": "K8JemOUr8VYQ"
      },
      "source": [
        "import pandas as pd"
      ],
      "execution_count": 3,
      "outputs": []
    },
    {
      "cell_type": "code",
      "metadata": {
        "id": "Z2O3EiHYFHRN"
      },
      "source": [
        "df = pd.read_csv('https://raw.githubusertweet.com/laxmimerit/hate_speech_dataset/master/data.csv' , index_col=0)"
      ],
      "execution_count": 10,
      "outputs": []
    },
    {
      "cell_type": "code",
      "metadata": {
        "id": "U3l9HMOIFSEx",
        "outputId": "86bb8b83-e7e9-47ca-c121-f45f44005dfd",
        "colab": {
          "base_uri": "https://localhost:8080/",
          "height": 195
        }
      },
      "source": [
        "df.head()"
      ],
      "execution_count": 13,
      "outputs": [
        {
          "output_type": "execute_result",
          "data": {
            "text/html": [
              "<div>\n",
              "<style scoped>\n",
              "    .dataframe tbody tr th:only-of-type {\n",
              "        vertical-align: middle;\n",
              "    }\n",
              "\n",
              "    .dataframe tbody tr th {\n",
              "        vertical-align: top;\n",
              "    }\n",
              "\n",
              "    .dataframe thead th {\n",
              "        text-align: right;\n",
              "    }\n",
              "</style>\n",
              "<table border=\"1\" class=\"dataframe\">\n",
              "  <thead>\n",
              "    <tr style=\"text-align: right;\">\n",
              "      <th></th>\n",
              "      <th>count</th>\n",
              "      <th>hate_speech</th>\n",
              "      <th>offensive_language</th>\n",
              "      <th>neither</th>\n",
              "      <th>class</th>\n",
              "      <th>tweet</th>\n",
              "    </tr>\n",
              "  </thead>\n",
              "  <tbody>\n",
              "    <tr>\n",
              "      <th>0</th>\n",
              "      <td>3</td>\n",
              "      <td>0</td>\n",
              "      <td>0</td>\n",
              "      <td>3</td>\n",
              "      <td>2</td>\n",
              "      <td>!!! RT @mayasolovely: As a woman you shouldn't...</td>\n",
              "    </tr>\n",
              "    <tr>\n",
              "      <th>1</th>\n",
              "      <td>3</td>\n",
              "      <td>0</td>\n",
              "      <td>3</td>\n",
              "      <td>0</td>\n",
              "      <td>1</td>\n",
              "      <td>!!!!! RT @mleew17: boy dats cold...tyga dwn ba...</td>\n",
              "    </tr>\n",
              "    <tr>\n",
              "      <th>2</th>\n",
              "      <td>3</td>\n",
              "      <td>0</td>\n",
              "      <td>3</td>\n",
              "      <td>0</td>\n",
              "      <td>1</td>\n",
              "      <td>!!!!!!! RT @UrKindOfBrand Dawg!!!! RT @80sbaby...</td>\n",
              "    </tr>\n",
              "    <tr>\n",
              "      <th>3</th>\n",
              "      <td>3</td>\n",
              "      <td>0</td>\n",
              "      <td>2</td>\n",
              "      <td>1</td>\n",
              "      <td>1</td>\n",
              "      <td>!!!!!!!!! RT @C_G_Anderson: @viva_based she lo...</td>\n",
              "    </tr>\n",
              "    <tr>\n",
              "      <th>4</th>\n",
              "      <td>6</td>\n",
              "      <td>0</td>\n",
              "      <td>6</td>\n",
              "      <td>0</td>\n",
              "      <td>1</td>\n",
              "      <td>!!!!!!!!!!!!! RT @ShenikaRoberts: The shit you...</td>\n",
              "    </tr>\n",
              "  </tbody>\n",
              "</table>\n",
              "</div>"
            ],
            "text/plain": [
              "   count  hate_speech  ...  class                                              tweet\n",
              "0      3            0  ...      2  !!! RT @mayasolovely: As a woman you shouldn't...\n",
              "1      3            0  ...      1  !!!!! RT @mleew17: boy dats cold...tyga dwn ba...\n",
              "2      3            0  ...      1  !!!!!!! RT @UrKindOfBrand Dawg!!!! RT @80sbaby...\n",
              "3      3            0  ...      1  !!!!!!!!! RT @C_G_Anderson: @viva_based she lo...\n",
              "4      6            0  ...      1  !!!!!!!!!!!!! RT @ShenikaRoberts: The shit you...\n",
              "\n",
              "[5 rows x 6 columns]"
            ]
          },
          "metadata": {
            "tags": []
          },
          "execution_count": 13
        }
      ]
    },
    {
      "cell_type": "code",
      "metadata": {
        "id": "Z4H_1mhRFSse",
        "outputId": "2cc98d5a-0ae8-4d80-be96-c62a802cf79b",
        "colab": {
          "base_uri": "https://localhost:8080/"
        }
      },
      "source": [
        "vc=df['class'].value_counts()\n",
        "vc"
      ],
      "execution_count": 32,
      "outputs": [
        {
          "output_type": "execute_result",
          "data": {
            "text/plain": [
              "1    19190\n",
              "2     4163\n",
              "0     1430\n",
              "Name: class, dtype: int64"
            ]
          },
          "metadata": {
            "tags": []
          },
          "execution_count": 32
        }
      ]
    },
    {
      "cell_type": "markdown",
      "metadata": {
        "id": "pfXfiQ4bG7Xv"
      },
      "source": [
        "This contains unbalanced classes. \n",
        "Will balance the complete dataset. \n",
        "\n",
        "---\n",
        "\n",
        "\n",
        "\n",
        "\n"
      ]
    },
    {
      "cell_type": "code",
      "metadata": {
        "id": "9x7317QmHFN5",
        "outputId": "7a49e3e0-1faf-4af5-ee64-405fd3a2e808",
        "colab": {
          "base_uri": "https://localhost:8080/"
        }
      },
      "source": [
        "df[df['class']==1].sample()"
      ],
      "execution_count": 18,
      "outputs": [
        {
          "output_type": "execute_result",
          "data": {
            "text/plain": [
              "(19190, 6)"
            ]
          },
          "metadata": {
            "tags": []
          },
          "execution_count": 18
        }
      ]
    },
    {
      "cell_type": "markdown",
      "metadata": {
        "id": "wiV8WesiIwwg"
      },
      "source": [
        "index for min and max count "
      ]
    },
    {
      "cell_type": "code",
      "metadata": {
        "id": "pxqbKPyiHT-t",
        "outputId": "7db8d8e8-5164-44f6-afc9-43796e532369",
        "colab": {
          "base_uri": "https://localhost:8080/"
        }
      },
      "source": [
        "vc[vc==vc.min()].index[0], vc[vc==vc.max()].index[0]"
      ],
      "execution_count": 41,
      "outputs": [
        {
          "output_type": "execute_result",
          "data": {
            "text/plain": [
              "(0, 1)"
            ]
          },
          "metadata": {
            "tags": []
          },
          "execution_count": 41
        }
      ]
    },
    {
      "cell_type": "code",
      "metadata": {
        "id": "lXoDhG_FHgw0",
        "outputId": "3e96ff7a-fea8-4761-9075-44c7ddcec4ea",
        "colab": {
          "base_uri": "https://localhost:8080/"
        }
      },
      "source": [
        "df[df['class']==vc[vc==vc.max()].index[0]].shape"
      ],
      "execution_count": 42,
      "outputs": [
        {
          "output_type": "execute_result",
          "data": {
            "text/plain": [
              "(19190, 6)"
            ]
          },
          "metadata": {
            "tags": []
          },
          "execution_count": 42
        }
      ]
    },
    {
      "cell_type": "markdown",
      "metadata": {
        "id": "FBq9ZhJyJFtx"
      },
      "source": [
        "just picking only 1430 samples from class 1"
      ]
    },
    {
      "cell_type": "code",
      "metadata": {
        "id": "6yPcFyKNI-g9"
      },
      "source": [
        "df_new = pd.DataFrame()\n",
        "\n",
        "for i in vc.index:\n",
        "  temp = df[df['class']==i].sample(vc.min())\n",
        "  df_new = df_new.append(temp,ignore_index = True)  "
      ],
      "execution_count": 48,
      "outputs": []
    },
    {
      "cell_type": "code",
      "metadata": {
        "id": "q5qyjhRQJW5K",
        "outputId": "995acd5e-1482-4b05-edbc-721e500fd992",
        "colab": {
          "base_uri": "https://localhost:8080/"
        }
      },
      "source": [
        "df_new.shape"
      ],
      "execution_count": 49,
      "outputs": [
        {
          "output_type": "execute_result",
          "data": {
            "text/plain": [
              "(4290, 6)"
            ]
          },
          "metadata": {
            "tags": []
          },
          "execution_count": 49
        }
      ]
    },
    {
      "cell_type": "code",
      "metadata": {
        "id": "oVJ89SreJ9DS",
        "outputId": "eb078f31-772d-49ad-81f0-5545ef221d31",
        "colab": {
          "base_uri": "https://localhost:8080/"
        }
      },
      "source": [
        "%%time\n",
        "\n",
        "contraction_mapping = {\"ain't\": \"is not\", \"aren't\": \"are not\",\"can't\": \"cannot\", \"'cause\": \"because\", \"could've\": \"could have\", \"couldn't\": \"could not\", \"didn't\": \"did not\",  \"doesn't\": \"does not\", \"don't\": \"do not\", \"hadn't\": \"had not\", \"hasn't\": \"has not\", \"haven't\": \"have not\", \"he'd\": \"he would\",\"he'll\": \"he will\", \"he's\": \"he is\", \"how'd\": \"how did\", \"how'd'y\": \"how do you\", \"how'll\": \"how will\", \"how's\": \"how is\",  \"I'd\": \"I would\", \"I'd've\": \"I would have\", \"I'll\": \"I will\", \"I'll've\": \"I will have\",\"I'm\": \"I am\", \"I've\": \"I have\", \"i'd\": \"i would\", \"i'd've\": \"i would have\", \"i'll\": \"i will\",  \"i'll've\": \"i will have\",\"i'm\": \"i am\", \"i've\": \"i have\", \"isn't\": \"is not\", \"it'd\": \"it would\", \"it'd've\": \"it would have\", \"it'll\": \"it will\", \"it'll've\": \"it will have\",\"it's\": \"it is\", \"let's\": \"let us\", \"ma'am\": \"madam\", \"mayn't\": \"may not\", \"might've\": \"might have\",\"mightn't\": \"might not\",\"mightn't've\": \"might not have\", \"must've\": \"must have\", \"mustn't\": \"must not\", \"mustn't've\": \"must not have\", \"needn't\": \"need not\", \"needn't've\": \"need not have\",\"o'clock\": \"of the clock\", \"oughtn't\": \"ought not\", \"oughtn't've\": \"ought not have\", \"shan't\": \"shall not\", \"sha'n't\": \"shall not\", \"shan't've\": \"shall not have\", \"she'd\": \"she would\", \"she'd've\": \"she would have\", \"she'll\": \"she will\", \"she'll've\": \"she will have\", \"she's\": \"she is\", \"should've\": \"should have\", \"shouldn't\": \"should not\", \"shouldn't've\": \"should not have\", \"so've\": \"so have\",\"so's\": \"so as\", \"this's\": \"this is\",\"that'd\": \"that would\", \"that'd've\": \"that would have\", \"that's\": \"that is\", \"there'd\": \"there would\", \"there'd've\": \"there would have\", \"there's\": \"there is\", \"here's\": \"here is\",\"they'd\": \"they would\", \"they'd've\": \"they would have\", \"they'll\": \"they will\", \"they'll've\": \"they will have\", \"they're\": \"they are\", \"they've\": \"they have\", \"to've\": \"to have\", \"wasn't\": \"was not\", \"we'd\": \"we would\", \"we'd've\": \"we would have\", \"we'll\": \"we will\", \"we'll've\": \"we will have\", \"we're\": \"we are\", \"we've\": \"we have\", \"weren't\": \"were not\", \"what'll\": \"what will\", \"what'll've\": \"what will have\", \"what're\": \"what are\",  \"what's\": \"what is\", \"what've\": \"what have\", \"when's\": \"when is\", \"when've\": \"when have\", \"where'd\": \"where did\", \"where's\": \"where is\", \"where've\": \"where have\", \"who'll\": \"who will\", \"who'll've\": \"who will have\", \"who's\": \"who is\", \"who've\": \"who have\", \"why's\": \"why is\", \"why've\": \"why have\", \"will've\": \"will have\", \"won't\": \"will not\", \"won't've\": \"will not have\", \"would've\": \"would have\", \"wouldn't\": \"would not\", \"wouldn't've\": \"would not have\", \"y'all\": \"you all\", \"y'all'd\": \"you all would\",\"y'all'd've\": \"you all would have\",\"y'all're\": \"you all are\",\"y'all've\": \"you all have\",\"you'd\": \"you would\", \"you'd've\": \"you would have\", \"you'll\": \"you will\", \"you'll've\": \"you will have\", \"you're\": \"you are\", \"you've\": \"you have\" }\n",
        "def contraction_(x):\n",
        "    for cont , exp in contraction_mapping.items():\n",
        "        x = re.sub(cont,exp,x)\n",
        "    return x\n",
        "\n",
        "import unicodedata\n",
        "def remove_accented_chars(x):\n",
        "    x = unicodedata.normalize('NFKD', x).encode('ascii','ignore').decode('utf-8','ignore')\n",
        "    return x\n",
        "\n",
        "#email\n",
        "regex = r\"(?i)\\b((?:https?://|www\\d{0,3}[.]|[a-z0-9.\\-]+[.][a-z]{2,4}/)(?:[^\\s()<>]+|\\(([^\\s()<>]+|(\\([^\\s()<>]+\\)))*\\))+(?:\\(([^\\s()<>]+|(\\([^\\s()<>]+\\)))*\\)|[^\\s`!()\\[\\]{};:'\\\".,<>?«»“”‘’]))\"\n",
        "\n",
        "import re\n",
        "from bs4 import BeautifulSoup\n",
        "\n",
        "from spacy.lang.en.stop_words import STOP_WORDS as stopwords\n",
        "\n",
        "import spacy\n",
        "nlp = spacy.load('en_core_web_sm')\n",
        "\n",
        "def convert_to_root(x):\n",
        "    doc= nlp(x)\n",
        "    x_list=[]\n",
        "    for w in doc:\n",
        "        root = w.lemma_\n",
        "        x_list.append(root)\n",
        "    return ' '.join(x_list)\n",
        "\n",
        "\n",
        "def get_clean_data(df_new):\n",
        "  df_new['tweet']=df_new['tweet'].apply(lambda x: x.lower() )\n",
        "  df_new['tweet']=df_new['tweet'].apply(lambda x: contraction_(x))\n",
        "  df_new['tweet']=df_new['tweet'].apply(lambda x : re.sub('[a-zA-Z0-9_-]*@[a-zA-Z0-9_-]+\\.com',' ', x))\n",
        "  df_new['tweet']=df_new['tweet'].apply(lambda x : re.sub(regex, '', x))\n",
        "  df_new['tweet']=df_new['tweet'].apply(lambda x : re.sub('[^\\w ]+','',x))\n",
        "  df_new['tweet']=df_new['tweet'].apply(lambda x : re.sub('\\s{2,}',' ',x))\n",
        "  df_new['tweet']=df_new['tweet'].apply(lambda x : BeautifulSoup(x,'html').get_text().strip())\n",
        "  df_new['tweet']=df_new['tweet'].apply(lambda x : remove_accented_chars(x))\n",
        "  df_new['tweet']=df_new['tweet'].apply(lambda x : ' '.join([w for w in x.split() if w not in stopwords]))\n",
        "  df_new['tweet']=df_new['tweet'].apply(lambda x : convert_to_root(x))\n",
        "  return df_new"
      ],
      "execution_count": 147,
      "outputs": [
        {
          "output_type": "stream",
          "text": [
            "CPU times: user 669 ms, sys: 68.3 ms, total: 737 ms\n",
            "Wall time: 737 ms\n"
          ],
          "name": "stdout"
        }
      ]
    },
    {
      "cell_type": "code",
      "metadata": {
        "id": "7mfJNFELK2B0",
        "outputId": "cd8fc37b-009b-4b96-eb74-0b5e847e0c9c",
        "colab": {
          "base_uri": "https://localhost:8080/",
          "height": 402
        }
      },
      "source": [
        "df_new"
      ],
      "execution_count": 52,
      "outputs": [
        {
          "output_type": "execute_result",
          "data": {
            "text/html": [
              "<div>\n",
              "<style scoped>\n",
              "    .dataframe tbody tr th:only-of-type {\n",
              "        vertical-align: middle;\n",
              "    }\n",
              "\n",
              "    .dataframe tbody tr th {\n",
              "        vertical-align: top;\n",
              "    }\n",
              "\n",
              "    .dataframe thead th {\n",
              "        text-align: right;\n",
              "    }\n",
              "</style>\n",
              "<table border=\"1\" class=\"dataframe\">\n",
              "  <thead>\n",
              "    <tr style=\"text-align: right;\">\n",
              "      <th></th>\n",
              "      <th>count</th>\n",
              "      <th>hate_speech</th>\n",
              "      <th>offensive_language</th>\n",
              "      <th>neither</th>\n",
              "      <th>class</th>\n",
              "      <th>tweet</th>\n",
              "    </tr>\n",
              "  </thead>\n",
              "  <tbody>\n",
              "    <tr>\n",
              "      <th>0</th>\n",
              "      <td>3</td>\n",
              "      <td>0</td>\n",
              "      <td>3</td>\n",
              "      <td>0</td>\n",
              "      <td>1</td>\n",
              "      <td>ray rice bitch xans lean punch</td>\n",
              "    </tr>\n",
              "    <tr>\n",
              "      <th>1</th>\n",
              "      <td>3</td>\n",
              "      <td>0</td>\n",
              "      <td>3</td>\n",
              "      <td>0</td>\n",
              "      <td>1</td>\n",
              "      <td>bad bitch</td>\n",
              "    </tr>\n",
              "    <tr>\n",
              "      <th>2</th>\n",
              "      <td>3</td>\n",
              "      <td>0</td>\n",
              "      <td>3</td>\n",
              "      <td>0</td>\n",
              "      <td>1</td>\n",
              "      <td>1000gramsbee bitch</td>\n",
              "    </tr>\n",
              "    <tr>\n",
              "      <th>3</th>\n",
              "      <td>3</td>\n",
              "      <td>0</td>\n",
              "      <td>3</td>\n",
              "      <td>0</td>\n",
              "      <td>1</td>\n",
              "      <td>rt fredosantana300 bitch forget hit</td>\n",
              "    </tr>\n",
              "    <tr>\n",
              "      <th>4</th>\n",
              "      <td>3</td>\n",
              "      <td>0</td>\n",
              "      <td>3</td>\n",
              "      <td>0</td>\n",
              "      <td>1</td>\n",
              "      <td>act like little booshie bitch friend hoe</td>\n",
              "    </tr>\n",
              "    <tr>\n",
              "      <th>...</th>\n",
              "      <td>...</td>\n",
              "      <td>...</td>\n",
              "      <td>...</td>\n",
              "      <td>...</td>\n",
              "      <td>...</td>\n",
              "      <td>...</td>\n",
              "    </tr>\n",
              "    <tr>\n",
              "      <th>4285</th>\n",
              "      <td>3</td>\n",
              "      <td>3</td>\n",
              "      <td>0</td>\n",
              "      <td>0</td>\n",
              "      <td>0</td>\n",
              "      <td>maliktender gayer 2 faggot bed together128129</td>\n",
              "    </tr>\n",
              "    <tr>\n",
              "      <th>4286</th>\n",
              "      <td>3</td>\n",
              "      <td>2</td>\n",
              "      <td>1</td>\n",
              "      <td>0</td>\n",
              "      <td>0</td>\n",
              "      <td>ok bitch wut think shesaid believe u describe ...</td>\n",
              "    </tr>\n",
              "    <tr>\n",
              "      <th>4287</th>\n",
              "      <td>3</td>\n",
              "      <td>2</td>\n",
              "      <td>1</td>\n",
              "      <td>0</td>\n",
              "      <td>0</td>\n",
              "      <td>rt lady_blahblah furrybah paypay voice rt 80sb...</td>\n",
              "    </tr>\n",
              "    <tr>\n",
              "      <th>4288</th>\n",
              "      <td>3</td>\n",
              "      <td>2</td>\n",
              "      <td>1</td>\n",
              "      <td>0</td>\n",
              "      <td>0</td>\n",
              "      <td>scandal negro bed wenchs fairytale propaganda ...</td>\n",
              "    </tr>\n",
              "    <tr>\n",
              "      <th>4289</th>\n",
              "      <td>3</td>\n",
              "      <td>2</td>\n",
              "      <td>1</td>\n",
              "      <td>0</td>\n",
              "      <td>0</td>\n",
              "      <td>chasebasford chase god damn faggot 12851412855...</td>\n",
              "    </tr>\n",
              "  </tbody>\n",
              "</table>\n",
              "<p>4290 rows × 6 columns</p>\n",
              "</div>"
            ],
            "text/plain": [
              "      count  ...                                              tweet\n",
              "0         3  ...                     ray rice bitch xans lean punch\n",
              "1         3  ...                                          bad bitch\n",
              "2         3  ...                                 1000gramsbee bitch\n",
              "3         3  ...                rt fredosantana300 bitch forget hit\n",
              "4         3  ...           act like little booshie bitch friend hoe\n",
              "...     ...  ...                                                ...\n",
              "4285      3  ...      maliktender gayer 2 faggot bed together128129\n",
              "4286      3  ...  ok bitch wut think shesaid believe u describe ...\n",
              "4287      3  ...  rt lady_blahblah furrybah paypay voice rt 80sb...\n",
              "4288      3  ...  scandal negro bed wenchs fairytale propaganda ...\n",
              "4289      3  ...  chasebasford chase god damn faggot 12851412855...\n",
              "\n",
              "[4290 rows x 6 columns]"
            ]
          },
          "metadata": {
            "tags": []
          },
          "execution_count": 52
        }
      ]
    },
    {
      "cell_type": "code",
      "metadata": {
        "id": "4npnBjeFLoEI"
      },
      "source": [
        "from tensorflow.keras.preprocessing.text import Tokenizer \n",
        "from tensorflow.keras.preprocessing.sequence import pad_sequences\n",
        "from tensorflow.keras.models import Sequential\n",
        "from tensorflow.keras.layers import Dense, Flatten, Embedding, Dropout, Conv1D, MaxPool1D, GlobalMaxPooling1D, MaxPooling1D\n",
        "from tensorflow.keras.optimizers import Adam"
      ],
      "execution_count": 116,
      "outputs": []
    },
    {
      "cell_type": "code",
      "metadata": {
        "id": "x_ceX_NoMbBJ"
      },
      "source": [
        "from sklearn.model_selection import train_test_split"
      ],
      "execution_count": 54,
      "outputs": []
    },
    {
      "cell_type": "markdown",
      "metadata": {
        "id": "4_Zb1FZSMmbc"
      },
      "source": [
        "Tokenization"
      ]
    },
    {
      "cell_type": "code",
      "metadata": {
        "id": "67jkGPqHMowT"
      },
      "source": [
        "text = df_new['tweet'].tolist()"
      ],
      "execution_count": 55,
      "outputs": []
    },
    {
      "cell_type": "code",
      "metadata": {
        "id": "haKQPrwdMu3u",
        "outputId": "c15702fd-d35a-4d1b-f0af-7b0542ff66f2",
        "colab": {
          "base_uri": "https://localhost:8080/"
        }
      },
      "source": [
        "text[:2]"
      ],
      "execution_count": 58,
      "outputs": [
        {
          "output_type": "execute_result",
          "data": {
            "text/plain": [
              "['ray rice bitch xans lean punch', 'bad bitch']"
            ]
          },
          "metadata": {
            "tags": []
          },
          "execution_count": 58
        }
      ]
    },
    {
      "cell_type": "code",
      "metadata": {
        "id": "zFkdWlxfMyFB"
      },
      "source": [
        "token = Tokenizer()\n",
        "token.fit_on_texts(text)"
      ],
      "execution_count": 59,
      "outputs": []
    },
    {
      "cell_type": "code",
      "metadata": {
        "id": "XJ2W3-oYNBXI",
        "outputId": "7a5a4b44-8628-4c9e-c73f-92214db4c06d",
        "colab": {
          "base_uri": "https://localhost:8080/"
        }
      },
      "source": [
        "token.word_counts.keys()"
      ],
      "execution_count": 81,
      "outputs": [
        {
          "output_type": "execute_result",
          "data": {
            "text/plain": [
              "odict_keys(['ray', 'rice', 'bitch', 'xans', 'lean', 'punch', 'bad', '1000gramsbee', 'rt', 'fredosantana300', 'forget', 'hit', 'act', 'like', 'little', 'booshie', 'friend', 'hoe', 'see', 'sweater', 'flashy', 'wanna', 'get', 'to', 'boyfriend', 'puppy', '128514128514128514', '8220purrdylaylayxxx', 'im', 'yung', 'jay', 'yo', 'mama', 'confuse', 'u8221', 'lol', 'manner', 'uptmillz', '128514', 'dimpledjoint', 'interesting', 'curtyndacut', 'ur', 'child', 'father', 'be', 'not', 'shitthen', 'look', 'mirror', 'dumb', '8230', 'people', 'ass', 'niggas', 'amp', 'stay', 'far', 'away', 'preppy', 'argue', 'party', 'bottle', 'fr', 'marcus2kings', 'yeah', 'nigga', '128532128532128532', 'tyler', 'smith55', 'talk', 'hick', 'san', 'antonio', 'ride', 'big', '45', 'console', 'lyvvvm', 'lmao', 'mind', 'help', 'fuck', 'theses', 'dawg', 'morningjoe', 'prove', 'wrong', 'rightie', 'liberal', 'use', 'fact', 'con', 'emotion', 'decision', 'damn', 'teabagger', 'motto', 'ozwashere', 'urself', 'man', 'u', 'girl', 'fuckin', 'loser', 'bro', '8220glitteredinpink', 'race', 'dickpussy', 'best8221', 'thot', 'guy', 'throw', 'stupid', 'fit', 'whyyyyy', 'grow', 'ball', 'ugh', 'hate', 'answer', 'call', 'ewwwwwww', 'hi', 'bye', 'type', '10', 'date', 'da', 'pussya', 'shit', 'weak', 'wifes', 'new', 'ursula', 'fat', 'wear', 'legging', 'belly', 'shirt', 'toomessedup', 'fucking', 'retarded', 'question', 'dude', 'proudly', 'volunteer', 'baby', 'daddy', '234', '5whether', 'pussy', 'property', 'sponkymusiclady', 'imposter', 'idol', 'word', 'god', 'describe', 'saviour', 'israel', 'revelation', 'envious', 'niggah', 'cold', 'aunt', 'say', 'go', 'shower', '128524', 'half', 'pron', 'all', 'anyways', 'one', 'thigh', 'gap', 'ask', 'well', 'jwreich142', 'steveworks4you', 'extremely', 'bros', 'food', 'reesezamora', 'daxmw23', 'dax', 'love', 'kinghorsedick', 'nowadays', 'threesome', 'generation', 'tell', 'everybody', 'redd', 'kill', 'body', '128530128524127911', 'grownassmidget', 'i8217', 'm', 'you8217re', 'mom8217s', 'have', 'dad8217s', 'who8217s', 't8230', 'schulzgrayson', 'dswizzle3', 'do', 'mom', 'better', 'shut', 'mouth', 'duck', 'double', 'tap', 'imma', 'honest', '128514128514', 'noworriezzzz', 'bout', 'x', 'money', 'dope', 'dick', 'addict', 'fool', 'think', 'neva', 'jaydillz', 'tight', 'today', 'fine', 'excited', 'ratchet', 'country', 'ashamed', '1onlysolo', 'fuc', 'nasty', '128534128534128534', '8220codeinequeeeen', 'tired', 'corny', 'vine', 'ugly', 'face', 'voice', 'sexy', '128561', 'ms', 'marrie', 'need', 'stevestfler', 'know', 'want', 'rock', 'wit', '128175', 'jordan536633', 'heydenbunsyolo', 'bird', 'lovin', 'huh', 'thing', 'sir', 'page', 'oh', 'crazy', 'ken', 'folk', 'family', 'axelandrewsss', '1279198220tyrxny', 'basic', 'tongue', 'ring', 'suck', 'costume', 'recipe', '8220ohh', 'kaila', 'ready', 'work', 'http8230', 'indiana', 'niccas', 'pose', 'win', 'game', '8220kingdakkar', 'control', 'cute', 'japanese', 'teen', 'tiight', 'sucking160cock', 'guysssss', 'mean', '1285151285151285158220itslizkhalifa', '07cannon', 'maaan', 'true', '1285548221', 'lovelifeest13', 'west305', 'black', 'persian', 'rug', 'design', 'couple', 'nut', 'stain', 'dingy', 'boy', 'bobby', 'dickhead', '8220oprahsidenigga', '3', 'shmurda', 'songs1', 'hot', 'nigga238221', 'levar', 'burton', 'shatner', 'lkxox', 'exactly', 'johnnyfootbali', 'start', 'flex', 'player', 'week', 'trick', 'play', 'catching', 'pass', 'flip', 'smashing', 'al8230', 'trynna', 'line', 'me128553', 'rayiopez', 'wcwhow', 'toam', 'hoetweet', 'real', 'freshestcrook', 'mamatosha', 'lyin', 'sis', 'light', 'bulb', 'wide', 'world', 'upload', 'pic', 'caption', 'son', 'omg', 'find', 'outside', '8220blyth33s', '8220chaserojo', 'lip', 'pussy8221', 'lilshwenda', '128074', 'crime', 'partner', '128176128299', 'going', 'mad', '128080', 'lil', 'doctor', '128155128153128149', 'police', 'tactgear', 'article', 'flaw', 'take', 'chp', 'brpd', '2', 'ghetto', 'gals', 'jammy', 'hipurnt', '9', 'theonemiss', 'luu', 'ryrystine', 'aye', 'buy', 'bombass', 'brownie', 'tomorrow', 'wigga', 'jacklynannn', 'contain', 'marijuana', 'b8230', 'janeypew', 'nigger', 'r4apersec', 'cutler', 'step', 'int', 'nice', 'flat', 'footed', 'cunt', 'haydenhill13', 'aknadnrye', 'sam', 'james3', 'khalilreed', 'freak', 'watch', 'stop', 'ampamp', 'tweet', 'la', 'everyday', 'mjcandance', 'pacdagoat', 'devoted2mariah', 'bettathanlerun', 'mznursebee14', 'pyroballypoop', 'wtf', 'sound', 'waanderluste', 'would', 'chink', 'leave', 'blue', 'jeronimosolano', 'hard', 'trash', 'tho', 'ome23y', 'edgewood', 'basketball', 'court', 'lebron', 'goodbye', 'sports', 'center', 'tan', 'main', 'sike', 'naw', 'smelly', 'doe', 'chelseypaige42', 'peep', 'slap', 'smile', 'billperiman', 'po', 'st', 'bet', 'ape', 'attack', 'muslims', 'bitchin', 'newlegendaryera', 'twitter', 'give', 'unrealistic', 'view', 'relationship', 'fight', 'comin', 'sonoma', 'county', 'handle', 'gutto', 'style', 'straight', 'north', 'bay', 'forever', 'bust', 'carelessone92', 'place', 'alec', 'myers12', 'valentines', 'day', 'booty', 'happy', 'easter', 'dirty', 'nfg', 'wge', 'findtheeggs', 'eggsareinherass', 'wild', 'tellin', 'liessss', 'marilyn', 'monroe', 'set', 'standard', 'achieve', 'society', 'rafidangelo', 'taste', 'pumpkin', 'spice', 'latte', 'lana', 'del', '8220residinero', 'tonyjetsfoo', 'haha8221', 'hahahahahahahahahaahah', 'deez', 'nuts', 'photo', 'friday', 'bitches160', 'glamazon', 'ladykimora', 'rupaulsdragrace', 'welovequeens', '128536128536128536128132128132', 'imneverchillin', 'can', 'finish', '6', 'inch', 'sub', '13', '5', 'spend', 'weed', 'clothe', 'n', 'jusdahl', 'somei', 'kitchen', 'glass', 'wine', 'rub', '8220bonnoxxx', 'webbmadethis', 'mane', 'skinny', 'playin', 'weight', 'class', 'level8221', '128557128557128557128557128557128557128557128557128557128557128557128557', 'especially', 'dem', 'souf', 'dat', 'outrageous', 'humonthese', 'thank', 'jesus', 'wing', 'uncanny', 'ability', 'tend', '8220unbearabletier', 'eat', 'oomf', '128064128064128064128514128514', 'time', 'fo', 'regardless', 'welcome', 'titty', 'typa', 'video', 'silly', 'otbva', 'judges', 'retard', '0hallis0n', 'j', 'cole', 'queer', 'moment', 'finally', 'bed', 'bladder', 'decide', 'piss', 'urbanengiish', 'sharkeishad', 'lose', 'brute', 'force', 'knockout', 'buss', 'moneydriven', 'y', 'pharary04', 'life', '128527128564bye', 'stranger', '128536', 'versacegawdd', 'expect', '40', 'yr', 'old', 'rap', 'rape', 'mother', 'nah', 'sleep', 'car', 'fucker', 'drive', 'pump', 'break', 'gusunger', 'feel', 'band', 'release', 'spiritualize', 'millyvanillyy', 'noooo', 'let', 'baltimore', 'ratchetttttt', 'loyal', 'nicca', 'mins', 'min', 'assignment', 'lmfaooooo', 'sicilianinheels', 'y3lla', 'basically', 'curve', '25', 'year', 'support', 'kid', 'gratitude', 'die', 'cloud', 'stuff', 'come', 'phonebut', 'business', '8220youngmintono', 'stress', 'ion', '8220bearly', 'sober', 'b', '1285578221this', 'yes', 'shitty', 'platinum', 'blonde', 'skunk', 'hair', 'cut', 'bradleey', 'lmfaoooo', 'yooo', 'elevator', '128557128557', 'share', '128530even', 'meeshdc', 'condemn', 'chris', 'brown', 'woman', 'abuser', 'logical', 'shantaughther', 'catfish', 'thinkin', 'slick', 'catch', '8220fabbymichelle', 'aw', 'cry', '128557128557128557128557', 'man8221you', 'argylegray', 'jtrevorhowerton', 'hollyrfisher', 'fly', 'worthless', 'scum', 'meet', 'famous', 'starsell', 'dfkinlope', 'sneeze', 'close', 'wake', 'focus', 'bruh', '100', 'million', 'dollar', 'selfish', 'hoes', 'inside', 'remember', 'andhiphop', 'stevie', 'turn', 'housewife', '128553128514128175', 'ton', 'swing', 'benjibrown1', 'super', 'sos', 'ppl', 'ig', 'ygjohnston', 'white', 'g', 'choppin', 'dragonflyjonez', 'jeans', 'bluer', 'denabitch', 'lie', 'sick', 'yoliethejew', 'wast', 'overrate', 'ht8230', '8220luaboo', '62', 'long', 'monkey', 'arm', 'good', 'cuddle', 'buddiesso', 'heard8221', 'ahaha', 'female', 'once128514128514128514', 'atlanta', '15', 'nd', 'number', 'mufuckas', 'followin', 'hold', 'door', 'open', 'pop', 'pussypop', 'gum', 'pill', 'tv', 'make', 'attractive', 'yawn', 'wee', 'walk', 'tense', 'sup', 'wae', 'foot', 'tank', 'motherfucke', 'arse', '8220neebaddazz', 'amanda', 'eva', 'cheat', 'fizz', 'geddit1285648221', 'there', 's', 'dat128564', 'amber', 'leaf', 'paper', 'cani', 'nisa', 'lazy', '128527', 'phone', '128074128074998665039998665039', 'tibaburger', 'zachfulton72', 'knoxville', 'right', 'strip', 'boaaa', '128588', 'ido', 'me2', 'vodka', 'bent', 'over128553128131', 'dyke', 'sell', 'pinche', 'adina', 'staywavybruh', 'pregnant', 'shaqualidaemommy', 'barackeishamommy', 'bio8230', 'trust', 'volunteers', 'info', 'wow', 'establish', 'darealnano1900', 'wo', 'record', 'tryna', 'felony', 'touch', '8220xo', 'omiexo', 'single', 'bone', '1285811285648221', 'hella', 'mess', 'thought', 'try', 'fake', 'carsgtgtgt', 'brownskinliquor', 'onlybiebs1d', 'belieber', 'lt3', 'cee', 'murda94', 'ya', 'birthday', 'niglet', 'local', 'global', 'instagram', 'swear', 'crownkingz', 'lancaster', 'cool', 'againim', 'lot', 'quiet', 'prettygrl', 'rocky', 'bbluedreamm', 'kelliestebbins', 'original', 'faggots128530128557', 'senorsteez', '128514128176128182128184', 'thejigisup', 'stuck', 'dis', 'santanadagreat', 'understand', '128530if', 'strap', 'fck', 'bogglethemind83', 'aj0427', 'portugal', 'whoopass', 'zoom', 'run', 'amennn', 'womenlovebrickz', 'girlfriend', 'heat', 'chick', 'staygetnutty', 'haha', 'private', 'industry', 'celebrate', 'bday', 'past', 'month', 'wait', 'nig', '128513', 'itsmekevin10', 'josie618', 'thatslutadrian', 'zaidsaracini', 'papigabs', 'nigguh', 'creek', 'nysanimal', 'donovans', 'wife', 'pissing', 'forgiato', 'f', 'dallas', 'idgaf', 'drug', 'credit', 'card', 'check', 'jst', 'dnt', 'halfassed', 'kittty', 'jpg', 'nosfiend215', 'steezeyflow', 'jump', 'conversation', 'that', 'qwyenton', 'summer', 'justcallme', 'duh', 'karmas', 'nothing', 'gucci', 'gold', 'rolex', 'worth', 'billions', 'mystroapollo', '128514bitch', 'hatin', 'finer', 'mf', '128585', 'itskingdee', 'gorgeouscamry', 'thang', 'unfollow', '8220surfboard101', 'vomitdatruth', 'house', 'comeout8221', 'churchs', 'chicken', '8220', 'jiare', '8220wb', 'pooh', '3x', '1280648221', 'probably', '128553', '8220chhicoo', 'vsamone', 'bitch8221', 'signsofcockblockin', 'gtrt', 'tribexyunglion', 'fuckniggah', 'gon', 'partnas', 'cuz', 'dey', '8220ohshititsrandy', 'brianlovesass', '128514128514128557128567', 'bacon', 'grease', 'werewolf', 'save', 'nope', 'lmaoooooo', 'dave', 'scream', '8220jooselhynn', 'gay', 'did8221', 'quit', 'subbing', 'fag', 'idk', 'maybe', 'bitter', 'genuine', 'struggle', 'iank12', 'bitches', 'luvcake', 'cum', '128527128069128166128166', 'loudly', 'cheer', 'netherlands', 'rosa', 'mexicano', 'value', 'z0mbiedance', 'gabby', 'jackie', 'tea', 'packet', 'ona', 'd', 'lo', 'pure', 'suckas', 'problem', 'mans', 'address', 'discuss', 'squash', 'grudge', 'prepare', 'night', 'cod', 'advancedwarfaredayzero', 'hell', 'believe', 'toort', 'darealquitam', 'vonshayeb', 'small', '8220tay', 'torrez', 'wealthy', 'drtruth247', 'handsome', 'hoes8221broke', '8220osmanmasabah', 'spit', 'show', 'raise', 'trait8221', 'victorsmith90', 'jimachterfeld', 'dan', 'bernstein', 'fun', 'radio', 'creep', 'block', 'sudden', 'craving', 'oreo', 'cookie', 'temporary', 'beast', 'dese', 'jus', 'poppa', 'beat', 'knotch', 'lesser', 'hope', 'accidentally', 'remind', 'b4', 'social', 'network', 'fame', 'headsyoulose', 'write', 'poem', 'swag', 'arella', 'pedicure', 'ex', 'tanning', '8220whattheffacts', 'orangutan', 'sex', 'actress', 'julia', 'roberts8221smart', 'monkey128514', 'whenarappersaid', 'creator', '128073', 'officiallyice', 'guiltypleasure', 'youtubevineig', 'broke', 'dream', 'rich', 'cream', '8220ogeezlouise', 'joebudden', 'chicks', 'don8217', 't', 'support8221', 'bra', 'cause', 'girls', 'fitness', 'louievree', 'proud', 'sasuke', 'sakuras', 'daughter', 'uchiha', 'narnfraudswiftee', 'narnfraud', 'pathetic', 'disturbed', 'pair', 'thugsmngop', 'proudstribpol', 'pearls', 'kisses', 'tic14tac', '128563', 'deep', 'miss', 'seriously', 'animal', 'cracker', 'slight', 'fruit', 'loop', 'aftertaste', 'way', 'ckillatrippy', 'knock', 'fair', 'reno', 'dress', 'cowgirl', 'slut', 'nitc', 'hash', 'tag', 'weave', 'rickbakas', 'toshe', 'kind', 'drag', 'captain', 'caveman', 'nnn', 'taecocky', 'september', 'mrfrankocean', 'kim', 'k', '4', 'bounce', 'rain', 'wana', 'nap', 'smh', 'tyrese', 'dead', 'kicking', 'pam', 'femshaveballz', 'unfortunate', 'clothing', 'choice', 'crooked', 'complete', 'motif', 'perfectly', 'complain', 'thirst', 'trap', 'model', 'stfu', 'myunpopularopinion', 'spanish', '11', 'dressing', 'slutty', 'hoggin', 'blunt', 'order', 'chinese', 'bring', 'cat', 'jacobbbacker', 'fucktyler', 'faggot', 'listen', 'music', 'bodyyou', 'bugattiyou', 'maseratiyou', 'rob', 'bank', 'pierce', 'pear', 'till', 'sleepy', '128564', 'tombradysego', 'sorry', 'luck', 'bleedingtrap', 'tooth', 'chainwhite', 'cocaine', 'raynexxx', 'dad', 'dinnerwatche', 'nhl', 'awards', 'bar', 'kings8230', 'ripvuhsace', 'bore', 'wonder', 'bc', 'abo8230', 'official', 'missile', 'halawa0402', 'muzzie', 'jewjitsugrl', 'joedouglas1', 'darknight420', 'blackorchidm16', 'em', 'craig', 'keisha', 'badd', 'tower', 'city', 'heart', 'warm', 'paint', 'kingcurtisjayy', '128553128514', 'rep', 'o13', '1x', 'tayscalf', 'beam', 'descend', 'heavens', 'loud', 'live', 'change', 'shank', 'ceviche', 'ogsitti', 'hey', 'boyfriendme', 'iamhusk', 'lmfaoo', 'coppo', 'lmfao', 'zoo757', 'disrespectfulty', 'sooo', 'fast', '8220idntwearcondoms', 'shocked', 'lol8221', 'causewereguy', '1st', '120', 'will', 'tit8230', 'lightskin', 'necessity', 'cruel', 'bigboybeezy', 'kanye', 'gt', 'tupac', 'yep', 'move', 'tears', '8220thedouch3', 'relationshipgoals', 'queenallyssa', 'thedouch3', 'sweetie', 'retard8221', 'lnmyopinion', 'nicer', 'easy', 'hurt', 'death', 'head', 'bitchiedior', 'street', 'tweetin', 'pantie', 'bein', 'wet', 'chu', 'trillion', 'witchu', 'dominican', 'randomly', 'airrogance', 'legal', 'ridin', 'round', 'rambo', 'cousin', 'hating', 'fault', 'chilllol', 'picture', 'care', 'brutus', 'different', 'daddys', 'drop', 'second', 'nijel', 'mimi', 'hand', '1285298221128514128514128514', 'throat', 'brooklynkc23', 'vivalaquintaa', 'jdimenstein', 'jagexlyon', 'trouble', 'percent', 'chance', 'mistake', 'grizzboadams', 'theasacrawford', 'shoulda', 'learn', 'bake', 'cake', 'young', 'thug', 'twin', 'track', 'definitely', 'ehssecretadmire', 'cartermarteeny', 'murder', 'mann', 'teets6', 'club', '128075', '128514128514128514128514', 'hobbit', 'nee', '128514128514128514128514128079128079128079', 'fallin', 'bonnoxxx', 'smokin', '87', 'anytime', 'somebody', 'wan', 'hear', 'funny', 'stevestfl', 'shawty', 'special', 'dasmacker', 'mariners', '21', 'free', 'cap', 'poo', 'tl', 'munro', 'molly', 'preach', 'poonsoaker', 'pretty', 'stevestockmantx', 'dunce', 'eliminate', 'education', 'groom', 'teabag', 'voter', 'lolthedumbestteabagger', 'tweetbelow', 'person', 'bitches128525127825', 'chase', 'in', 'til', 'driver', 'seat', 'benz', 'brothaluke', 'cdiddy', 'news', 'spam', 'mojogreen1217', 'tuck', 'tittie', 'winter', 'mr8230', 'justinmiculka01', 'trippin', 'dearawkward', 'awkward', 'th', 'result', 'pole', 'eagle', 'lady', 'key', 'happiness', 'alwayznpolo', 'cop', 'tarah', 'elongate', 'nose', 'shape', 'horse', 'dactyl', 'scared', 'entertain', 'attention', 'griff', 'thegreat', 'drake', 'best', 'tuat', 'sayin', 'obey', 'jrock', 'hahahahah', 'burrgos', 'hang', 'savage', 'sock', 'drawer', '8220ciscoallday', 'js8221no', 'dou', 'nabilabuamirah', 'baker', 'pay', 'twinkie', 'truth', 'once8230', 'theblacknerd', 'wyd', 'goligoski', 'bleed', 'ambulance', 'guess', 'sill', 'mcgrath', 'frisbee', 'mr', 'lewis', 'brookebrooklyn', 'ohh', 'yaa', 'brooke', 'pinkie', 'toe', 'bang', 'coffee', 'table', 'twat', '8220iank12', 'tempt', 'piece', 'fuckiphones8221', 'yasss', 'yass', 'talkin', 'adrian1', 'knowsu', 'nigglet', '128530128536', 'fuq', 'ho', 'imjustvee', 'text', 'low', 'muthafxcka128520', 'younggizzle', 'stevennn17', 'thottie', 'simple', 'crutch', 'leelucas', 'prettykell', 'feed', 'burger', '128514128514128128', 'mackgotti', '8220smco71', 'fever', '8221128514', 'rihannahasaid', 'ticket', 'chemistry', 'snitch', 'qwestsidefoolay', '8220miragotthejuice', 'woah', 'love128566128514128514128557128557', 'peace', 'extra', 'southsidevic', 'keebler', 'elf', 'legalize', 'tree', 'trunk', 'shi8230', 'hollisbiggs', 'base', 'starbucks', 'drink', 'admit', 'coley', 'aerii', 'tf', '1sonofyahweh', 'praise', 'sonsof', 'satan', 'realnigger', 'qualitatie', 'patrickquelo', 'homeboy', 'six', 'tcot', 'pull', 'roll', 'whoa', 'pumpkinheaddd', '128530', '128520', 'kieffer', 'jason', 'treat', 'settin', 'trend', 'rappin', 'wearin', 'mixtape', 'entirely', 'madamecurry', 'rnadjorell', 'soul', 'the', 'paradox', 'kryshazeyy', 'fall', 'comb', 'ohhmyytodd', '8220itsnotharold', '7', '20', 'hoe8221', 'debate', '8220garcialaura', 'virgilio', 'lla', 'heartbroken', 'tx', 'inniz', 'lmao8221', 'chill', 'laugh', 'vdawg', 'nowashington', 'tmacc', 'gfg', 'bitchby', 'bobbyshmurdags9', 'yea', 'workout', 'craziestsex', '90', 'title8230', 'keyshawnswag', 'itty', 'bitty', 'committe', 'harrington', 'midnight', 'snacka', 'smart', 'peter', 'griffin', 'flawgen', 'standing', 'uncalled', 'attitude', 'kelseyhison', 'jodyhighroller', 'thi', 'basedgod', 'jaspoo', 'vintage', 'ago', 'fucktravonn', 'tropicalkyle', 'xxx', 'joey', 'd26', '187', 'killin', 'worried', 'cock', 'sucker', 'worry', '128540', 'barackobama', 'smoke', 'nothinglikeit15', 'halloween', 'youcanhaveher', '9996', '127850', 'sadaclay', 'salad', 'rt8220vianawf', 'salad8221', 'boss', 'remix', '128514128514128557', 'school', 'prom', '13th', 'freddy', 'vs', '128554', 'fyps', 'jordan', 'puttin', 'impress', 'gedmelle', '17', '128544128545das', 'finna', 'screamn', 'freemoneymelle', 'tekiaa', 'earth', 'meamp', 'sure', 'dgaffff', '128540128076', 'moan', 'own', 'sza', 'freckle', 'devonceeknowles', 'uhm', 'wednesday', 'suppose', 'sit', 'army', 'constancio', '82201proudmahomiee', 'postprettypussy', 'milk', '80sbaby4life', 'wheat', 'organic', 'malibubarbie', 'dark', 'blackampmild', 'sandwhich', 'blowy', 'eatte', 'itold', 'rabie', 'hoppin', 'stank', 'pussypoppin', 'dan1ellep', 'brendacoyt', 'ahah', '128514128514128514128527128076', 'kendracae', '8220arianagrande', 'flappy', 'joke', 'lmaoo', '8220leanandcuisine', 'thatyou', 'match', 'orbad', 'bat', 'eyelashesare', 'matching', 'or8221', 'buddy', 'train', 'nanosecond', 'kekepalmer', 'energetic', 'aren8217', 'offensive', 'ro4reals', 'lt', '8220nichytay', 'post', 'favorite', '8220mosoknowso', 'photographer', 'story', 'believethat8221', 'cantknockthahussle', 'schoolboycole', 'spitted', 'marckoo', 'youzza', 'foreigngawdess', '128107', 'count', '9995128530', 'loganwarner12', 'yumiyoko', 'cyrus', 'rookie', 'cash', 'lauchiemac', 'shirleeey', '8220satisfied', 'hispanic', 'church', 'respond', 'her128514128514', 'state', 'cashbethemotive', 'havemercyyy', 'killquana', 'ooh', 'gucci1017', 'kay', 'laa', 'stand', 'gratata', '128526', 'thatirvnation', 'satisfied', 'cancer', 'pray', 'killaaakam', 'gassin', 'bp', 'yas', 'niggad', 'htownsnunu', 'it128588128588vianawf', 'rider', 'blaxican', 'ova', '128557128514128128128514128079', 'dip', '1041219999665039', 'ilovebamf', '530', 'nutty', 'niff', 'shai', 'yaya', 'nick', 'corner', 'fo8230', 'pipe', 'tyson', 'erinscafe', 'baseball', 'actually', 'met', 'jon', 'stewart', 'yankees', 'uglyassayekay', 'ass8230', 'givenchy', 'taurusismagic', 'tauruss', 'congratulate', 'getcho', 'triccin', '1', 'momma', 'pac', 'ladyvodkax', 'bare', 'bitchsee', 'hop', 'bus', 'phatty', 'somethingod', 'throwin', 'lob', 'roach', 'orleans', 'askwhy05', 'hat', 'beard', 'tryin', 'shortcut', 'mrinfernushd', 'squad', 'builder', 'push', 'stair', 'accident', 'water', 'floor', 'kick', 'abstractlife', 'claim', 'saint', 'jeremy', '2girls1richard', 'thereaipinkyxxx', 'asiaj', 'w', 'ii', 'iick', 'icecube', 'nwa', 'poochda63', 'bodiedxo', 'iv', 'braid', 'thostraight', 'curl', 'build', 'workshop', 'bjayblast', 'literally', 'bakedalaska', 'flight', '128557', 'dahliafoxx', 'hoefact', 'happen', 'shoot', 'sister', 'blade', 'everynight', 'should', 'mute', 'michaelangelo', 'derekisnormal', 'yaaaaaaasss', 'theyellonegro', 'youngtravo', 'dryer', 'fell8230', 'olmelonhead', 'buuut', '128129', 'scrappy', '128056974965039', 'stage', 'audience', 'donations', 'christy', 'mackget', 'thousand', 'sexbitch', 'delete', 'hour', 'gigantic', 'kinglekan90210', 'forgive', 'hoesgirls', 'penisgravy', 'weenis', 'swingin', 'color', 'wish', 'brother', 'tron', 'california', 'princevelly', 'deserve', 'queen', '128543128543128543128543128543', 'miketattaglia', 'talmbout', '128530128545128074128080999665039', 'tripping', '128581128554999665039', 'glad', '128170', 'mexico', 'annnna', 'dav69', '128521', 'menu', 'fourpiece', 'nugget', 'yup', 'aloha', 'hoesss', 'clippers', 'viri', 'bracefacee', 'lungfiber', 'emotional', 'clingy', 'red', 'caseytu88662466', 'otter', 'pet', 'bengybenfrank', 'follow', '128529', 'anime', 'revolve', 'teenage', 'stevemaxboxe', 'egotistical', 'huge', 'kod', 'wind', 'blow', 'swirlg0ddess', 'bae', 'gonn', 'sumn', 'chiefkeef', 'broski', 'grat', 'haye', 'chrisbrown', 'cmpunk', 'amusing', 'agree', 'evanbecker513', 'triggaplease', 'morbidmermaid', 'zooyorkinit', 'shayisdabomb', 'rainbowblake', 'dumbass', 'intention', 'darkliquanigga', 'concentrate', 'convenience', 'store', 'clerk', 'keystone', 'sale', 'form', 'cecetooshort', 'fw', 'exes', 'dhet', 'btchh', 'animosity', 'reason', 'fill', 'lost128554', 'ah', 'commas', 'josesitoriveraa', 'boi', 'popsley', '83ar', 'aka', 'meek', 'mill', 'efethegoddess', 'wuw', 'wun', 'uv', 'send', 'mi', 'snobby', 'nikkilenn', 'promise', 'poke', 'lion', 'smoking', 'brooklyn', 'high', 'giraffe', 'ac', 'hussle', 'driswitdacake', 'fwu', 'ha', 'na', 'xblackoutbarbie', 'retweet', 'psh', 'sialovely', 'minute', 'wipe', 'room', 'uuuup', 'weird', 'carterboy', 'leake', 'elvis', 'notpresly', 'android', 'dmt', 'kno', 'what', 'box', 'kstar', 'saiyan', 'amandaner', 'royaltyclubvp', 'jealous', 'coco', 'smell', 'allllllll', '128527128526', 'bong', 'rip', 'steady', 'gs', 'jorge', 'ok', 'manor', 'scare', 'anybody', 'company', 'trying', 'fire', 'crushwb', 'home', 'blah', 'paulizzo2', 'homsec', 'lyndag1963', 'honey', 'pot', 'harf', 'dept', 'version', 'paltrow', '542', 'texte', '550', 'kiss', 'blood', 'penis', 'inspect', 'eggplant127814127814127814127814127814127814127814127814127814127814127814127814127814127814127814127814127814127814127814127814127814127814127814127814127814127814127814127814127814127814127814127814127814127814127814127814127814127814127814', '8220traceydee98', 'dinner8221', 'littlenamms', 'stick', 'chad', 'thejokerxo', 'pussylol', 'itssongoku', 'chichi', 'months', 'with8230', 'mauriokart', 'tumblr', 'ma', 'muhhfuckin', 'grammar', 'santa', '10412041043359', '8220drummerkid0328', 'reggie', 'headache', '1285451285678221128175128175', 'chocolate', 'irie', 'borrow', 'charger', 'intonetheylust', 'bitchadam', 'upbre', 'beer', 'steadmanterri', 'wheeler', 'kashhh', 'dj', 'marvz', 'button', 'medium', 'subliminal', 'to8230', 'pound', 'fail', 'relate', 'bigd757', 'ctfuu', 'tough', 'ran', 'husband', 'hahaha', 'brag', 'prolly', '0', 'ltthis', 'vewxyz', 'snapchat', 'jaceyjanette', 'dee', 'insideyou', 'team', '128514128076', 'karma', 'protect', 'corey', 'mileycyrus', 'vibe', '127752127752127752', 'miley', 'bread', 'doseofoc', 'dirrttyydan', 'fasho', 'officially', 'hire', 'ut', 'expose', 'hmmmmm', '35', 'pollution', 'kcjhoop', 'flite', 'therealiman', 'price', 'toronto', 'decline', 'henessey', 'quarter', 'pounder', 'combo', 'large', 'fry', 'ogbitchh', 'manly', 'lame', 'lindsay', 'lohan', 'detroitgirls', '128525128103128103100841008410084', 'beanie', 'mua87becca', 'eh', 'equal', 'opportunity', 'divorce', 'erv', 'montana', '26', 'prollu', 'hit8230', 'chiefcaitlin', 'letter', 'illiterate', 'hillbilly', 'todd', 'kincannon', 'mt', 'slate', 'republicans', 'abt', 'legisl8230', 'mediacrooks', 'extreme', 'lowlife', 'junior', 'public', 'sagarikaghose', 'rajdeep', 'reveal', 'character', 'ny', 'waynel', 'jr', '80', 'notmorris', '60', 'babygirl', '1008465039', 'tlmothyy', 'knee', 'caps128128128128', 'mynamesryann', 'caroline', 'poe', 'bitchcunt', 'getmeauxmoney', '8220100046729', 'kirk', 'bosley', 'no8221i', 'lyric', 'ty', 'dolla', 'ign', 'tape', 'nag', 'youngchug', 'bama', 'fan', 'offense', 'summerdawn', '1996', 'lucyyluux', 'creeping', 'wth', 'cheese', 'swiper252', 'barber', 'sshop', '128525128525128536128536', 'playlist', 'reggaetonbachata', 'slow', 'jams', 'lucky', '2013taughtme', 'gtfo', 'fa', 'macktology101', 'hehe', 'quote', '128555ugly', 'thecheekyd', 'troll', 'annoying', 'concern', 'ignore', '8220pharaohjas', 'darkskin', '127383127378', 'niiquebaby', 'freefaceridess', 'mea8230', 'blkarab24', 'goals10067', 'liltreprod', 'abusive', 'callmerenee', 'lilmenifee', 'wussup', 'guz1012', 'multiple', 'rare', 'teacher', 'cdashray', 'gunna', 'thebootycluh', 'xoxomooky', 'settle', 'challenge', 'yoursel8230', 'twitt', 'gym', 'faithful', '128549', '8220yahariah', '8220septicais', '1285208221128069128069128069', 'grizzly', 'teddy', 'bear', 'bipolar', 'strong', 'survive', 'salomanizor', 'darksklndrake', 'rate', 'juicyj', 'dance', 'swagdollz', 'aubreyjimmy', 'song', 'rappe8230', 'skylar', 'clarenceville', '8220tylawson3', 'fk', 'headband', 'either8221', 'hoop', 'whiny', 'unhappy', 'whining', 'turdfarmer', 'barn', 'freaknation69', 'eatin', 'gtgtgt', 'mrmooncricket', 'uncle', 'tom', 'punk', 'pussymoneyweed', 'weallknowa', 'name', 'luke', 'jody', 'boo', 'responsibility', 'jessicaaaaa', 'joytooawesome', 'pussy128539128570128166128166', 'feelins', 'niggahs', '1043359', 'gangbang', 'deion', 'lunaraps', 'ebola', 'rt8220bryanroxall', 'freshness', 'mosquito', 'nerve', 'marco', 'spatula', 'porn', '8220trillog', 'malik', 'hoe8221thot', 'whore', '8220skykardashian', 'association', 'thing8221', 'clean', 'tucsonchld', 'eden', '18', '8220bighomiemarkie', '82201017', 'sqquad', '8220toddie', 'soplayer', 'raygine', 'feeling', 'dick128514128514128514', '12806412855012851412851412851412851412851412851412851412851412851412851412812882211285141285148221128128128128128128128514', 'judge', 'experience', 'billion', 'highly', 'favor', 'spicy', 'is1', 'bitch2', 'it3', 'joint', 'reserve', 'blakkhoodie', '562', 'smokindrankin', 'northsidegreg', 'opieradio', 'blind', 'asshole', 'ho8230', 'dun54', 'drunk', 'fade', 'ama', 'stomp8230', 'pufntrees', '202sole', 'coleymonique', 'oprahsidenigga', '95toinfinite', 'exotic', 'bitchesdo', 'thingsthese', 'trvvp', '8220kash', 'stackz', 'confused', 'jeremyplatt', 'yah', 'southwest', 'carnival', 'iam', 'sashaa', '1stblocjeremiah', 'chalmer', 'starting', 'everybodyhatesx', 'job', 'norris', 'drummerkid0328', 'wb', 'ruin', 'burn', 'yuh', 'voz', 'de', 'mando', 'traplord', 'blowin', 'crowd', '1takehov', 'reeses', 'verse', 'str8', 'hip', 'classic', 'currently', 'imperial', 'march', 'traditionally', 'slash', 'trapping', 'motherfucker', 'juggin', 'traffic', 'kirkfranklin', 'hoskinsty96', 'saambrowne', 'fluffy', 'rattlesnake', 'rattler', 'nudesaremylife', 'omfg', 'near', 'kwest', 'shud', 'bvttousaibonez', 'ross', 'tha', 'tishforprez', 'eating', 'rvm3o', 'nh', 'unnagroundke', '150', 'reproduce', 'athlete', 'boat', 'theaveragerock', 'hardcore', 'mac', 'cheese1', 'boil', 'snort', 'powder3', 'boiling', 'suicide', 'gawd', 'hug', 'toi', 'macklemore', 'homie', 'suffer', 'canker', 'sore', 'reg', 'hinder', 'spirit', 'troyal5', 'hobby', 'four', 'doggy', 'geekin', 'sneak', 'cocaina', 'cross', 'customs', '128131', 'kassidypeek', 'jonniesantana', 'fed', 'geno', 'pick', 'waste', '91', 'hitch', 'dattniggamatt', 'lbsit', 'menigga', 'cus', 'choosing', '128557128564128175', 'kanyeshrug', '8220shainarakia', 'smco71', 'shainarakia', 'great', 'offer', '1285141285141285148221', 'justinbieber', 'dare', 'employee', 'artbylecardin', 'amy0813amy', 'deeiiggee', 'jungle', 'bunny', 'kaylaa', 'me128133', 'imik', 'add', '50', 'matty', 'fatty', 'sleeve', 'actin', 'ailthese', 'clock', 'mood', 'mortal', 'kombat', 'liu', 'kang', '128553128553128129', 'wen', '128588128168128591128175999665039128581128064', 'juice', 'twice', '8220divamonroe2uhoe', '822007cannon', 'divamonroe2uhoe', 'filthiest', '8220stfu', 'nobodycare', 'musty', 'shit8221128514128514', 'iemonaids', 'lemon', 'surprised', 'thick', 'graham', 'wendygav', 'pedophile', 'promote', 'dolt', '8220sexreiationship', 'bite', 'sexy8221maiapapayyya', 'friendlyassh0le', 'soccer', '810', 'hs', 'horrible', 'iti', 'facebook', 'needa', 'apparently', '8220kincade00', 'rico', 'bitch8221damn', 'stretch', 'giant', 'negro', 'usin', 'hamburger', 'koolqueeftribute160', 'killdion', 'h', 'christianne', 'politic', 'coon', 'loyalheart', 'nightpurrowler', 'das', 'bf', 'insurance', 'gf', 'destroy', 'rest', 'eye', 'ben', 'franklin', 'pills', 'sho', 'ivettebrianna', 'isell', 'pussy4ebt', '60k', 'follower', 'dyi8230', 'speakin', 'pleadin', '5ths', 'refer', 'awesomeness', 'teflondon4200', 'bossman', 'carl', 'mammy', 'thadisreal', 'ladies', 'weekend', 'shopping', 'mattyfatass', 'gta', '1v1', '247', 'skank', 'shabbashone', 'thoughtsofrandy', 'okay', 'scubakitteh', 'fetish', 'soundtrack', 'tweetlikeyourbestfriend', 'lilkrebs', 'basedomg', 'lay', 'letterman', 'jacket', 'puddle', 'iont', 'lmaooooooo', 'dontcallmekyrie', 'scratch', 'chinitaaah', 'hea', 'strippin', 'slide', 'bryanbalsamo', 'dev', '44binko', 'earlier', 'nikowavy', 'avi', 'enlarge', '127926', 'bg', 'throwback', 'lick', '128175128175', 'shoutout', 'mamma', 'vineforthebyrd', 'kittycopter', 'unnecessary', 'jazzybo', 'goal', 'rogers', 'excuse', 'risk', 'travel', 'zack', 'nun', 'trip825265039', 'nochillpaz', 'thumb', 'swipe', 'eyebrow', 'toothless', 'sack', 'yell', 'busted', 'van', 'window', 'sirratchettness', 'ciara', 'nicki', 'minaj', 'outta', 'lmaooo', 'hol', 'background', 'prime3', 'woodchuck20', 'alabama', 'tide', '8220postbadbitches', 'mampm', 'pillow', 'fuss', 'ampampfight', 'bood', 'clearly', 'gaf', 'porcha', 'grandma', 'hollar', 'offa', 'duddy', 'fucce', 'chappell', '40oz', 'frontin', 'branch', 'sunburnt', 'wnna', 'ihop', 'donaldblack1995', '8220voiceofdstreetz', 'jerry', 'pussy1285308221128514128514128514', '8220rawritstaraa', 'nah8221', 'cook', 'gurley', 'rickiroma', 'tone', 'recycle', 'bin', 'end', 'limewire', 'exe', 'thealexflores10', 'gayathomedad', 'redneck', 'jerk', 'firework', 'reptar', '07', 'joebiden', '8220irritatedwoman', 'biden', '8216white', 'boy8217', 'pastor', '1041233', 'instructions', '1041204', 'mee', 'fucccccckn', 'bugattibeez', 'mcdonalds', 'boosierene', 'pineapple', '128553128069', '128527128184', 'rhyds', 'herrrrrr', 'lit', 'xxminijokerxx', 'vocatoaster', 'autocorrectit', 'fucken', 'thoughtkendali', 'alleyesonkie', 'disrespectful', 'coming128530', 'shxtwesleysays', 'foster', 'skyereyes', 'daijahshardaee', 'bitch8221128109128064128523', 'morgandaylee', 'transactionrap', 'talkn', 'unk', 'azz', 'napk', 'yellow', 'upk', 'turf8230', 'truesmokeryfb', 'coolin', 'ole', '128074128527128064', '128545', 'darealdip', 'fart', 'den', 'uughh', 'uuuu', 'fartedno', 'ill', 'mfa', 'fin', 'gtf', 'tupactopus', 'jitterbug', 'charlezhussle81', 'candy', 'corn', 'peeps', '8220simplysoulful', '8220francisjstn', 'trash8221', 'al', '8220ky', 'ynf', '8220troypanamera', 'brandon', 'jenning', 'easily', 'ever8221', 'lol8221not', 'naturally', 'leftist', 'rag', 'crw', 'dammit', 'asf', 'shadow', 'hahahah', 'selfrightous', 'patience', 'quick', 'asl', 'unfortunately', 'vianawf', 'liveitupjersey', 'ccass357', 'ltlt', 'bitchbusy', 'choke', 'wellheeledke', 'solution', 'minnesota', 'weather', 'safe', 'east', 'coast', 'smoothly', 'l', 'elephant', 'demi', 'eggleton', 'victoria', 'mitchell', 'learning', 'quickly', 'yost', 'tooracist', 'makeup', 'nascara', 'tylar', 'cunts', 'pig', 'ih8tvvitterhoe', 'misskeiparker', 'weekndjammin', 'sheeeeeit', 'bologna', '128525128553', '1marsb', 'gutssidious', 'devil', 'roast', 'jamaica', 'idriphelick', 'embarrass', '128514128557128557', 'flye', 'lmaooooo', 'boxing', 'exercise', 'diet', 'thesexfacts101', 'guaranteed', 'montulos', 'lakers', 'cocainecowboy', 'freaky', 'finlife54', 'vontey', 'isa', '127797', 'dats', 'sahara', 'desert', 'cuffin', 'leechee420', 'gnc', 'cashier', 'looke8230', 'sbsylvester', 'hunterbuch66', 'sense', 'rosie', 'politicususa', '12', 'pre', 'odumba', 'herhim', 'babyy', 'moaaaanin', '10412191041222', 'zonenn', 'ecstasy', '1043215', 'rihanna', 'typebad', 'thatboyace71', 'vonte', 'dubstep', 'cowboy', 'howtogetagirl', 'repeat', 'saturday', 'epic', 'cooney', 'nflcommish', 'rule', 'nfl', 'strike', 'policy', 'josh', 'gordon', 'mfoani', '24', 'pleaseee', 'reshell', '1inkkofrosess', 'ear', '128525128525128525128525128540128541128513', 'constantly', 'woridstarhlphop', 'hello', 'speak', 'smack', 'peckerwood', 'pit', 'kaaat', 'hide', 'lime', 'treeiemonaid', 'skin', 'wcw', '128069128166', 'litterally', 'saltlife13', '8220jennahord12', 'ambernicolee05', 'dreamgirl', 'mckee', '1285148221ooh', 'wooonnnttt', 'juicistrawberry', 'kik', 'hoesyou', 'keepingupw', 'respect', 'salute', 'swiperthefaux', 'fam', 'mrs', 'bridgets', 'hungry', 'closed', '128530i', 'lightbill', 'kingrichyyyy', 'nofly', 'zone8', '1017', 'bitch8221they', 'lock', 'mike', 'daniels', 'yg', '18bitch', 'fuh', 'likesher', 'funeral', '200k', 'niggaal', 'haymon', 'tarver', 'michiganmade', 'iamyaokhari', 'tyga', 'hoethis', 'godly', 'danielleekendra', 'cough', '58386583865838658386', 'fuckkk', '5838558386583855838658386', 'idc', 'brodybolerjack', 'tonyjohns000', 'johns', 'area', 'code', 'rene', 'gadecowboy', 'course', 'tall', 'expensive', 'bdell1014', 'august', 'alsina', 'dusty', 'rocawe8230', 'thedariu', '8220jetsandaswisher', 'thedarius', 'bitches8221you', 'sandal', 'hahah', 'kreepen', 'cover', 'tit', 'bag', '963', 'register', 'bullshiti', 'poor', 'moneytax', 'mover', 'peopleyou', 'traitor', 'rle', 'raider', 'raven', 'nation', 'pu', 'proseish', 'coward', 'sparky', '8220rudeboi', 'drew', 'influence', 'shik702', 'dop3sweet', 'ohk', 'koko', 'shaven', 'vagina', 'doc', 'visit', 'hoeish', '8220sankpanksimona', 'keith', 'skirt', 'recess', 'creep8221', 'aladdin', 'juss', 'lop', 'p', 'illesttam', 'jessycaa', 'rubi', 'realest', '8220callneeshcakey', 'kannie', 'vonnie', 'tiny', 'bitches1285571285571285578221128557128079128079', 'crissi', 'hawaii', 'chilling', 'broski5519', 'sum', 'brace', 'vrtwxrk', 'flash', 'yungchipotle', 'olympics', 'lavarwalker', 'garden', 'mayaangeloufro', '2014', 'whigger', 'whaaaaaat', 'cromotoaste', 'creepgoddess', 'luv', 'phat', 'bootie', 'sylvieamx', 'pisces', 'anybodys', 'rigghhht', 'nip', 'ourcofe', 'ordination', 'aim', 'weaken', 'split', 'communion', 'trevondelorean', '8th', 'grade', '128586128107', 'graduation', '128563128557128557128514', 'scandal', 'dennys', 'asking', 'whut', '2nd', 'crib', 'beatin', 'shaw', 'keeper', 'memethagreat', 'deal', '128583', 'snorted', 'presence', 'coke', 'bootygangcult', 'blunts', 'cup', 'bigdaddysniper', 'thebloodshow', 'kool', '9995128175', 'cjayytaughther', 'lovelymariiee', 'ginasanabria', '128514128514128514128553128553128553128514128514128514128514128514128514128514128553', 'liidurk', 'rig', 'onedirectum', 'fugly', 'tweetlikelexi', 'location', 'bio', 'paullowry42', 'gingerash2013', 'response', '8220billieboymitch', 'bouta', '1285148221lmao', 'power', 'mydicklscaile', 'cappdaprez', 'messy', 'briannachevonne', 'feather', 'flock', '2gether', 'hater', 'hater8230', '128184', 'jesusmvela', '8220enriquuee', 'wigga32', 'why8221', 'ryanmattheww7', 'betodavidthomas', 'jessecanon', 'lmfaooo', 'karate', 'hairstylist', 'mall', 'nesha', 'wats', 'beenie', '127942', 'uboyrock17', 'passenger', 'dun', 'average', 'zoo', 'skrong', 'wack', 'lamo', 'adolfhibsta', 'loose', '8220callmegb', 'brittnaomi', 'elepicoru', 'lmao8221128557128557', '8220najmaaa', 'ali', 'lool', 'rt8220stopitfive', 'misfits82218221', 'simone', 'saddest', 'bottom', 'ratch', 'nair', 'gram', 'bussy', 'mrtriskaideka', 'poppin', 'handstand', 'i8217ll', 'gladly', 'victim', 'mafiosoro', 'felon', 'bigobundles', '200lbs', 'attempt', '128555128555', 'itzbreak', 'spear', 'chucker', 'youngin', 'karlamorenoo', 'trip', 'thatscomplex', 'decent', 'meal', 'jtrimbl3', 'youngmiddleeric', 'killas', 'niggaz', 'thejustinnn', 'toddkincannon', 'realbrother0003', 'pistols', 'hustler', 'grandadjfreeman', 'bend', 'toes', 'withou', 'sassy', 'cheek', 'wayne', 'brady', 'beforepreach', '1future', 'rns', 'land', 'lord', 'waaaay', 'shot', 'maniac', 'beef', 'alex', 'urstruly', 'jessie', 'actor', 'af', 'greatest', 'michhelleashley', 'asapcruz', 'sosa', 'outchea', 'sheet', 'morgaanita', 'awe', 'baddest', '1280681282991281761280761008465039', 'issa', 'incident', 'watchu', 'foe', 'triple', 'nipple', 'morgan', 'mccubbin', 'nicetry', 'groovy', 'erase', 'accessible', 'hormones', 'butttttt', 'cryystalina', 'talker', 'talkinfgalot', 'fighting', 'alot', 'sucking', 'balance', 'air', 'zeke', 'bokoo', 'fro', 'kazatta', 'thesaidabdi', 'twist', 'click', 'link', 'pinchbach', 'bandwagon', 'austin', 'thesportsjudge', 'rocephin', 'rem', 'supahfienmode', 'xplicitcontent', 'tractor', '128533', 'freddurst', 'roster', 'moovin', 'hoovas', '1040784999665039', 'pornandroidiphoneipadsexxxx', 'latina', 'mature', 'dexfrost23', 'lexi', '0124jessi', 'lml', 'se', 'pasa', 'shunsha', '128536128536and', 'joda', 'waaa', '8220twisttwizzy', 'snoopdogg', 'iggyazalea', 'stare', 'stahp', 'iammaliachigh', '100k', 'booking', 'email', 'pussytalke', 'shittf', '128129128537', 'bit', 'blame', 'std', 'kaaatt0', 'snatch', 'leisuuuure', 'iffy', 'hurricanesensei', 'giants', '8220majorslander', 'dog', 'hoes8221', 'drakelistener', 'tear', 'clown', 'piersmorgan', 'keep', 'crs', 'senate', 'harry', 'rie', 'obamas', 'senator', 'represent', 'owe', 'clayton', 'jenn99', 'driverno', 'sweet', 'butter', 'vicmackey', 'theshield', 'wifey', 'y8217all', 'basedamerican', 'middle', 'chillin', 'mango', 'definition', 'drastically', 'soon', 'wat', 'lethalbizzle', 'unamerican', 'kingliibax', 'r', 'thatdamnham', 'napturallydev', 'heyjaiiiii', 'halfcrazy610', 'lotion', 'butt', 'orajel', 'toes8230', 'backpage', 'jlewyville', 'treslyon', 'keyair', 'angels', 'promoter', 'angel', 'are8230', 'slaw', 'fuccin', 'bush', 'nerdatcooltable', 'automatically', 'poemsporn', 'animalpussy', 'shave', 'holiday', 'kandiraven', 'able', 'rik', 'fiair', 'pusha', 'ye', 'americanmirror', 'praedor', 'tm', 'law', 'brianndominguez', 'app', 'niggablow', 'upan', 'infamous', 'wave', '8220nerfgunirwin', '82201dalerts', 'ashton', 'hardly', '1285408221', 'wtf8221', 'grill', 'dirkalisic', 'balkan', 'made', 'hyposhitical', 'downstairs', 'cryingbegge', 'datdudetorey', '8220aj', 'swagggg', 'knowyourplace8221', '128514128514128514128514128514', 'wegomakeit', 'frum', 'mile', 'away128564', 'trippen', 'outttta', 'pocket', 'pimpinnn', 'mfs', 'joecool', 'tvc', 'cancel', 'movie', 'chiief', 'pboy562', 'wellall', 'idntwearcondoms', 'someone', '128530rt', 'sedsince81', 'thompson', 'era', 'yal', 'stock', 'jello', 'fix', 'personality', 'dopeboy', 'pollo', 'wassup', 'thejadednyer', 'yesterday', '30', 'faith', 'huffingtonpost', 'doobie', 'brothers', 'member', 'michael', 'mcdonald', 'tranny', 'teewat', 'nba', 'brawl', 'nascar', 'sa8230', 'boyyy', 'huntermoore', 'relaxing', 'ivanrabago', 'steal', 'miilkkk', 'threw', 'jthomas309', 'destrothenoble', 'nekolin', 'ltltlt', 'whiney', '1bcarter', '5k8221', 'maiapapayyya', 'justdoitslow', 'scary', 'that128524', 'nino', 'vegas', '128514128536', 'davegetnmoney', 'urbancraziness', 'andy', 'toy', 'teaching', 'bold', 'confrontation', 'customer', 'service', '171og', 'niccib', 'fxck', 'account', 'i12se', 'coochie', '16', 'daveswerve', 'lmaoooo', 'earring', 'french', 'toast', 'kevin', 'hart', '48', 'sexualtruth', 'twerke', 'suckin', 'globe', 'orbit', 'kivnaaa', 'vivalakash', 'oss', 'jakeysinclair', 'kamenmypants', 'puff', 'tablet', 'assless', 'chap', 'catholic', 'niggie95', 'lonely', 'isellgreencards', 'uber', 'heyrmbr', 'halo', 'busy', 'slay', 'ravingrave', 'thekevshow504', 'eeegggiiiaaap', 'sleepsmh', 'ballardtheg', 'ferocious', 'ghost', '1stname', 'bravo', 'mckinley719', 'spell', 'hellmel', 'quicker', 'women8221', 'yu', 'shoulder', 'realer', 'sweat', 'indeed825265039', 'yaboyskeete', 'itsmegrizz', 'nymphos', 'hose', 'seansteiger31', 'gang', '128299', 'waddup', 'town', 'tonite', 'jvbir', 'eem', 'watchin', 'award', '978665039', 'deezy', '2times', 'mufuckin', 'drank', 'gin', 'italian', '18th', 'cig', 'aqfleck', 'rmusshy', 'troyaikman', 'rachh', 'burkhart', 'sittin', 'teyanataylor', 'stunning', 'loveit', '128525128525128525128525128525', 'maxon', 'maxoff5', 'snow', 'hawaiinshirt', '8220sufaj32', 'cargo', 'short', 'iiak', 'spin', 'dliming35', 'chief', 'sheswantsthe', 'wodaeeex3', 'cd', '128166127386128544128072', 'mcadams', 'fuckherrightinthepussy', 'impossible', 'pimp', 'etc', 'closer', 'holy', 'sheep', 'age', 'thotslovenike', 'friendly', 'clicquotsuave', 'nigg', 'journal', 'naked', 'sesh', 'nwords', 'kush', 'betta', 'self', 'lilnino', '128128', 'hoes128131', 'ineyealee', 'josephbananas', 'ghettoviine', 'gab', 'bri', 'asleep', 'saved', 'birth', 'bahaha', 'smilin', 'gossip', 'wid', 'scooby', 'gardens', 'eburnns', 'bitching', 'niggasuprize', 'genuinely', 'foreign', 'walkin', 'ferrari', 'suhh', '8220swishas', 'erbs', '8220vonteeeeee', 'chillin8221', 'gettin', '8221', 'uptown', 'byrd', 'philly', 'idntwearcondom', 'haley', 'raghead', 'accuse', 'adultery', 'skyrocket', 'poll', 'sheheen', 'didn8217', 'notice', 'flyeaglesnation', '4th', 'division', 'climb', '128523128524', 'cheralynvb', 'lauriemckinley', 'freeyungnwild', '99', 'worldstarfunny', 'joeylattime', 'merk', 'bucketsmcnasty', 'react', 'bullskickass', 'bullsnation', '3much4thesehoez', 'dm', 'announce', 'timeline', 'football', 'playerbut', 'daddy17', 'liljohn', 'fnv9', 'juwanna', 'wyattnuckels', 'daily', 'dose', 'giggles', 'dameatisthicke', 'invite', 'dinner', 'bou8230', 'eatmytweetzz', 'noisy', 'profile', '10412401041243', 'teeaduh', 'ethnicity', 'lettin', 'lemochamojito', 'matterbate', 'october', 'arguing', 'flexin', '128543', '8220dubpeeworld', 'mini', 'shovel', 'hand8221', 'hadddd', 'taysymonee', 'icy128557128293', '128532', 'michydoe', 'event', 'devineleven', 'slim', 'slit', 'tie', 'like8230', 'bestofmessages', 'san9993', '214bighappy', 'asshaha', 'brandonbaray', 'update', 'kimorablac', 'helliesmall', 'period', 'implant', 'fucc', 'loyallamb85', 'drier', 'plane', 'foh', 'gtfoh', 'ref', 'include', 'trifle', 'itsdesha', 'lyinggggg', 'mo', '10412049995', '1043360', '4owe', 'foo', '10433571043357', 'ahhh', '405', 'row', 'killakev27', 'johnel', 'usually', 'cuss', 'serve', 'usumm', 'pouyalilpou', 'jennaferjenbub', '8220duhitsadrii', 'fresh', 'constant', 'tweegram', 'koolassk', 'earn', 'solve', '8220analyyxo', 'feelings8221fag', 'carmeelacuuh', 'bitch175', '728o728175', 'hoe728o728', 'jessietorr', 'boring', 'pnolia', 'skinnykenny13', 'do8230', 'boob', 'julius', 'pepper', 'poffalicious', 'andrewbryant', 'poff', 'vision', 'beerspoff', 'clintswiftness', '00sexilexi00', 'imhis', 'treasure', 'jade', 'vidal', 'heartless', 'droppin', 'clowney', 'dillema', 'svenstweet', 'wltrrr', 'vraag', 'svenhij', 'denkt', 'licht', 'kleur', 'beter', 'het', 'morele', 'kompas', 'werkt', 'ik', 'kleurenblind', 'cemetery128056974965039', 'yourstruelysam', 'ih8uhoes', 'nekko', 'hbk', 'woke', 'kelseyreneee', '8220jakelewis44', 'hoe1285141285141280648221', 'purrls', 'ogflash', 'chest', 'pacmanjonez', 'kobe', 'dock', 'icelestial', 'co8230', 'airmaxlad1', 'sniff', 'perve', 'scally', 'lad', 'og', 'aquatic', 'colored', 'headfuck', 'callin', 'drunksixthgrade', '7th', 'jet', 'life12', '504', '9995128514128527', 'pravikingdino', 'mariekiebarone', 'lowkei', '8220justkarahn', '8220what', 'really8221', 'dummy', 'chrisjustjoking', 'kink', 'ga8230', 'thewifey', '8', 'chip', 'late', 'theladygamer', 'shout', '9733doctors', 'advocate9733', 'mental', 'hmm', 'yay', 'aaahhhhh', 'internet', 'teach', 'christmas', 'athietechamp', 'gtgt', '128076', 'quan', 'angelo', 'papale', 'beacg', 'bod', 'abs', 'jaureguisturnt', 'holdin', '5th', 'possibility', 'louisville', 'purgejust', 'ferguson', 'perezhilton', 'draya', 'missvoshay', '8220vaientinescards', 'ooooo', 'aamu', 'tweak', '128584', 'sme', 'pinkypromise', 'myfriendsrap', 'troymadden', 'grab', 'ab8230', 'op', 'zero', 'neck', 'carlafinch', 'stubborn', '128079128523', 'bash', 'tonight', '128540127867', 'scallynikelad', '8220sleazytwinks', 'opcinjen', 'trainer', 'bored', 'beavis', 'butthead', 'arod', 'taughtyouwell', 'boobs', 'lotta', 'boobsman', 'nude', '128525128539', 'extremegifs', 'thuglifeisdead', 'lucia', 'barbara', 'college', 'pa8230', 'vp', 'joe', 'dildo', 'gun', 'fu', 'oath', 'prick', 'route', 'how', 'honkey', 'whippin', '3some', 'smooth', 'natural', 'bullshit', 'offend', 'hoe128175', 'fattrel', 'orientation', 'artist', 'usher', 'soni99a', 'dre', 'dickhole', 'unemployed', 'factdontargue', 'ruffle', 'shook', 'crook', '128064', 'prettydamamazin', '1041205104120510433581043215', 'dontae', 'dah', 'yaknow128553128588128176127922', 'raychielovesu', '82203rdeyechillin', 'opnmind', 'doesn8217', 'random', 's8230', 'yungmigo', '128557128557128557128514128514rt', 'shane', 'a1', 'imagine', 'tryn', 'frm', 'slutin', 'unsuccessful', 'hurry', 'fiberglass', 'checkin', 'iayanna', '2k14', 'banger', 'wiz', 'xbrandi', 'jonica', '55th', 'superior', 'kelllllllllvin', 'bambam', '131st', 'plyin', 'hoe128074128514128514', '82201inkkofrosess', '128514128514128514128553999665039', 'log', 'shit8221hell', 'yeaa', 'tiff', 'f8230', 'puerto', 'rican', 'natedavvg', 'hergrab', '128541128540128540128540', 'itstheboomshow', 'fricknawesome', 'metal', 'hoodstarz', 'dread', 'garrett', 'winker', 'princessfaggit', 'minivan', 'nail', 'appointment', 'important', 'bigbootyprobs', 'valentine8217s', '10084', 'hood', 'slang', '128557128553', 'petertrvjillo', 'beautiful', 'redheadray', 'ispeak', 'sarcasms', 'future', 'iaintshitbruh', '8220trackinblackkev', 'michelledbeadle8221', 'zednanreh', 'inmyzoneeee', 'nahhhhh', 'wifiandporn', 'llaboutbenji', 'conf8230', 'unprotected', 'amandabynes', 'niceall', 'monica', 'beauty', 'notbedumb', 'john', 'lookin', 'morning', 'thee', 'donate', 'funnypicsdepot', 'develop', 'superpower', '8220lovelifeest13', 'seriouslee', 'figured8221', 'mahxnesthot', 'twinkle', 'star', 'stole', 'dear', 'spoil', 'suburban', 'hypocritical', 'rhiannamator', 'stephanie', 'alexissixela', 'noise', 'mosh', 'warrior', 'jcope12003', 'realnoth', 'msmansk', 'kidding', 'boycottcriminalintent', 'fave', 'program', 'belt', 'leezythewarrior', 'burke113', 'donthebear', 'snipes', 'thereal', 'woulda', 'morninyou', 'textin', 'brazilian', 'kingego', 'wisdom', 'stature', 'haleyjoanis', 'crack', 'soomonique', '128526thealexflores10', 'brionnanicole', 'realize', 'precious', '128070', 'sht', 'diponline', 'michelle', 'apart', 'celibate', 'briscoefunnyguy', 'yungfree504', 'mannn', 'bosh', 'jehsee', 'flu', 'shotion', 'ballin', 'fosho', 'il', 'lately', 'succulant', 'she160cums', 'antonio10', 'c', 'motherdedication', 'tono', 'feat', 'childish', 'miguelito', 'pattycoming', 'sorry4thewait', 'gain', 'thickkkkkk', 'dislike', 'popular', 'idiot', 'derek', 'gatewood', 'kenwood', 'katelynbarnes3', 'savanaharanda', 'annacoman2', 'swagner', '813', 'hoser', 'ina', 'gorilla', 'snake', '128018128013128038', 'dine', 'bcniggas', 'plenty', 'walmart', 'melted', 'ankles', 'imthatguy', 'dhuck', 'evil', 'compassion', 'switcheroo', 'nigggas', 'riseofthefags69', 'prude', 'fob', 'arena', 'tour', 'iwaited5yearsforfobandiallgotwasthisshittyarena', 'sykeeee', 'prettyflvck0', 'paul', 'rental', '128665128168128168oooh', 'whatupag', 'ann', 'bill', 'romanowski', 'jayucci', 'mfz', 'sellin', 'smith', 'wessern', '128564128080', '8220papi', 'sez', 'unfunny', 'pander', 'jizzbag', 'thatupsdude8221and', 'michaelblackson', 'beating', 'hearing', 'ap', '42', 'gpa', 'moose', 'meat', 'lamar', 'odom', 'noodles', 'wheelin', 'moron', 'rick', 'perry', 'gayalcoholism', 'commment', 'shemoansnookie', 'keyshbechillin', 'apevontarskin', 'smdh', '8220mick', 'peddicord8', 'polo', 'respect8221', 'tataaa', 'tharealist', 'pskinny31', 'lilreese300', 'nihhas', 'bitches300', 'zaneisclasker', 'deadly', 'errbody', 'xloyaltome', '128553128557', 'possible', 'cruise', 'ship', '8220taylorsimonee', 'sad8221', '8220beautiful', 'bleus', 'fucn', 'ex8221na', 'painting', 'rooftops', 'rooftop', 'mattwho', 'amazing', 'vivala', 'ari', 'awake', 'slumber', 'avatar', '8220wavygodd', 'female8221128567128078', 'rack', 'bobcostas', 'stabbed', 'wrist', 'instead', 'yer', '1mannyonly', 'iamadamg', 'jennyreyes42', 'bitchesniggas', 'fear', 'breathe', '1007165039100698252650391006910069', 'antonioamp', 'thong', 'beach', 'deepinhergut', 'moms', 'lead', 'stone', 'stunner', 'hustling', 'certain', 'hustle', 'sinf', 'oroozco16', '8220tonymartinezz15', '1281751280791285248221', 'oskzilla', 'deliaparedez', 'rikki', 'lovee', 'gabrielaangela4', 'stephyrae7', 'ramona', 'pilar', 'daretnzr', 'mikeydjaro', 'joeytaormina', 'lovenati', 'omgwhat', 'retardshould', 'weighs', 'steel', 'brrr', 'dichter', 'bij', 'sint', 'gebeuren', 'racistischer', 'drek', 'en', 'komt', 'nagenoeg', 'alleen', 'prozwartepieten', 'hoek', 'engvolk', 'marca', 'butler', 'unchained', 'review', 'whitey', 'potentially', 'positive', 'film', 'simply', 'antiwhite', 'agitprop', 'stewie', '9733', 'asian', 'massage', 'park', 'slope', 'spa', '97337186220221', 'harleyyyquinn', 'smug', 'lemur', '8220wassssupsarah', '97339733973397339733', 'grand', 'opening', 'oriental', 'perfect', 'coilegefession', 'roommate', 'kutztown', 'university', '8220tryhardsilva', 'weezy', 'diamond', 'rough', 'guinea', 'adorable', 'luckyl3', 'ft', 'najmaaa', 'iubb', 'games', 'bloomington', 'btown', 'ncaa', 'iu', 'hoosier', '1oyster1', 'crow', 'obama', 'democrats', 'mawbarmight', 'republican', 'bryanstars', 'atl', 'bvb', 'sws', 'ptv', 'relapse', 'symphony', 'farewell', 'mayday', 'parade', 'paramore', 'tanaka', 'beltran', 'early', 'worm', 'mouse', 'jjauthor', 'ghettosdriven', 'ideology', 'forge', 'union', 'bankrupt', 'selfserve', 'dems', 'cater', '2parasites', 'bunch', 'sweeping', 'indycar', 'goprograndprix', 'dreadywhiteboy', 'jwanurebay', 'kummar', 'king', 'test', '128527128587', 'sekhmet1975', 'cactus', 'lab', 'chow', 'mix', 'hershey', 'everybodys', 'active', 'pup', 'pineda', '67', 'scoob3y', 'retards', 'drugs', 'ennuitime', 'clever', 'disrespect', 'poop', 'suddenly', 'windowewwwannoying', 'taxis', 'halfricannnnn', 'vin17bricksquad', 'submarine', 'rn', '127754', 'greenlanternjet', 'jeter', 'arrive', 'memories', 'odd', 'emmysetter14', 'dayum', 'saterlyt', 'shoz', 'un', 'bayg', 'houl', 'karmendanielle', 'introduce', 'michellemalkin', 'refresh', 'dhimmi', 'seattle', 'mayor', 'ed', 'murray', 'memory', 'history', 'jihadi', 'breed', 'groundgt', 'h8230', 'plays', 'dmx', 'justcallmebrit', 'neighbor', 'a', 'thecomedyhumor', '8220king', 'sm', 'howard', 'elbow', 'back8221', 'mcbob', 'ud', 'factsionary', 'pink', 'albino', 'dolphin', 'exist', 'anthonycumia', 'cokelogic', 'antony', 'breeze', 'issue', 'sheseauxsaditty', 'glitteryglossy', 'download', 'ios', '802', 'kevinkoski', 'lin', 'dunk', 'tebowe', 'brett', 'favre', 'espn', 'exp', '128517', 'nu241ezs', 'season', 'mlb', 'charlie', 'thursday', 'charlie4927', 'stacydmomof5', 'pattism74', 'kacado', 'cantucimblonde', 'revkahjc', 'ntac', 'eileen', 'dahlia', 'combination', 'orange', 'coll', 'alexlundry', 'hovaa', 'zebra', 'stripey', 'grr', 'ickblah', 'congestion', 'ew', 'chunky', 'bloaty', 'gross', '12hr', 'dr', 'whineytweet', 'lauren', 'ate', 'megancammalleri', 'perkin', 'student', 'section', 'participate', 'appreciated', 'cleaning', 'upwards', 'evan', 'grant', 'braveconwarrior', 'graphic', 'christians', 'massacre', 'senior', 'funfetti', '128538', '8220ogbeard', 'kamkamluvsblk', 'bombfantasyyy', 'pearl', 'jam', 'ledbettergt', 'pitiful', 'jetspitiful', 'yankeespitiful', 'net', 'knickspitiful', 'lekarmasucre', 'liars', 'learnteachwin', 'terrible', 'liar', 'htgawm', 'icantmiss', 'cage', 'powlengmawi', 'nakalagay', 'sa', 'ng', 'handout', 'ended', 'tapos', 'lalagay', 'pad', 'lrihendry', 'cupp8217s', '8216liberal', 'dem8217', '8216chunky8217', '8211', 'bonus', 'via8230', 'towie', 'youtubeinspiring', 'congrat', 'charlieking85', 'popcorn', 'rippin', 'redtail', 'hawk', 'rescue', 'calf', '8216nunai8217', 'fuzzy', 'international', 'fund', 'welfare', 'rehabilitati', 'sportswithjohn', 'dani', 'alves', 'gray', 'referee', 'humble', 'screen', 'james', 'clyburn', 'sullivanmcpig', 'captcha', 'bot', 'decipher', 'carxlito', 'ps3', 'case', 'anymore', 'villanueva', '1000', 'apple', 'emoji', 'kenzieblake2015', 'lolol', 'kathleen', 'herne', 'stink', 'hole', 'perform', 'philosophy', 'existentialism', 'depth', 'popmtvhottestlanadelrey', 'augustalsina', '8220sharaplus2', 'askaugust', '127806128064127806', 'augustalsina8221lt', 'mafenske', 'mock', 'noahs', 'arc', 'religion', 'opinion', 'sc4k', 'annual', 'sole', 'luncheon', 'renhotel', 'cle', 'ericgordon', 'ceo', 'druggedvibe', 'tattoos', 'catcher', 'inspirational', 'p8230', 'bidenshairplug', 'cure', 'cancerfergusonoctober', 'hxhsharingan666', 'taco', 'nomeek', 'justmilz', 'nfc', 'southwatch', 'jackbpr', 'baldwin', 'mocks', 'harrisperry', '8216if', 'transgressions8217', 'bizpacrevi8230', 'karaoke', 'sing', 'sandpaper', 'tylercarboner', 'abbey', 'buying', 'goddesslaney', 'lajouetreine', 'statement', 'z', 'takeover', 'concert', 'yankee', 'stadium', 'youtube', 'tiderecruits101', 'talkbut', 'harm', 'injury', 'lsu', 'glam', 'surely', 'rapper', 'femalelogic', 'jig', 'convince', 'thebananafact', 'khalifass', 'bruise', 'banana', 'nyrkelsmad', 'gots', 'trulyguy', 'betray', 'parody', 'effective', 'asinine', 'humorisaweapon', 'bjs5555', 'elect', 'democratic', 'nominee', 'govcharliebrown', 'gov', 'tn', 'defeat', 'haslam', 'unitebluetn', 'spencelynn', 'target', 'pjs', 'oo', 'fitting', 'cackle', 'annoy', 'andrewtaran', 'usrealitycheck', 'yank', 'stamp', 'prg', 'p2', 'folie', 'deux', 'nohazardnoparty', 'pibbzyx', 'jim', 'mclaren', 'boon', 'entire', 'radiomaru', 'nerd', 'judgey', 'passionate', 'abo', 'spaghetti', 'expendable', 'objective', 'beverleys', 'jaw', 'wicked', 'shakiraevanss', 'criticize', 'sexual', 'assault', 'shmurdagang', 'wop', 'april', '171igiveemnathan', 'trash187', 'dodgerofzion', 'green', 'rooster', 'carry', 'tray', 'jrealmo', 'community', 'function', 'wout', 'choose', 'govt', 'chicago', 'mustache', 'johnny', 'whack', 'memoriesofidot', 'moneypulatief', 'globalriot', 'langdurig', 'gepest', 'wordenzoals', 'zeiin', 'kiem', 'smorenis', 'ook', 'vb', 'voor', 'je', 'moet', 'optreden', 'kevinmarin27', 'doubt', 'rotation', 'commit', 'shawne', 'varepall', 'rangel', 'gop', 'slavery', 'flagrant', 'tax', 'evader', 'racist', 'stephmcmahon', 'sign', 'checkpoint', 'crossing', 'point', 'west', 'berlin', 'germany8230', 'scoonz', 'crushs', 'screenname', 'figure', 'afraid', 'yanks', 'strait', 'runner', 'johnsterle', 'ravenalegria13', 'prattprattpratt', 'impressed', 'chug', 'smirnoff', 'ice', '05professor', 'sheen', 'coach', 'crusty', 'bryan', 'pitching', 'inediblefood', 'quickscoping', 'tony', 'setup', 'normally', 'sniper', 'lohanthony', 'slightly', 'earliernow', 'eakaerick', 'knegandhiespn', 'slant', 'geniuscrazy', 'genius', 'sack8230', 'hotzgeor', 'border', 'disease', 'central', 'america', 'lowest', 'workforce', 'carter', 'ncthomtillis', '8220shessoblessed', 'oreos', '1285238221', 'honky', 'pfft', 'anticvlum', 'litetally', 'bigmac6374', 'scaring', 'berk', 'circle', 'bright', 'cycle', 'blare', 'incredibly8230', 'buckm00se', 'abel', '43', 'yrs', 'beaner', 'depot', 'major', 'soxdawg', 'rawr', 'skinrubberboi', 'frenchscally', 'woof', 'forevermem85', 'fantasy', '1279361283089898iu', 'hoosierstate', 'big10', 'michigan', 'gameday', 'btown8230', 'rascally', '19', 'az', 'firefighter', 'biggovernment', 'oy', 'vey', 'teaparty', 'egotheicon', 'snd', 'scrape', 'pro', '3hrs', '128055', '128534', 'chunk', 'basedlarock', '128686rt', 'thedondrew', 'premiumpete', 'clutchlikemj', 'tennessee', 'vitamin', 'pee', '128553128514128514128514', 'cay', 'jen', 'tamed', 'cajuncharm', 'mesmart029', 'recently', 'yokel', 'damage', 'ravioli', 'lobster', 'clam', 'betterthanamobster', 'ne', 'hoi', 'fai', 'moke', 'hau', 'itskayven', 'you8230', 'sheryl', 'who', 'hipster', 'brainwork', 'pacemaker', 'medical', 'device', 'contract', 'tinker', 'engineer', 'sc', 'trollstribpol', 'dink', 'uknow', 'mnyve', 'm00n', 'miserable', '8220basebaiivines', 'pine', 'taron', '128077128077128077', 'sox', 'boston', 'ronniemack12', 'charge', 'litter', 'foodpornsx', 'drumstick', 'fitzpatrick', 'jihadis', 'european', 'american', 'grave', 'dangers', 'mattwalshblog', 'note', 'rocketeer', 'remove', 'cardboard', 'launcher', 'fleeingtidyterrorist', 'pullz', 'buck', 'bump', 'barrel', '128525128525', 'michelebachmann', 'apologize', 'meeting', 'explain', 'comment', 'th3j35t3r', 'prime', 'suspect', 'foley', '23yo', 'british', 'declare', 'allegiance', 'anonymous', 'fighter', 'dalmatian', 'hardball', 'jimmy', 'brain', 'cogitoergobibo', 'penske', '22', 'sponsor', 'wouldmakealottasense', 'weibo', 'chinas', 'censor', 'list', 'ban', 'term', '8594', 'hiho', 'asiahh', 'reply', 'goldietaylor', 'thegrio', 'puppet', 'don', 'intentionally', 'cripple', 'unify', 'eco', 'political', 'consensus', 'thrill', 'billywith', 'billyraycyrus', 'hahahahaha', 'murphy', 'mtvuk', 'directioners', '1ds', 'zaynmalik', 'louis', 'tomlinson', 'stealmygirl', 'sportscenter', 'final', 'playoff', 'solopo82', 'taxi', 'paradoxicalmike', 'idavey', 'sinsofmyfath', 'scale', '110', 'anitaphilmar', 'fairy', 'asmsg', 'erotica', 'shortstory', 'jim777', '127867127881127880', 'ohemmeg', 'acting', 'human', 'put', 'gummy', 'worms', 'shylock', 'wong', 'democrat', 'bigotry', 'mum', 'breitbartnew', 'congratulations', 'ichiro', 'leadoff', '2800', 'career', 'savannahx', 'negative', 'chart', 'math', 'notsosweetpea', 'soo', 'makin', 'mitt', 'romney', 'fascist', 'zekejmiller', 'marcacaputo', 'crist', 'rudy', 'giuliani', 'evening', 'youngjeezy', 'feelin', 'trappin', 'guala', 'seenitall', 'seenitalltheautobiography', 'krbfarm', 'cornfrmr', 'transformer', 'shotand', 'electricity', 'gln', 'capotej', 'serge', 'chirps', 'sun', 'burns', 'grass', 'moon', 'glow', 'river', 'flow', 'floralelephants', 'wasp', 'angry', 'legend', 'squishy', 'pulp', 'worldseriesgame3', 'hunter', 'penny', 'vyvanse991865039991865039128074128074yankees', '2015', 'gigg423', 'psherm07', 'echoeserrant', 'jstines3', 'theater', 'dessert', 'sweep', 'motown', 'tigers', 'dissing', 'vibemagazine', 'notorious', 'big8217s', 'cj', 'wallace', 'vote', 'helgasfishtales', 'kimlau', 'sq', 'isi', 'likelook', 'hills', 'njsole', 'sauce', 'icy', '8220yankees', 'alfredo', 'aceve', 'relieve', 'cc', 'sabathia', 'yankees8221', 'gas', 'ballzahoy', 'killers128525', 'o6', 'embarrassing', 'baked', 'montreal', 'cheesy', 'brussels', 'sprouts', 'garlic', 'cheddar', 'chive', 'mashed8230', 'blackman38tide', 'bandana', 'orian', 'trailer', 'getup', 'ryanhoover', 'camera', 'primary', 'request', 'mouthwork', 'scottferrall', 'howardstern', 'kate', 'upton', 'cheers', 'nights', '7186220221', 'crazygirlgab', 'sacrament', '17andlovinit', 'renegadecut', 'renegade', 'snowpiercer', '8212', 'analysis', 'joonho8217s', 'scifi', 'action', 'topic', 'seanmdav', 'blakehounshell', 'itsjustjill', 'he8217s', '8220irritated8221', '8220doe', 'repudiated8221', 'awwwwwho8230', 'duncanidunno', 'smash', 'windshield', 'coorslightca', 'birds', 'bees', 'coors', 'drinker', 'wer8230', 'teef', 'cwissi', 'beanies', '96977768413', 'blogredmachine', 'lucy', 'joeyvotto', 'foxnews', 'disappear', 'magic', 'initial', 'godlevelshit510', 'adonnis', 'radiotour', 'duchess', 'cambridge', 'present', 'jersey', 'tdf', 'buster', 'huhlast', 'gamestampa', '82balt', '73yanks', '64and', 'pitcher', 'logic', 'lifenewshq', 'florida', 'prolife', 'scott', 'proabortion', 'challenger', '8220imtoblame', 'priscocbs', 'trent', 'path', 'robber', 'zebraprint', 'arrest', 'brittbritt', 'naay', 'wexican', 'shegotthis', 'bean', 'pork', 'chop', 'bruin', 'draft', 'scout', 'staff', 'imo', 'homework', 'firechoreli', 'flokid88', 'careless', 'benballer', 'theroot', 'fails', 'blast', 'boom', 'waaay', 'megann', 'cheeky', 'ratchetsue', 'bargain', 'circulate', 'killing', 'boko', 'haram', 'nigerian', 'pilot', 'capture', 'helicopter', 'edgarpixar', 'overdose', 'heavy', 'robertson', 'screwdrivers', '8216toque8217', '8216mickey8217', 'canadianism', 'nationalpost', 'planet', 'kong', 'clip', 'nicoleadietrich', 'honorchriskyle', 'soprano2', 'amen', '105', 'mm', 'rocket', 'victor', 'last', 'impression', 'ceallaighaine', 'hun', 'heal', '128533dancerproblems', 'faaz71', 'taakstraf', 'herkenbaar', 'hesje', 'eigen', 'buurt', 'pleit', 'er', 'jaren', 'weet', 'bevreesd', 'ooit', 'dak', 'te', 'valerie91097', 'uhh', 'messi', 'flatter', 'scorre', 'nhldevils', 'adam', 'henrique', 'cleans', 'tying', 'njdevil', '1106', 'regulation', 'kensuttling', 'rememberit', 'colour', 'ps4', 'oliviagobert', '128525128525128557128166', 'hoodsbuttcrack', 'vegebitemeash', 'bu', 'playa', 'payroll', 'dodger', 'oltimebaseball', 'pauloneillyes', 'matter', 'ttukingsbury', 'morphing', 'weis', 'cease', 'disturb', 'cont', 'provide', 'sticker', 'nametag', 'indicate', 'preferred', 'pronoun', 'glory', 'isaiah', 'eric', 'cantor', 'rampb', 'compare', '2000s', 'honestly', 'correctiongtgtgtgtwhen', 'sky', 'jonj', 'dailymail', 'nyc', 'apt', 'dump', 'glove', 'mask', 'simons', 'ski', 'antiamnesty', 'appsame', 'whitehouse', 'naturalize', 'citizenship', 'anchor', 'amnesty', 'parent', 'origin', 'netflix', 'cox', 'matt', 'murdock', 'marvels', 'daredevil', 'nycc', 'memes', 'buckwheat', 'porky', 'drunken', 'noodle', 'handmade', 'handcut', 'marinate', 'chickenshrimp', 'hurting', 'yankee7kid', 'underperformance', 'ump', 'management', 'outbreakhow', 'player8230', 'holmes0786', 'frosting', 'cruzanchoklate', 'timb', 'sunyhd', 'abouta', 'crayon', '830pm', 'phalaenadispar', 'tresharenee', 'astro', 'flesh', 'pant', 'wif', 'regent', 'kap12284', 'forward', 'honkies', 'honkie', 'kayt27', 'coonsnow', 'herenow', 'outwell', 'sbpart01', 'melodybrooke11', 'dice', '127922127922', 'nephew', 'albinos', 'astigmatisms', 'spasm', 'partial', 'blindness', 'cadaver', 'rejectedpeanutsspecial', 'champagne', 'whip', 'daqraca', 'xoxo', 'imaunicorn', 'thetumblrposts', '128027128176128184', '8220goalsminde', 'first8221', '8220thefunnyvine', 'bucket', 'sip', 'suit', 'hoosierdaddy', 'hoosiernation', 'jamming', 'skid', 'rowkixcinderelladamn', 'yankeesbon', 'jovidef', 'leppardwhitesnakeextremevinnie', 'vincent', 'invasionrattscorpion', 'kendavidoff', 'cardinals', 'mlbs', 'silver', 'juliebenz', 'unicorn', 'thecarnage07', 'fleetweeknyc', 'troopthank', 'bofa', 'billboard', 'downthe', 'jaymohrsport', 'jaymohr37', 'tuna', 'ayeofool', 'cans', 'msbtxo', 'thebikeman99', 'nanticoke', 'attend', 'lehigh', 'ct', 'pennsylvania', 'dutch', 'cooking', 'mc', 'jaytee', 'waiting', 'neighborhood', 'clairelea18', 'mexcian', 'lander', 'mayaangelou', 'thatindianbruh', 'rise', 'musical', 'abu', 'teamgladney', 'properly', 'honor', 'orioles', 'tweeb', 'isis', '8216buying', 'selling8217', 'yezidi', 'slave', 'pjnet', 'kevineffinskaff', 'idea', 'regular', 'stuft', 'takin', 'losangele', 'encounter', 'barely', 'komo', '8220burgerking', 'what8217s', 'selectionsunday', '2for5', 'watchlikeake', 'adult', 'skull', 'connecticut', '8220wwwobert', 'stunt8221come', '128293128293128293', 'f1abraham', 'crew', 'gangster', 'wthe', 'director', 'itsawrap', 'axemanthemovie', 'jostontheney', 'rachelereilly', '999265039127916127909', 'brucevh', 'painful', 'forward8230', 'conservativela', 'concerntrolling', 'commence', 'earnest', 'wagon', 'homophobia', 'racism', 'allsportsbruh', 'qbs', 'veteran', 'embrace', 'group', 'runoff', 'turd', '8220whattheffact', 'brazil', 'specie', '1168221', 'dong', 'mate', 'hitmanholla', 'ayeverb', 'mook', 'luxneither', 'hitm8230', 'lets', 'hayyllss', 'merry', '1278771278761008465039', 'nature', 'awesome', '663399becca', 'wearerepublicnotregime', 'potus', 'bo', 'violate', 'usa', 'sovereignty', 'wopen', 'borderjihadiscriminaldiseasedhaitianssamericans', 'impeachobama', 'freshman', 'tbt', 'homeruns', 'tingly', 'nyrkelsmads', 'ehh', 'donttouchme', 'kourtj3000', 'bria', 'leeandrea', 'inspire', 'tourist', 'meadow', 'rat', 'gasping', 'sky106radio', 'oldie', 'pm', '400', 'eastern', 'broward', 'report', 'turnout', 'bolanddrumm', 'shop', 'thw', 'iron', 'fargond', 'aquarium21', 'friday102910', 'parr', 'nightsaturday', 'jaworskimeat', 'browns', 'clevelandfan', 'clevelandpride', 'clevelandbrown', 'clevelandsport', 'brownie8230', 'cartoon', 'stevm', 'universe', 'awwwwwesomeeeeee', 'bjergsen', 'rune', 'quint', '47', 'western', 'fanboy', 'language', 'peppering', 'sentence', 'arabic', 'knowledgeable', 'comical', 'casket', 'curvy', 'gferguson8', 'msoltan18', 'wbdyllon', 'koredeb9', 'sportscent', 'jadeveon', 'top', 'melkiperespns', 'fanduel', 'breakfast', 'tater', 'tot', 'press', 'beans', 'contacted', 'ridley', 'carpedehope', 'btw', 'istricer', 'hairy', 'fellow', 'negros', 'easportsfifa', 'amazin', 'celebration', 'rko', 'message', 'humanity', 'chaplin', 'mobengalfan', 'disl', 'automatic', 'mikehoho', 'lachlan', 'washington', 'darrion', 'jigaboo', 'bruceforce', 'study', 'closely', 'spot', 'limited', 'skill', 'schola', 'gomes', 'alright', 'goodmanwood', 'riserhyme', 'snowpatricksday', 'busboysandpoet', 'lively', 'tune', 'mehttp8230', 'approach', 'score', 'drinking', 'everytime', 'stoolpresidente', 'peteyhoti', 'funky', 'mark', 'schlabach', 'mcmurphyespn', 'wnelly', 'jamiewinn4', 'energy', 'electric', 'truly', 'electrify', 'nicoromero23', 'edm', 'metaphor', 'vital', 'organ', 'host', 'jesslaw', 'uncles', 'nj', 'espnmag', 'pushinuproses', 'current', 'shea', 'moisture', 'cvs', 'dry', 'curly', 'andor', 'whoops', 'snuggly', 'hideous', 'boot', 'marriage', 'mykalaj', 'whitakerc54', 'chuck', 'frizzle18', 'richardengel', 'ughand', 'lemme', 'fur', 'feeder', 'gla8230', 'treagle05', 'tomcat', 'linnlondon1', 'shell', 'chirpin', 'snortcourt13', 'tripleaaayy1995', 'allen21', 'jbake0622', 'blakeanderson21', 'hajihuntingpat', 'paulsmitheringa', 'taxman206', 'dontesydnor', 'mayonnaise', 'miracle', 'gallery', 'blog', 'enterprise', 'uniform', 'oppose', 'rochaaxx', 'barrys', 'brownshirt', 'oakland', 'chant', 'amrhein', 'luckily', 'bonner', 'lookout', '516jake', 'hungover', 'yyyyyeelllloooowwwwww', 'outlawdipper', 'mudjug1', 'dbh', 'brass', 'gusta', 'espa241ol', '127831', 'chaos', 'showofhand', 'eanah', '128546', '128546128557', 'egypt', 'peterclifford1', 'turtlewoman777', 'tad', 'certainly', 'respector', 'mlbstatoftheday', '1914', 'jeter8217s', 'multihit', 'redsox', 'gehrig8217s', '121', 'ruth8217s', 'an8230', 'mr2damngood4u', 'ingt', 'biologygt', 'skippy', 'kats', 'fezbandname', 'ronandfezsxm', 'realskipbayless', 'wilson', 'qb', 'shine', 'russell', 'scene', 'abc', 'jhonenv', 'disgust', 'awad', 'excellent', 'sociological', 'himher', 'gift', 'ti8220msbtxo', 'sirhampton', 'stack', 'kendrick', 'xhollywoodcourt', 'likebut', 'trash82218221', 'chelseaxlaser', 'intentions8230', 'quenchyagirl', 'battle', 'debating', 'kaylonnnnn', '128522', 'absolutely', 'deliciously', '128586128584', 'brenjjgmom', 'hweldon', 'wellhow', 'wtfiswrongwithnebraska', 'boonies', 'caitlin', 'tonightgtgt', 'tweetlikeagiri', 'stylish', 'cartel', 'straightcash08', 'applebee8217s', 'wuzzy', 'kitten', 'desk', 'franchise', 'arashmarkazi', 'fergie', 'national', 'anthem', 'opener', 'yankeeswfan', 'prado', 'underrated', '2b', '2016', '3b', 'walkout', 'emergenc', 'coldflu', 'bud', 'nogermswante', 'tomcrean', 'france', 'hoosiers', 'creanandcrimson', 'itssylviaplath', 'excitement', 'direction', 'arrow', 'fourth', 'july8230', 'anilkohli54', 'mediacrook', 'madhutrehan', 'defend', 'scumbag', 'sard8230', 'boxingscene', 'rpopbox', 'bronzebomber', 'missmollylo', 'womens', 'furbush', 'whydidigoogle', 'redbone', 'stunk', 'tweeter', 'anger', 'waffle', 'mississippi', 'aurabogado', 'el', 'rachaelkbrown', 'billybutlerkc', 'unexplainable', 'aussiegrit', 'webber', 'fiawec', '6hcota', 'videriquamesse', 'executioner', 'mi6s', 'hauntingilinsky', 'sorryimalex', 'taylorcaniff', 'sandwich', 'shanedennis37', 'category', 'recognize', 'pollos', 'lastdos', 'estaban', 'dando', 'vueltas', 'una', 'poller237a', 'mientras', 'los', 'cocinando', 'cuando', 'antigovernment', 'marathon', 'explosion', 'twitchyteam', 'insult', 'maker', 'calamity', 'unpunished', 'toddler', 'imsoooomad', 'freddyamazin', 'haylebopp', 'theory', 'acceptable', 'academic', 'winner', 'winning', 'caycifish', 'dinolich', 'evolutionary', 'claudiavice', 'despise', 'yahoofinance', 'blackrepublican', 'memorabilia', 'wredskins', 'deem', 'therby', 'illegal', 'later', 'lifei', '18somehoee', 'fletchermassie', 'telcoag', 'rcb05', 'mutt', 'rev', 'necessitate', 'adopting', 'joel9one', 'carolina', 'birdsfew', 'stones', 'aluminum', 'zimas', 'bigfatdave', 'guncontrol', 'failedno', 'gunsense', 'nonsensemomsdemand', 'statist', 'charles', 'tillmans', 'rams', 'gnarlsdarkley', 'hill', 'davis', 'randle', 'eyeonpolitics', 'chrisloesch', 'shake', 'tonk', 'badonkadonk', 'sammi', 'boyden', 'tale', 'aliyahkorea', 'whiteculture', 'thinking', 'extension', 'amh', '1126', 'nf', 'patpatbush', '128536128536', 'pirate', 'outhell', 'frozen', 'jeter2', 'enjoy', 'nickswagypyoung', 'swaggy', 'bigmeat2000', 'darkness', 'dafuq', 'floppy', 'misplace', 'youth', 'victimize', 'curse', 'cullenbunn', 'baylee', 'pud', 'nurse', 'fester', 'chainsaws', 'rot', 'punishermaxd', 'tweets2sweet', 'flap', 'podcast', 'exurbankevin', 'subbeck', 'thehermancain', 'redskin', 'transcend', 'grandstanding', 'diaval', 'virtue', 'conoc237', 'tus', 'ojos', 'ahora', 'si', 'que', 'puedo', 'vivir', 'sin', 'ellos', 'cbsthismorne', 'charlierose', 'norahodonnell', 'substitute', 'mittromney', 'loss', 'ochocinco', 'camp', 'overnight', 'iphone', 'neomd71', 'bizarre', 'clebrown', 'lossfaile', 'exbrowns', 'duel', 'cavs', 'hr', 'folllowesteban', 'thunder', 'wellthe', 'prosperindia', 'election', 'ak49', 'caseykim12', 'purpose', 'suggest', 'violence', 'prevention', 'interested', 'eggplant', 'nittyscottmc', 'twerk', 'goldfish', 'tbh', 'tattoo', 'mylife', 'lordemusic', 'please', 'curator', 'mockingjay', 'lilly', 'completely', '1999', 'series', 'rematch', 'braves', 'dearionbasedgod', 'papoose', 'throatneck', 'household', 'friggin', '128545128548128544128298128299', 'cumkwat', 'paulyy2', 'chr', 'blackmanusa', 'chrislhayes', 'jack', 'secret', 'jfk', 'probirdrights', 'government', 'everyo8230', 'krispie', 'seed', 'gummie', 'tart', 'powerade', 'yuhhh', 'fairflattaxnow', 'joenbc', 'collect', 'allly', 'sunn', 'meanssome', 'mclaffytaffy', 'funniest', 'sincerely', 'pittsburgh', 'shockingly', 'devour', 'iggy', 'attorney', 'general', 'stable', 'endure', 'unit', 'creepyscout', 'overand', 'identify', 'indonesia', 'massive', 'bombing', 'speicher', 'iraq', 'nyjet', 'accept', 'als', 'icebucketchallenge', 'patriot', 'jimmyfallon', 'mets', 'seahawks', '8220cmre24', 'wasn8217', 'ahki117', 'equalizer', 'denzel', 'wash', 'bruh8221neither', 'spongebob', 'peanut', 'royals', 'gardner', 'saltyblackbroad', 'madam', 'clear', 'naacp', 'careful', 'brand', 'thinking978665039', 'wacko', 'makedclisten', 'starburst', 'ketamine', 'stalin', 'read', 'waspfact', 'tweets', 'treaty', 'bentaterb', 'rb', 'roy', '2yrs', 'mvp', '4get', 'position', 'insane', 'astronaut', 'artprize', 'kboydee', 'worldtraveis', '128034', 'meeeesh1395', 'burnate', 'thatch', 'roof', 'cottages', 'leprechaun', 'ie', 'sea', 'kkeldalegend', 'padre', 'yankeeangel', 'simulation', 'bluejays', 'rays', 'orioles8230', 'crappyfactsare', 'mcrib', 'bun', 'chemical', 'azodicarbonamide', 'yoga', 'mat', 'sol', 'shoe', 'awwadorable', '128553128525', 'depresseddarth', 'wars', '8220el', 'grillo1', 'islamic', 'uighurs', 'uighur', 'prc', 'tool', 'populate', 'island', 'hillbillie', 'linguistic', 'accent', 'olde', 'english', 'derivative', 'raqqa', '8220confirmed8221', 'syria', 'cryancarfield', 'bee', 'kxrxsxb', 'intelwire', 'significant', 'americans', 'uk', 'littledebbie', 'obama8217s', 'newly', 'gitmo', 'terrorist', 'doug', 'martin', 'ryandolan123', 'office', 'prescription', 'refill', 'taunt', 'spread', 'paranoia', 'tent', 'appear', 'daesh', 'training', 'mosul', 'boootyyyyyneeeeed', 'heinie', '127825', 'sydswag2', 'thomaskeneally', 'obersturmfuhrer', 'matthias', 'superb', 'financial', 'brian', 'labelling', '8220jerseyzbest74', 'mcoy', 'offense8221', 'stopit', 'pricklypear', 'shiner', 'cowboys', 'redskins', 'terrifying', 'surprise', 'capricorn', 'jocelynb', 'iamthedannibal', 'pharaohs', 'pbo', 'foodpornphotos', 'cheesecake', 'watermelon', 'eegee', '128686', 'brunch', 'lvrke', 'fingernail', 'knife', 'shanemoses625', 'brandontierney', 'frame', 'wib', 'fri', '51614at', 'silverdome', 'ballroom21', 'neillsvillewi', 'hobo', 'nephews', 'frank', 'tickets', 'fairweather', 'whine', 'effect', 'earlybird', 'sunrise', 'dawn', 'thebird', 'jerryreed', 'kansas', 'norsu2', 'income', 'inequality', 'veer', 'd8230', 'float', 'pool', 'chrissfmori', 'sharplyany', 'contrary', 'callneeshcakey', '8220yummy', '128525', 'bleacherreport', 'cfl', 'lb', 'solomon', 'elimimian', 'opponent', 'halftime', 'interview', 'tracksideonline', 'principal', 'shld', 'prop', 'stankin', 'pushy', 'greghillwaaf', 'showthursdays', 'jinxy', 'broadcast', 'practically', 'allow', 'utampa', 'ground', 'fml', 'ovo', '8220allthingsfresh3', 'heavensenttynae', 'amyrosekathryn', 'justice', 'seagull', 'spraypainte', 'won8217', 'ram', 'champ', 'holyfield67', 'taliban', 'ied', 'detonate', 'prematurely8230', 'celebrate8230', 'adamsank', 'roberts', 'shock', 'nominate', 'gown', 'emm8230', 'kinghov1313', 'pr3ttyn33', 'rapbar', 'badass', 'trade', 'nikes', 'mic', 'amos', 'powers2014', 'congress', 'tn6', 'diane', 'red2blue', 'tntweeter', 'cir', 'dinosaur', 'evolve', 'delicious', 'smackhighaz', 'seton', 'shade', 'chavezs', 'maverick', 'communicate', 'comrade', 'imperialist', 'birdie', 'hugs', 'raymond', 'felton', 'beckdeemyg', 'grannywinkle', 'starburstu', 'sippey', 'david', 'esq', 'finger', 'phallic', 'necessarily', 'wobblewibbler', '8220rihanna', 'raid', 'nickis', 'wig', 'closet', 'gal', 'donniewahlberg', 'blublood', 'cbsnews', 'cbs', 'morningjoin', 'apolonia', 'misspells', 'phalarope', 'resemble', 'sandpiper', 'schwa', 'spellingbee', 'deluxe', 'timin', 'smalltownproblem', 'neversaiditwasabadthe', 'brooksndunn', 'panchoftf', 'thachosenkid321', 'donquixtote', 'startmikevike', 'ned', 'channel', 'emilysteers', 'egg', 'now', 'thats', 'seth', 'mcfarlene', 'iq', 'comedy', 'francoiskilljoy', 'marshall', 'angle', '8220adderallhadme', 'adderall', 'murica', 'hotel', 'realgt', 'iwantout', 'treydoe', 'hallderik', '20tolife', 'pressed', 'cleats', 'laker', 'pcrossvol', 'onethey', 'worst', 'unsolicited', 'unaffiliated', 'dblite', 'works', 'charm', 'openwrt', 'arduino', 'yun', 'coverage', 'gyp', 'rarely', 'gungho', 'afghanistan', 'war', 'zone', 'left', 'royal', 'fantastic', 'dispose', 'os', '4ever', 'vaeflare', 'appreciate', 'noble', 'steampunk', 'dragon', 'fl', 'rumor', 'demand', 'recount', 'sayfie', 'titan4ever2488', 'gary', 'sheffield', 'bother', 'murphys', 'umpire', 'mcsheeti', 'lcl03', 'atbat', 'farewellcaptain', 'appropriately', 'wv', 'barkingcarnival', 'drita', 'therealduxy', 'tkfan01', 'prettynot', 'jeezusmy', 'showing', 'truckshorsesdog', 'coinckydink', 'emadair225', 'contagious', 'patient', 'separate', 'utterly', 'brother128563128514', 'crawford96', 'gable', 'ltltltltltltltlt', 'echeloninsights', 'flgov', 'diabetes', 'galore', 'colorado', 'health', 'recommend', 'wakeuppeeps1', 'orig', 'havethat', 'segment', 'propaganda', 'msnbc', 'bpshow', 'currenttv', 'mallenokc', 'royceyoung', 'culture', 'toilet', 'graffiti', 'writers', 'europe', 'create', 'art', 'sportspickle', 'backtoback', 'postseasons8230', 'resurrect', 'howler', 'fancy', 'telephone', 'texts', 'voiceofapatriot', 'now8230that', 'creature', 'clap', 'clapclapclap', '127936', 'pacer', 'paulgeorge', 'hashtag', 'susannewhite', 'goooood', 'savoury', 'salty', 'lawlessness', 'oregon', 'nom', 'truckpartstore', 'intend', 'mud', 'raceevent', 'convoy', 'nickname', 'lux', 'duke', 'freeze', 'runofplay', 'martins', 'indi', 'draw', 'lessthanjr', 'jacklayton', 'angus', '8220made', 'china8221', 'canadian', 'flag', 'pin', 'conservative', 'trashmisse', 'mundy', 'disgrace', 'marcus128514128514128514', 'fazedavls', 'soar', 'wvyy', 'haze', 'fazeoutcst', 'gobbledy', 'gook', 'ebomb26', 'couch', 'landonvanbus', 'jackets', 'station', 'mightyfar', 'ufcs', 'cheap', 'penn', 'field', 'pollito', 'cruzaba', 'frontera', 'zorro', 'tropieza', 'le', 'nest', 'downspout', 'birdsand', 'snapbacks128553128532', '128557128557128557', 'anyway128076', 'desi', 'paki', 'load', 'murda', 'dimaggio', 'reportedly', '1954', 'grossman52', 'arrogance', 'mi35', 'beji', 'rank', 'suzanneevans1', 'huffpostbook', 'whitepeopletalk', '8220kobe8221', 'sinai', 'beheads', 'spy', 'jews', 'melodicthunder', '2013', 'ishaboibrandon', 'source', 'confirm', 'ace', 'masahiro', 'seven', '155', 'fox', 'sport', 'louiev', 'thisearly', 'uncleblazer', 'cigarette', 'butts', 'qtip', 'analyze', 'impact', 'springtraine', 'yankeesondemand', 'ohwowthatsawk', 'moviesno', '499', 'auto', 'captionedsoft', 'lovehim', 'rashaansalaami', 'concept', 'inevitably', 'gtgtgtgt', '128553128079', 'lottery', 'kamaalrkhan', 'arvindkejriwal', 'apka', 'waise', 'bhi', 'khatam', 'chukka', 'amar', 'singh', 'publicity', 'kejr8230', 'permanent', 'tumble', 'bleacher', 'sheehey', 'guard', 'hoosierhoop', 'ike', 'turner', 'tsmith4569', 'disgusting', 'townhallcom', 'refuse', 'racebased', 'samfeistcnn', 'cnnpolitics', 'plz', 'improvement', 'briccone79', 'pvvrivierenland', 'ja', 'moest', 'plisie', 'niet', 'meteen', 'gaan', 'denkenjuistjawillen', 'wel', 'meer', 'mensen', 'mij', 'vertellen', 'denken', '8220deuce1990', 'kobe8221', 'arcticfox2016', 'strawberrycoca', 'ling', 'krunkchip', 'jimmerfredette', 'atmosphere', 'deser8230', 'necessary', 'threat', 'doo', 'politibunny', 'yeswedid', 'harass', 'threaten', 'bully', 'minority', 'progressive', 'a8230', 'nits8220lucci', 'dpc', 'hypocrisy8221', 'goauche', 'oldpainte', 'vinyl', 'jazz', 'lounge', 'nikaaaa3', 'winnnn', '128153', 'mis', 'sarahd', 'basedpapi1017', 'rylannwilliams', 'stephicans', 'mhmm', '128037', 'thatchriseckert', 'gobble', 'iampikey', 'stockboyeveryone', 'emandm', 'monday', 'maaaaannnn', 'abrown252', 'rid', 'batch', 'minimum', 'wage', 'labor', 'proscab', 'sweatshop', 'dunkin', 'donut', 'coolatta', 'prolongshop', 'decor', 'lights', '33', 'string', 'outdoorindoor', 'missrobinv', 'braids', 'tiger', '8220amburger', 'bird8221', '128525128525128525128525128525128525', 'outtapocketjuju', 'o', 'tunj', 'most', 'duep', 'occasionally', 'crc', 'worldcup2014', 'puravida', 'dswizzle', 'sesame', 'khorasan', 'part', 'iran', 'invention', 'modern', 'justsayin', 'physically', 'chasinghounde', 'uncivilised', 'adityarajkaul', 'bansalgadkari', 'anil8230', 'lizardlicktowin', 'cmchatlive', 'cmchat', 'forhick', 'hop2get', 'w8230', 'ramaxe1965', 'dubya', 'movement', 'drob30', '9th', '2anow', 'plastic', 'doll', 'hollyrpeete', 'terrytgood', '1dancingcrane', 'moor', 'lunch', 'bronx', 'ogmarcusc', 'stereotype', 'preconceive', 'notion', 'criminal', 'confine', '77stephanieg77', 'portable', 'septic', 'allllll', 'pesky', 'bathing', 'sphere', 'suspend', 'orb', 'tub', 'shy', 'bathe', 'toco', 'bell', 'dianas', 'dianaaaxo', '1100000', 'semievolve', 'desperately', 'search', 'validation', 'meaning', 'bbqd', 'salsa', 'happycolumbusday', 'peta', 'callous', 'allbut', 'buffalo', 'injun', '8220juanndacut', 'lrtc1', 'magnus', 'leader', 'particularly', 'rude', 'unhelpful', 'blatantly', 'awful', 'swamper60', 'helloween', 'helloweenorg', 'flowcity', 'guidos', 'themoreyouknow', 'robertbevan77', 'zombie', 'urbasicyabish', 'nigor', 'sadr', 'baghdad', 'onslaught', 'jasonjwilde', 'incompletion', 'option', 'shame', 'there8217s', 'lack', 'revlon', 'lesserfilms', 'amirite', 'bigot', 'dawnnaduke', 'votewendydavis', 'governor', 'texas', 'lung', 'pressure', 'levitating', 'mashable', 'samsung', 'bendgate', 'galaxy', 'lloyd7121', 'petermickley', 'approximately', 'crash', 'seal', 'usabillofrights', 'psychological', 'warfare', 'dhimmis', 'islamjoine', 'sweetromance', '1visionamd', 'redeemed1952', 'azws', 'achosenword', 'showersamp', 'weepy', 'fogof', 'soft', 'lightamp', 'touchof', 'windthat', 'birdswho', 'soarthis', 'feel8230', 'matai', 'ngeli', 'alu', 'polosi', 'nifo', 'bike', 'charlotte', 'officer', 'armor', 'beepbeepamanda', 'morton', 'impersonation', 'lifeasking', 'pity', 'hugs128530128133', 'philhughes', 'nyy', 'itsgirllcode', 'mermaid', 'lure', 'deathalso', 'yuck', 'juicygenie', 'wilde', 'pointy', 'beak', 'crave', 'arroz', 'habichuela', 'chanseydarapper', 'dwyanewade', 'makeyourownway', 'wayofwade', 'skip', 'bayless', 'romo', 'allielexilove', 'carmel', 'purple', 'simplyperfectt', 'pragathiguru', 'viswa', 'moulie', 'shall', 'zog', 'demographic', 'solutionnorthwestimperative', 'thefoodbibie', 'fried', 'lowcountry', 'lake', 'eyeswe', 'bullpen', 'intrepidokie', 'reagan', 'politicallaugh', 'ww2', 'navajo', 'cheezits', 'bbq', 'monstrous', 'skinnyfat', 'poster', 'b1gsean21', 'hellen', 'keller', '2013faves', '8220grahamorama', 'snoop', 'justin', 'tribute', 'betawards', 'golden', 'raw', 'kids', 'mercedes8230', 'lexus8230', 'repossess', 'craigcalcaterra', 'plate', 'redampyellow', 'balkamania', 'bakedbrotatoe', 'spits', 'crackerthis', 'hippo', 'jesstoth', 'burner', 'fab', 'tytytooflyy', 'noap', 'tiffncompany', 'maca', 'root', 'basedchasen', 'conference', 'kitt', 'shinypb', 'pom', 'totally', '92', '3rd', 'perot', 'fru', 'lox', 'itskiaraaaa', 'marker', 'leg', 'donthypeme', '8220vsamone', '8220donthypeme', 'album', '8221all', 'it8221theperfectanswer', 'bird128527', 'revisit', 'chairmanls', 'pan', 'content', 'iowahawkblog', '6pack', 'shin', 'bock', 'brisket', 'duty', 'oak', 'coal', '23vnds', 'renz360', 'renz3608230', 'qvc', 'strawberry', 'shortcake', 'spungecake', 'sliced', 'freshly', 'farm', 'texasdivepro', 'historical', 'irish', 'wood', 'midatlantic', 'abdullah', 'omar', 'qualification', 'cm', 'sperm', 'wwwobert', 'mika', 'wa', 'flavor', 'maple', 'dougnut', 'nerdlifethuggin', 'champion', 'ebony', 'kinda', 'baconparadox', 'ibskeealii', 'longlive', 'shinylipz', 'latifah', '128564128564128564128564', 'kingdrayn', 'rosebeforehoes2', 'milkand', 'spermicidal', 'lube', 'shoq', 'copy', 'killoughcnn', 'alert', 'turtleneck', 'ratio', 'ounce', 'coconut', 'climax', 'brianstelter', 'advertise', 'kristinhersh', 'wyatt', 'mullet', 'ofay', 'forgivemehera', 'nedchuck', 'nohands', 'dejaaleeann', 'coleman2', 'jstarrtweet', 'rivera', 'retire', 'core', 'ahahahhpe', 'pang', 'pow', 'hogg', 'ent', 'uza', 'thegamecubeguy', 'classroom', 'xcx', 'jacobyellsbury', '10th', 'solo', 'benghazi', 'plan', 'mitrebox', 'npratc', 'jj', 'hardy', 'error', 'grounder', 'innin8230', 'whiz', 'ritzcracker', 'hockey', 'lolcrazycat', 'mandylea25', 'ou', 'fanscaller', 'heavily', 'yrd', 'brooks', 'idontcare', 'kdstreak', 'imsad', 'mention', 'jennyjohnsonhi5', 'spray', 'switch', 'lineup', 'soxellsbury', 'cfjeter', 'ssbeltran', 'dhsoriano', 'lfteixeira', '1bmccann', 'csolarte', '3bichiro', 'rfrobert', '2bt8230', 'unsold', 'item', 'thrift', 'garbage', 'lethal', 'cocktail', 'unreported', 'cdc', 'ameezysangels96', 'mahnameisjared', 'guest', 'jant', 'clutch', 'bedtime', '128514128557', 'lemarquand', '825265039muslim', 'slaughter', 'alive', '2escape', 'suchy', 'monster', 'youcansitwithus', 'youngcon1266', 'enlist', 'freedom', 'aca', 'states', 'laralogan', 'brianhopecomedy', '8220daddy', 'batman8217s', 'dead82218220yup82218220and', 'superman8217s82218220yup82218220what', 'die82218220sad', 'nobility', 'royalty', 'nontitle', 'common', 'gutter', 'froyo', 'executive', 'sulerte26', 'acquire', 'ncoleycole', 'stafford', 'megatron', 'fantasyfootballproblem', 'mlbfancave', 'konerko', 'retirement', 'giftwatch', 'great128527', '128555flappybirdisruiningmylife', 'skate', 'slam', 'brake', '128532128299', 'scroll', 'herert', 'harryrellofonte', 'horses', 'durin', 'tracy', 'morgans', 'wreck', 'zappa', '60ssome', 'joker', 'xtinel', 'linda1mmagc', 'slippery', 'defense', 'wimp', 'diesel', 'janitor', 'underchilde', 'swinger', 'brew', 'karlenaskiff', 'teeth128567', 'hobson', 'republicann', 'chik', 'fil', 'hipotle', 'i8217ve', 'shortstop', 'york', 'vanilla', 'jfkirtley', '1961', '76', '08', 'ff', 'consistently', 'marvel', 'ultimate', 'core4', 'mint', 'alison', 'cherry', 'nlisa', 'fashion', 'overall', 'boxer', 'bes8230', 'proofgelato', 'raspberry', 'gelato', 'ginjuice', 'sorbet', 'gelatocart', 'meanif', 'foul', 'situation', 'jigga', 'hillary', 'wankin', 'khloees', 'backpack', '127912', 'hmu', 'jonahnro', 'president', 'piker', 'sad', 'patvpeters', 'ranchers', 'sususudafedi', 'disparagement', 'pride', '85', 'chesterfield', 'backyard', 'stash', 'inspiration', 'and8230', 'ksecus', 'tankees', 'elliottgianaris', 'kensuttle', 'amhistorymuseum', 'reside', 'mantle', 'gladvillian', 'crust', 'luckylancej', 'sings', 'drmayaangelou', 'male', 'living', 'sexnatural', 'realistt', 'undercover', 'freaks128527', 'heroineaddict', 'peaks40', 'outdoors', 'colinfreeze', 'supporters', 'mlnestel', 'vocativ', 'studio6263', 'mamps', 'bid', '8216follow', 'fairies8217', 'campaign', 'marketing', 'tori', '484192841908419moke', '8220plmpcess', 'urban', 'beanreturn', 'mondays', 'enuf', 'cell', 'forth', 'trainwreck', 'sugar', 'sapling', 'heidis', 'emms', 'plant', 'dean', 'vestal', 'else128076128075', 'josephljenkin', 'grumbling', 'bug', 'recent', 'shutdown', 'woridstarfunnyy', 'khaki', 'coloured', 'cargos', 'haircut', 'medicine', 'yellabeautykc', 'bonebobonebobone', 'eurotrash', 'mguiducci', 'nickbrown85', 'vip', 'datachick', 'mentality', 'ellie', 'teas', 'cafeshaw', 'bind', 'amsterdam', 'jessespector', 'hats', 'jihadiinchief', 'hussein', 'urge', 'restraint', 'butchers825265039apparently', 'isiswe', 'hurt8230', 'chamsface4music', 'legion', 'jzolly23', 'kickin', 'golf', 'cart', 'yeeyee', 'weidie1211', 'mowder03', 'jbilinovich', 'cmnw86', 'dannymndz93', 'titan21mtzzz', 'pogue', 'appetite', 'lettuce', 'universionrblx', 'kc', 'blanking', 'beroyalkc', 'oldmanro', 'animate', 'ritchie', 'everclear', 'defecate', 'amma', 'usc', 'anthony', 'calls', 'steve', 'sarkisian', 'quits', 'escobar', 'chomper', 'candyass', 'askdems', 'remain', 'caucus', 'highschoolsuckz', '50000', '8216worth', 'it8217', 'byte', 'conservativebyt', 'alarm', 'xx', 'bobschieffer', '60th', 'anniversary', 'sunday', 'bron', 'pregame', 'speech', '8220willyc14', '8220urbie', 'singlebecause', 'hoosi', '1285278221', 'tgold328221', 'connorbradley', 'mrstories', 'buzzfeed', 'engagement', 'soccergrlprobs', 'germanys', 'likenext', 'header', 'diving', 'atcq', 'hook', 'phifes', 'henry', '23', 'gut', 'lizziecuevas', 'mccarthy', 'outduels', 'keuchel', 'finale', 'whits', 'wire', 'unpredictable', 'kfocht735', 'washing', 'combining', 'fortunate', 'bonesaw00', 'anderson', 'longer', 'charloosss', 'keepitplur', 'nicoleariel', 'homegirl', 'approve', 'mocha', 'doegtgtgtgt', 'love128525128525128525', 'tommy', 'woyke', 'plants', 'justinhall3434', 'bless', 'sleepin', 'monicawarren16', 'pumprule', 'bravoquality', 'briii', 'classmate', '128514128514128514128514128514128514128514128514', 'biertempfeltrib', 'jimbowdenespnxm', 'polanco', 'minor', 'league', 'saraluvvxxx', 'glennalfonso', 'satisfy', 'flame', 'r8217hollor', 'laurabehnke', 'flashback', 'wccorosen', 'phil', 'hughe', 'clerkofoxford', 'anglosaxon', 'calendar', 'november', 'consider', 'janesport', 'birdflippe', 'mia', 'sarahspain', 'column', 'ridiculousness', 'degenerateartist', 'sniffs', 'whiffy', 'involuntary', 'downtown', 'climatechange', 'sneezegt', 'sportswatch', 'dxum7', 'jordans', 'dylankwinnn', 'lilybean1313', '8220commonmankfan', 'drafts', 'friends8221anyone', 'lilbthebiggsgod', 'kirkland', 'biggs', 'oz', 'singlelife', 'teddybear', 'cody', 'zeller', 'nominating', 'years', 'casey', 'matthews', 'venus', 'lynn', '8220dylxnl', 'failstate', 'regankelly91', 'gull', 'physical', 'theatlantic', 'canada', 'coat', 'escape', 'ikea', 'theatlanticwire', 'yankees8217', 'outfield', 'al8217s', 'yankeeson8230', 'crumb', 'newyorkologist', 'autographed', 'babe', 'ruth', 'lou', 'gehrig', '1928', '128553128588', 'sanabria', 'dam', 'saltine', 'lyfe', 'define', 'ticiaverveer', 'kushite', 'meroe', 'sudannear', 'nileit', 'ruler', 'occupy', 'portlandia', 'putabirdonit', 'mightymouse105', 'xbox', 'cooler', 'lighter', 'mikeimbriano', 'briiixo', 'donna', 'upmoulinyanlol', 'oneandonlytina', 'knowyou', 'handicapped', 'harvard', 'ditch', 'hubby', 'ki8230', 'alludra', 'aie', 'camouflage', 'dimensional', 'gore', 'sisson11noah', 'santander', 'deme', 'gallo', 'pinto', 'carne', 'asadita', 'maduritoyuna', 'milca', 'amor', 'romero', 'geokthree', 'sins', 'hooping', 'charliesheen', 'errrrything', 'bint', 'sammy', 'sicko', 'avengerstratus', 'pale', 'guitar', 'natitude', 'beards', 'wigger', 'tydunne', 'linebacker', 'commission', 'gouache', 'tiki', 'wahine', 'tube', 'surf', 'wavesliding', 'waterwalker', 'notkook', 'abuse', 'mobilesuitwaifu', 'helmet', 'destiny', 'invisible', 'bubble', 'robocop', 'therealjuicyj', 'projectpathcp', 'pasta', 'vegetable', 'undignified', 'sprint', 'transfer', 'dawdle', 'pattonoswalt', 'loom', 'crown', 'truedetective', 'hoez4sale', '128530128557', 'creepy', 'keishagreyxxx', 'daydream', 'powerball', 'nerdy', 'oysters', 'gator', 'bait', 'tho128533', 'zach', 'dorsey', 'kodymark1', 'squak', 'squakme', 'upsquakalex', 'defiance', 'alextalksback', 'pbsamermasters', 'bob', 'newhart', 'comedic', 'americanmaster', 'wayans', 'bats', 'leather', 'mfsasso', 'segregation', 'lynching', 'anti', 'womans', 'suffrage', 'spaceplankton', 'smearing', 'orchetect', 'libs', 'uh', 'pon3', 'cameo', 'magic8482', 'crystal', 'tngseason4finale', 'bigjonbul', 'stars', 'wink', 'knowingly', 'lover', 'secluded', 'bridge', 'balmy', 'autumn', 'nig8230', 'badadvicedog', 'compliment', 'theo17100', 'fole', '9ers', 'fran', 'eli', 'dc', 'bs', 'rickygervais', 'genetically', 'chimps', 'twe8230', 'liberalphenom', 'gzs', 'media', 'prosecution', 'thomasarobert', 'thefunnyvine', 'drain', 'dminion25', 'screw', 'experiment', '1corinthians126', 'blessjesus', 'yesfeltand', 'soles', 'reflection', 'blueblood', 'perch', 'politico', 'reelect', 'killer', 'dtb', 'down128541', 'ljspagnoli', 'omfgitsoscar', 'cairo', 'sympathize', 'pockistan', 'morale', '8220hoppk92', 'cocky', 'shutupandplay8221', 'amy', 'err', 'wobn', 'wefo', 'thingspeoplesay', 'fatamypost', 'keitholbermann', 'madea', 'hilarious', 'wcvbkelleyt', 'marywcvb', 'swampscott', 'wcvb', 'shalewis09', 'larry', 'elder', 'degrade', 'linsanity22', 'derrrrrrr', 'showman', 'longbongchris', 'mk', 'textith', 'britty', 'jurgens', 'suggestion', 'spook', 'could', 'mnf', 'murrman5', '8220diycookery', 'cookies128523', '128525128539128553', 'amyalkon', 'admin', 'ceut', 'bushco', 'publicly', 'exofficial', 'book', 'oneill', 'trashing', 'gate', 'morning8230', 'hicks', 'bung', 'amoz1939', 'drinkingto', 'dropwashe', 'teapot', 'haiku', 'mijikai', 'thornton', 'bois', 'proudlyliberal2', 'toddirwin1', 'forgetabout', 'february', 'pennant', 'squinty', 'throne', 'suchaprick', 'hopehegetskille', 'ga', 'sholzbee', 'doristafoya1', 'lmbo', 'jagauress', 'walter', 'lars', 'lynnemrnp', 'amymek', 'ssickstory', 'lester', 'episode', 'styles', 'kathygriffin', 'neontreezz', 'pocbeauty', 'sowhite', 'african', 'blackish', 'doublestandard', '8220heykeifer', '128016', '1286868221', 'lax', 'meijer', 'gooddeed', 'mass', 'govthe', 'lib', 'newspaper', 'bostonglobe', 'thrive', 'economic', 'sector', 'wheel', 'wobbles', 'losthistorie', 'bengali', 'harlem', 'histories', 'south', 'readingconvo', 'busboysandpoets', '14th', 'smithsonianapa', '8220iamkrause', 'iftheygunnedmedown', 'illmak3ufamous', '8220vizyisignant', 'yfly23', 'reblog', 'concession', 'ooxlexx', 'girls128134', 'anntelnaes', 'charbroiled', 'saut233ed', 'spinach', 'artichoke', 'voxpulchra8230', '128586', 'caitnicole3', 'cici', 'phi', 'theofficialeg10', 'laughing', 'sever', 'warn', 'zebras', 'ahmadblack35', 'georgia', 'dustincmc', 'kevinkillsthngs', 'ghettoblack', 'ih8lightskins', 'tylerschuster88', 'aidcpr', 'certification', 'handy', 'bekkalina13', 'calvin2000', 'katiecouric', 'forwd', 'kerry', 'solid', 'investment', 'cue', 'woody', 'afc', 'whiteponyjr', 'tossing', '98', 'mexican', 'wantin8230', 'simplyforkicks', 'computer', 'oop', 'grs', 'lhhny', 'reunion', 'level', 'ratcheticity', 'defiantly', 'j23app', 'feb', '2015jordan', 'retro', 'remasteredoreo314254003', 'billcosby', 'ahead', 'meme', 'cosbymeme', 'advice', 'theclairebear36', 'talking', 'flights', 'liberia', 'reroute', 'marchmadness', 'collegehoop', 'committ', 'cite', 'lvl', 'grape', 'crackhead', 'wleerpcv', 'total', 'hysteria', 'onset', 'shang', 'slot', '8220save208221', 'checkout', 'hall', 'wks', 'consistency', 'patch', 'uncomfortable', 'jareerkassis', 'coexist', 'meshal', 'occupier', 'ha8230', 'izziorizzi', 'brah', 'polite', 'diplomatic', 'sethmacfarlane', 'endeth', 'lesson', 'uk3ba', 'nuh', 'yardie', 'ting', 'bspence5', 'census', 'questionstempest', 'teapotaca', 'stayscost', 'down75milgette', 'success', 'sepinwall', 'fxx8217s', 'simpson', '8220bart8217s', 'f8221', '8220last', 'exit', 'springfield8221', '8212160will', 'consecutive', 'blanket', '128525128139', 'plmpcess', 'silent', 'protest', 'philadelphia', 'performance', 'passerby', 'suspicion', 'rouge', 'wog', 'fella', 'unthawed', 'manboo', 'rubyfakhoury', 'nyquil', 'dreams', 'guynamedjordan', '128532128532', 'memorial', 'available', 'thriller', 'horror', 'bookgeek', 'tylergimblin', 'kyle', 'smelt', 'manure', 'hankwilliam', 'domhowx', 'crush', 'eidolon', 'ebooks', 'dreamt', '8220utragers', 'colt', 'mccoy', 'wins825265039hookem1280028221', 'butterfliesblue', 'gabejgonzalez', 'leija', '140', 'reach', 'wyome', 'conjure', 'insidious', 'fuckkennyj', 'brasso', 'shoreline', 'parakeet', 'eaten', '127821128520128127128127128520128127128127128127', 'skurred', 'reaaallly', 'mariano', 'similar', 'finished', 'yankeeography', 'arizona', 'dback', '2001', 'another', 'gatorhoops', 'illadvise', 'ebs', '14', 'fallon', 'prank', 'fans', 'robinson', 'cano', 'lynchiewcvb', 'martha', 'coakleycharlie', 'bruinsminnesota', 'uploaded', 'uganda', 'antigay', 'freemasonry', 'angloamerican', 'celestial', 'thatsfoodporn', 'kincade00', 'mistaturk5', 'migos', 'imdatdudefish', 'thotgoal', 'lessonswithkate', 'jigg', 'childishgarbino', 'dannys', 'swap', 'danny', 'danvii', 'jrstws', 'qnoftherealm', 'savvyhuman', 'scdorn', 'yrwol7', 'plainunamerican', 'erickinnc', 'puterprsn', 'tomwfry', 'iambitchassness', 'otis', 'redding', 'raver', 'venn', 'diagram', 'intersection', 'vite', 'victory', 'partay', 'jakeeye3', 'dipping', 'creamy', 'childrens', '8220spiritual', 'things82218230', 'inflatable', 'ouija', 'manichakr', 'itni', 'bahaduri', 'interviews', 'mein', 'hamesha', 'marne', 'ko', 'tayyar', 'rehte', 'rebellblume', 'krazy', 'duct', 'roseanne', 'bum', 'zzzquil', 'hazlenut', '128525128588128152', 'tweef', 'newyork', 'decade', 'spenceyy', '5sos', 'scanger', 'lookingformore', '128035', 'spoke', 'hispaniclinkns', 'mentor', 'ericksen', 'latino', 'journos', 'thankful', 'frau', 'laundry', 'amoreshonta', '8220westdontcare', 'jt', 'cameron92', 'elijahfnbaby', 'madden', '510', 'uphold', 'detest', 'ohsodestinee', '8220idoclyfe', 'rowdy', 'thedrunkstory', 'festival', 'three', 'barefoot', 'status', 'harryslaststand', 'armisticeday', 'absent', 'pledge', 'neverforget', 'ancient', 'gru', 'sort', 'bootscootin', 'singe', 'actionwhere', 'normal', 'rudyjay711', 'asain', 'wu', 'tang', 'clan', 'miketaylorshow', 'fallinginthedraft', 'biiimurray', 'storage', '1969', 'apollo', 'spacecraft', 'tonymoore', 'cabinet', 'expire', 'l8230', 'fish', 'actual', 'va', 'tech', 'caldito', 'estuvo', 'incredible', 'snuggle', 'snuggie', 'queeee', 'riiikkooo', 'bumpkin', 'balcony', 'sadness', 'reflect', 'fragility', 'sofuckingswazye', 'surrender', 'divinity', 'conqueror', 'apocalypse', 'gtoriental', 'gatorade', 'fridge', 'itsfoodporn', 'cookies', 'fudge', '8220isignmyownboobs', 'fav', 'care8221whole', 'ward', 'thuggery', 'jameis', 'jdickerson', 'racistnorahodonnell', 'comparison', 'betwn', 'gwbush', 'megalexatron', 'austinthaintern', '128524128076', 'lovely', 'williamfbrasky', 'therandomboner', 'fuzzie', 'cthagod', 'lance', 'stephenson', 'affect', 'elleeebeee', 'stinky', 'tmundal', 'moist', 'lobbed', 'sword', 'ladeda', 'nbcsport', 'eject', 'substance', 'trailor', 'tina', '128556', 'timbersfc', 'chevron', 'stripe', 'bibie', 'patrickkimmis', 'white1979', 'rotary', 'talkmaster', 'nunn', 'founder', 'constitut8230', 'ss4', 'vivelacourtney', 'contact', '128073128064128584', 'parkerhouk1', 'dolph', 'feature', 'trinidad', 'glizzy', '8216chillin8217', 'him8217', 'cantista', 'brelston', 'henereyg', 'potato', 'sfx', 'cape', 'crisis', 'supergreat', 'rasheedibrahim', 'lasthurrahthendietstart', 'linguini', 'fancily', 'thanks', 'jomousley80', 'pilchard', 'krackerwheat', 'typical', 'bbc', 'fabulousanimals', 'thomas', 'kienzle', 'playing', 'tampa', 'dmilz4', 'sz13', 'vnd', 'restorers', 'midsole', 'separation', 'fog', 'jeffersons', 'george', 'stow', 'osay', 'it', 'aint', 'so', '8220ignorealllaws', 'imaginary', 'chillthat', 'ollusion', 'unreal', 'regard', 'wendy', 'handicap', 'pattern', 'uniteblue', 'iamkrause', 'orderin', 'pizza', '8220pubesonfleek', 'brosconfessions', 'forthebros', 'reckless', 'highway', 'skyscraper', 'chanice', 'belaire', 'aj2amazing', 'obispo', 'bo1', 'thegodwriter', 'idoclyfe', 'mw2', 'gawker', 'conan', 'obrien', 'repeatedly', 'nunchuck', 'terror', 'ocean', 'cgoodwoman', 'stevenadamswv', 'hillbillyjamaicapoor', 'hillbillywv', 'progress4ohio', 'meetthepress', 'mccain', 'carny', 'cnn', 'alpha', 'visibility', 'false', 'c00ntact', 'kevini', 'bumcia', 'smfh', 'khan', 'ramboutit', '8220master11', 'austin8221', 'austini', 'curved', 'feinsandnydn', 'headley', 'padres', 'yangervis', 'solarte', 'rafael', 'depaula', 'thesimpson', 'theorlandojone', 'dampd', 'mock8230', 'inthekcmix', 'cavanaghavailable', 'online', 'anathema', 'merch', 'robin', 'williams', 'chaplinnow', 'sandler', 'comedian', 'hildismom', 'redmeat', 'iubloomington', 'australian', '202', 'niallofficial', 'london', 'suns', 'gona', 'wembley', 'yeaaaaahhhh', 'rii', 'clangloisss', 'stephenwildboy', '1280698482', 'khamillkilroy', 'garys', '99car', 'rickspringfield', 'brownies', 'flavorpill', 'nme', 'lynch', 'chrysta', 'hairsthank', 'fori', 'eversotweetly4u', 'klain', 'dampen', 'mushrooming', 'pr', 'fallout', 'nov', 'minutemanx1776', 'theyknownotwhat', 'mayberryjustin', 'allforcountry', 'lilmissprepper', 'ritzy', 'jewels', 'glinsan1', 'birdgang316', 'birdgang', 'eaglesnation', '1trikofficial', 'itsnotadam', 'prob', 'def', 'foodbibie', 'schoolschooschoschscsststastaystay', 'hstay', 'hostay', 'homstay', 'towherever', 'barryclerjuste', 'whatchu', 'lowkeygado', 'pnd', 'vocal', '8216dodo', 'bird8217', 'candidate', 'worldnetdaily', 'hopper', 'blessedyaszay', 'iwanttopunchpeoplewho', 'm193quinauna', 'vez', 'jap243n', 'japonese', 'crearon', 'm225quina', 'atrapaba', 'ladrone', 'primero', 'ezra', 'miller', 'identifie', 'wondertrade', 'pokemon', '27', 'wobbuffet', 'begin', 'cheefpolo', 'thatgirlran', '8220if', '1516', 'cute8221', 'awk', 'missmulgra', 'watchobama8217s', 'degree', 'overgt', 'defy', 'youpeople', 'game7', 'gb', 'tourney', 'schmange', 'fanboye', 'saying', 'camilleftansel', 'hunger', 'sportsgrind', 'simulator', 'babyanimalpics', 'bathtime', 'awwwwe', 'soooo', 'hoadie1006', 'vermontgirlsbelike', 'vermontproblem', 'thisisvt', 'maxmayo77', 'frat', 'parents', 'television', 'council', 'hellfire', 'vaporize', 'bemetor8', 'puremonotheist', 'gerfingerpoken2', 'prez', 'trashebola', 'cost', 'daniel', 'designer', 'emma', 'watson', 'brick', 'riff', 'raff', 'param0nster', 'pancake', 'analyzer', 'whitman', 'mode', 'maxicat', 'rewrite', '8220they', 'civil', 'war8221', 'krislisisms', '97', '03', 'sterling31', 'tfcbook', 'vivek', 'balk', 'coupe', 'machine', 'wontgetme', '128526128523', 'theblondebetch', 'andrewluck23', 'ocare', 'ccot', 'independent', 'bettinavla', 'flgovscott', 'htt8230', 'christianvansly', 'barca', 'wfantrades', 'brutal', 'nonsensical', 'n8230', 'risengrind', 'gertrude', 'larue', 'jewish', 'jefe128520', 'prattle', 'apache', 'replace', 'homer', 'tender', 'fifacom', 'pepe', 'outstanding', 'tackle', 'accurate', 'hos', 'militant', 'notfeeding', 'stencil', 'typeface', 'font', 'ateam', 'whascameradan', 'geee', 'females', 'arch', 'matt29', '38', 'ritz', 'crackers', 'legit', 'eggnog', '61', 'rally', 'rallycap', 'rajput', 'ramesh', 'hindu', 'shivsainik', 'shri', 'jadhav', 'rameshjadhav', 'selxnaa', 'travistefft', 'feeli', 'lifetime', 'ant', 'everybodyhatesv', 'carlozxivir', 'ching', 'chong', '8220kitty', 'hello14', '127850127850127850127850127850', '1280791280791280791280791280791280771280771280771280771280778221', 'manners', 'realtalk', 'teenagesleuth', 'holder', '2manylouboutins', 'hopefully', 'stonisnipezz', 'jap', 'tweeting', 'jerkin', 'hentai', 'checha', 'convo', 'yolo', '8220milf', 'chronicles', 'athletic', 'af8221', 'jumpmastere8', 'dmcgowen1776', 'visitorvisite', 'givin', 'greedy', 'nigas', 'like8221', 'shittin', 'likea', 'goose', 'mitchellharri', 'fkn', 'immune', 'system', 'menachemdreyfus', 'natlfascist88', 'waspnse', 'shabbat', 'jew', 'bastard', 'heil', 'hitler', 'wutkarina', 'drnrdx', 'brandonfxrd', 'looooool', 'parking', 'sterm26', 'realjameswood', 'askin', 'lexvan13', 'nigeria', 'prefer', 'winston', '8220dickfurari', 'malt', 'liquor', 'ad', 'heaven', 'recruit', 'buku', 'here128563a', 'warehouse', 'them128530', 'possibly', 'ponk', 'arbogucci', 'imdope', 'gethigh', 'whackko', 'unfollowe', '2kkz', 'faggit', 'hoed', 'hd', 'bearface', 'yusa', 'cousins', 'nyjusdntgaf', 'natal', 'mendoz', 'paulmoon8', 'yurista4life', 'sassyharryball', 'pluggedinpiff', 'condone', 'sucka', 'activity', 'vexda', 'lollis', 'defendwallst', '1sleepinggiant', 'alike', 'tae', 'rhodes', '8220kim92493', '8220tae', 'kim92493', 'uhhh', 'judged8221', 'whitepoweri', 'nigger8221', 'wo8230', 'shawnirwin9', 'jaytwofly', 'mucka', 'juanyeeze', 'spic', 'nearly', 'wuz', 'zohdaa', 'kirchner7', 'mills02', 'fags128567128567', 'crazyasshole', 'liberals825265039', 'oblige', 'markhalperin', 'wsjopinion', 'upenn', 'campus', 'hoodrichnick', '128553128553', 'fb', 'goodnight', 'antics', 'accuracy', 'thotcho', '8220henny', 'water8221', '128128128128128128', 'fuckry', 'drboycewatkins1', 'minstrel', 'lobstrthinktank', 'laff', 'sydneesmalle', 'mah5h', 'elite', 'transformthursday', 'vegasqueen', 'vegasshowgirls', 'datboyrayt', 'lesbian', 'difference', 'restaurant', 'fee', 'godsmack', 'itunesmusic', 'itunes', 'kiara', 'curry', 'eachother', 'ignorant', 'manziel', 'mallet', 'atleast', 'knowur', 'pack', 'ibezo', 'flop', 'acknowledge', 'deeznutsdoe', 'butthole', 'involve', 'convos', 'hoomie', 'herfarm', 'thedemocrats', 'dumbasse', 'corporate', 'shill', 'vj44', 'feminist', 'coughlan616', 'antiracist', 'codeword', 'antiwhiteantizionist', 'antisemite', 'amandabyne', 'file', 'harassment', 'coworkeri', 'turndowndre', 'kushdaddycorr', 'levi', 'flattering', 'elennamichelle', 'chlldhoodruiner', '8220spannerhead29', 'vertrellcarter', 'faggot8221', 'datboysmokeyy', 'pwi', 'brainwash', 'mashed', 'pgachampionship', 'towel', 'barge', 'no', 'ahhh23', 'wagggggie', 'garza', 'kirstynehbu', 'moccasin', '128077128076', 'boringamphack', 'allah', 'mohamed', 'fagsplease', 'welldid', 'punishment', 'faux', 'pundit', 'molester', 'proslavery', 'homophobic', 'darling', 'plantation', 'warzone', 'geez', 'northkorea', 'hairstyle', 'neymar', 'glitteredinpink', 'rtin', 'killallsimps', 'bieber', 'ove8230', 'nontraditional', 'subhuman', 'ashlingwilde', 'frankiejgrande', 'thirsty', 'midwest', 'happening', 'worryol', 'honeysays', 'backwards', '1285338221', 'mikecheck', '123', 'ovoshubham', 'fuk', 'cha', 'zachpiecowiak', 'eddie', 'sativa87', 'mafreedom', 'connection', 'legitimize', 'lifestyle', 'increase', 'stds', 'deviancy', 'hollowdadonlom', 'chinks', 'snowthaproduct', 'something', 'wetback', 'coo', 'disgraceful', 'embarrassment', 'rabehchararah1', 'heilsidious', 'sion', 'meh', 'gank', 'pre6', 'post6', 'mao', 'faggots', 'science', 'procreate', 'breeder', 'kwagiheath', 'comfortable', 'comthablesmh', 'reverendgrim', 'titsofanarchy', 'sand', 'pecker', 'aryan', 'mongerls', 'slum', '1488', 'patrickstpierre', '8220campaignmindy', '1285571285578220trickinggawd', 'ugiycutie', 'niggers', 'here128557', 'radical', 'niggersit', 'hates', 'drew4130', 'mailgal2000you', 'mail', 'sewer', 'steven', 'segal', 'ponytail', 'westbrook', 'mexicans', 'densonkeith', 'outlook', 'jaclyndeeter', 'homeless', 'thatbajankidd', 'neveraskablackperson', '1776', 'afford', 'honda', 'accord', 'transmitter', 'realdjtv', 'wendydavistexas', 'gregabbott', 'eleycome', 'eleygo', 'caykelly16', 'katy', 'jasonmoriarty13', 'lucas', 'reiddh', 'samzbikowski', 'spaz', '8220simplyhype', 'kobebryant', 'ring8221', 'repgutierrez', 'jumper', 'phrase', 'argumentyou', 'yoshortyma', 'hesitation', 'devilfzyq', 'devilelyie', 'tehdevilclan', '8220thejanicexxx', 'unfollowed', 'real5hfacts', 'phelps', 'handsomeesco', '55', 'dish', 'subtweet', '999665039', 'taylor', 'nallah', '8220mckenxcassie', '1285141285571285578221', 'citizen', 'anglo', 'zigeuner', 'rapist', 'jakiekoelewijn', 'gays', 'ag8230', 'faggotsgt', 'therapy', 'retardsgt', 'ahhhahahaha', 'popeye', 'blaspheme', 'pos', 'efilnikcufecin7', 'jiggaboo', 'amarierubio', 'eyed', 'liberty', 'thatangrynigga', 'bettyboo', 'lesbians', 'westvirginia', 'leftisthomosexual', 'gear', 'infiltration', 'priesthood', 'boyrape', 'sonic', 'sizzurp', 'bootyacid', 'ilikecats74', 'yopapi', 'chulo', 'lego', 'leighvl', 'rasta', 'americanwhitehm', 'thingsiwillteachmychild', 'snakes', 'rebel', 'georgiathenewsa', 'rosaalbae', 'looking', 'sweetakin', 'obviously', 'officialskai', 'kike', 'cocksucker', 'itskeeshkapeesh', 'dictionary', 'darthdanaa', 'kingjame', 'heauxmersimpson', 'vaca', 'smith98', 'nathanndevlin', 'trophy', 'soldier1eaodgrn', 'lrg', 'vomit', 'rant', 'elchavaloko', 'argentino', 'fiste', 'd9rize', 'terrorfranchise', 'd9oxy', 'tittyy', 'tweetlikepontiacholmes160i', 'pontiac', 'sprinklernigga', 'lcxancilleri', 'virginia', 'dss', 'aasthaxoxo', 'stanleystinks', 'selfhating', 'gds', 'beverly', 'entertaining', 'mid', 'thirty', 'fugazi3011', 'lid', '1281281285148220saina', 'faal', '8220martian', 'mulah', 'ashy', 'ankle', '1285678221', 'combine', 'honda200', 'whosjuly', 'kenny', 'wright', 'itsfrankybitch', 'whitesonly', 'gtta', 'vinitahegwood', 'ag', 'diversity', 'tolerance', 'cougar745iii', 'purse', 'stereotypi8230', 'stab', 'patrick', 'bateman', 'rsberto', 'haitian', 'haiti', 'illbreatheyouin', 'anony386', 'turntolive', 'tweenki', 'causung', 'mischief', 'pennsylvanian', 'frustrate', 'unlike', 'okcupid', 'mernin', 'kardashian', 'surgery', 'repulsivetool', 'kingxxlopez', 'fag128514', 'chat', 'spacejam', 'teeg', 'heyyayled', 'genetnbarockbox', 'michaeldbirch', 'keltor', 'wade', 'badnewsali', 'quanb24', 'drydenneal', 'leaux', 'worstrapiyrics', 'bellaangeletti', 'lolz', 'quanny', 'skater', 'hekterr', 'receptionthis', 'jadegreenleaf', 'dietoday', 'toyamiani', 'farrakhanthetime', 'kitty', 'gth', 'nahh', 'monnetteee', 'romeo', 'styl', 'mawson38', 'americ00n', 'banwagoning', 'nroth44', 'infidelpamelalc', 'everycunt', 'naaaaa', 'protestant', 'filth', 'drfreezeburnn', 'daithidenogla', 'hellootitty', 'emojis', 'milfmob', 'obese', 'xdsmooth', 'flinch', 'priceless', '1bookieg', '8220freddiegibbs', 'pahahaha', 'responsible', 'gellebeaux', 'stopsavinthesehoes', 'theshardyrebel', 'cssalazar15', '128513128514128514128514128514128557', 'patriotsorg', 'mayweather', 'picks', 'fighters', 'fightpacquiao', 'floydmayweather', 'poote', '8220not1fuckisgiven', 'dozen', 'doughnut', 'pecan', 'b19', 'obeymy', 'realness', 'makeanothahov', 'crybaby', 'pinkfor', 'protectedby', 'delaney', 'guinan', 'texting', 'connorbagen', 'mens', 'madisonearhart', 'columbus', 'billmaher', 'tease', 'robert', 'broad', 'dome', 'tragic', '602strangeangel', 'parris69', 'jmanziel2', '8220realzachk0enn', 'faggot8221you', 'nien', 'nunb', '8220daniellathepimp', 'melt', 'snipersinperil', 'shinsnipes', 'cotton', 'picker', 'forgot', 'texarkana', 'arkansas', 'southerner', 'righttt', 'dta', 'markiiejay', 'saudi', 'olivias', 'fitz', 'batshit', 'brizgotti', 'hypebeast', 'nike', 'milesm', '05', 'alfieheydrich', 'rhode', 'deuterostome', 'goat', 'nooooooo', 'douche', 'dumby', 'ight', 'schedule', 'asap', 'ford', 'idfk', 'albert21', 'ceto', 'pulledthat', 'spon', 'homo', 'degenerate', 'slimgirl', 'probz', 'calld', 'usen', 'whoop', 'marylene58', 'maggietanquary', 'ugliest', 'reptile', 'lovelesslovely', 'kwitchabichen25', 'aklve', 'uberfacts', 'studies', 'bitchbuh', 'shorty', '1282991285148221', '825265039825265039', 'seek', 'driving', 'sonnen', 'aychmoore', 'discipline', 'hoodrat', '8220medaoriginbitch', 'greet', 'insult8221', 'maxin', 'betha', 'humbltonbanks', 'socks', 'joltng', 'niger', 'building', 'rihannahasaids', 'aight', 'marchforinnov', 'belong', 'mflagginski', 'hurricane', 'milwaukie', 'dui', 'environment', 'correct', 'can8217', 'livin', 'bringin', 'propery', 'hahahaha', 'opatz1', 'rush', 'ilk', 'mayormcginn', 'racial', 'criminally', 'incline', '128553128514128514', 'bakegriffin', 'relevant', 'cousintoucher', 'whitetrash', 'ncrusade', 'godmaniac', 'lnsightful', 'zt', 'supreme', 'uncr4fted', 'kindergarden', 'dangitstiff', 'shrek', 'tweetfrmthesole', 'it8217s', 'pat', 'they8217re', 'kidnapyogranny', 'entertains', 'snakehaid', 'wsaleen15', 'rducppp', 'synnseer', 'rebelgirl2040', 'armed', '8220kaylendenise', '1285288221', 'retweeettt', '1000x', 'bankheist', 'shawnacarr99', 'osama', 'isaidnick', 'infidelalie', 'encrust', 'muslim', 'idisdummie', 'coherent', 'salmeron', 'mexicannigger', 'iamshady', 'realdonaldtrump', 'memphistn', 'joecaroselli1', 'rolls', 'didntdonuffin', 'dreaaalove', 'trayvon', 'cultist', 'jayswaggkillah', 'rebelscience', 'genetic', 'engineering', 'clone', 'rome', 'fendi', 'nuttin', 'lmaooooooooooo', 'whoswilly', 'moisessp14', 'funsizedyogi', 'theblackvoice', 'horrific', 'wld', 'intvw', 'itwas', 'po0pdogg', 'marclamonthill', 'wrongwitch', 'bossy', 'wrongbut', 'noneshallpass97', 'mrhoratiosanz', 'vin', 'scully', 'camel', 'jockey', 'liesaboutvinscully', 'jrise88', 'anderson4', 'kip', 'tokuda', 'niggerize', 'pd', 'bnp', 'overrun', 'mongrel', 'perish', 'viewfromboxseat', 'reasonswecantbetogether', 'fuckthemallcop', 'atblackface', 'uncleunco', 'bobbybotsod', 'racistnegro69', 'cheating', 'alyssawiens', 'sarakateee', 'faze', 'fazeisgay', 'thechefboyrd', 'victoriaaa', 'lee', 'anniespringer', 'mitchmancuso', 'brantprintupwhat', 'tunwhat', 'jakesiwy', 'ryan', 'murphy3', 'randy8230', 'beesands10', 'kmdk83', 'beautifulminedi', 'barbod6fcb', 'cblaze', 'oddbeast', 'comp10tx', 'lowkey', 'charity', 'organization', 'heterosexual', 'iowa', 'nowomanisright', 'jmellor432', 'rabchenko', 'exquizitebeauty', '128584128584128584', 'theomaxximus', 'gerryshalloweenparty', 'markroundtreejr', 'peoplehate', 'earlylegend', 'jaymesshaylan', 'fuuck', 'jalen', '8220mikeypdacav5', 'dope8221', 'mirandawigley', 'edenbaby101', 'chuu', 'baka', 'lanurse1', 'michaelbrown', 'supporter', 'klsouth', 'iwanthis', 'barnyard', 'gabbys', 'jihadistjoe', 'military', 'honour', 'whatsoever', 'unarmed', 'rosiezaya1', 'weddle', '8220sexualgif', '128514128128', 'salamancode', 'proof', 'roman', 'catholics', 'faggot696969', 'buckcity', 'thatlatsonkidd', 'roid', 'rage', 'defence', 'sheboon', 'n1k', 'nak', 'answers', 'got', 'reverend', 'coolie', 'gbe300', 'runnin', 'mrzsixtrue', 'pieswell', 'pie', 'natethaalmighty', 'lovers', 'imalagirl', 'manager', 'okie', 'facetious', 'niggerwhat', 'blackjesus', 'disappointed', 'aaronmacgruder', 'keebithalal', 'loganswarning', 'islamofascist', 'cow', 'retort', 'idiocy', 'cloutgod', 'cob', 'him8230', 'obeyyreggie', '8220tedddydgaf', 'americani', 'racist8230', 'jhazethagod', 'whomp', 'mynameshouldbe', 'kerrythekilla', 'truuueee', 'rtnba', 'nikejordan', 'glitter', 'dudes', 'lopez', 'lo520', 'grindr', '8220boojieque', '128514128169rt', 'faces8221', 'weirdos', 'alicia112794', 'ride907', 'dramatic', 'whistle', 'andrizzy', 'beiber', '128557128514128557', 'danielsizelove', 'conrad', 'mlg', 'fredo', 'gottaluvlexci', '128557128557128557128557128557', 'myhips', 'dntlie', 'js', 'some1', 'photoshoppe', 'smmfhi', 'strategy', 'workingtpm', 'goper', 'wetbacks', 'backpedal', 'sight', 'fuckkkkk', 'princesslexii16', 'leslieeeixta', 'bdub', '128557128514', 'psychiatry', 'immoral', 'redfernave', 'steeler', 'darky', 'niccacall', 'bunnyboondocks', 'ps', 'kuntakayne', 'natl', 'disperse', 'bassem', 'masri', 'klejdys', 'hustlin', 'critical', 'revenge', 'luiesanches', 'ratata', 'plainblack', 'useemitch', 'knooooooow', 'joeo670', 'bernsein', 'bernstine', 'chi', 'newser', 'dealcry', 'niccol3', 'xo', 'balless', 'meswaagg', 'freeajay', 'wnba', 'bball', 'austing1135', 'nicely', 'sheeple', '128073sweetpotatertotoh', 'sexist', 'teabaggerswho', 'scottpelley', 'ntx', 'particular', 'wh', 'sammytbh', 'lotto', 'moniqueeedavis', 'garner', '412', 'heyyyyyyyyyyy', 'hoetru', 'stu', 'spicskkk', 'first1488', 'spewed', 'husbandry', 'tick', 'hound', 'misty', 'moetzart', 'duckydynamo', 'smarter', 'sblmnl', 'crmnl', 'woods', 'dolangang', 'anthonycampos23', 'toosoon', 'crusader', 'yeiiowbang', 'gezus', 'houston', 'nbombs', 'bossmelle', 'bobbybotsods', '128074128074128074', 'misplaced', 'fit4lifemike', 'whitecholo23', 'chanelisabeth', 'gainz', 'mirin', 'later8230', 'bittersalty', 'crawl', 'dontarguejustacceptit', 'soetoroobama', 'downsize', 'oppressive', 'mixed', 'ur8230', 'gvvenivere', 'stalkin', 'newyorkcity', 'nochill', 'killsemaj', 'southcarolina', 'kissmy', 'klassy', 'saidgtgtgt', 'v8230', 'jesuschrist', 'agegt', 'spartacus', 'psychotic', '999665039128139', 'cantstanducunt', 'wall', 'hjhdyhdhlgjdftilh', 'kcarmouche', 'chanel', 'puss', 'staristhefuture', 'gopblackchick', 'fathom', 'hypocrisy', 'pharrell', 'gtlt', 'uncleruckus', 'bd', 'dirtyimage', 'tronkitty', 'jail', 'bloody', 'honcho', 'aryanlive', 'davethebrave1', '100x', 'azmonsoon', 'azflooding', 'cheyennewright', 'villasenor', 'kanyew', 'jgardenofeden', 'kysportsradio', 'ryanlemond', 'butcountry', 'listeners', 'alcoholic', 'a1lovely', 'crazysome', 'shooting', 'thechriscates', 'obvious', 'evandmyer', 'nineinchessoft', 'benghazzi', 'nws', 'mitchvorce', 'boburnham', 'straggot', 'maniac3x', 'larryx2010', 'tmt', 'di8230', 'deedee', 'timmys', 'beavi', 'mentally', 'deno', 'kaitlyninst0ne', 'letsargueboxing', 'kidd', 'vodkapapixo', 'clash', 'ahh', 'coulda', 'emmaleeeparkerr', 'theyfaggot', 'ceasefirelet', 'milesthompson', 'webb', 'bullet', 'fuggin', 'forehead', 'beamthat', 'jharmelink182', 'prophzilla', '3005', 'mlvassallo', 'aids', 'infect', 'stinks', 'tomyfacebro', '8220baethingape', 'faammoverall', 'unbelievable', 'willed', '8220alexadelsanter', 'corleyhuff', 'vitchhhh', 'jmc2488', 'jetsgreen', 'tb12fan', 'ampwhen', 'ron', 'olive', 'gardenturn', 'crackergiacier', 'shoppingturn', 'amour', 'tajiana', 'continue', 'braxcity29', 'maria', 'obregon', 'sophia', 'freeman1', '34', 'joshgnf', 'brana', 'nv', 'define808', 'ironbjk', 'mrjstn', 'overuse', '8220waymoflydenu', 'faggots8221', 'phreshagu', 'shvkxir', 'baesongz', 'jayzoverrate', 'ahmed', 'mikey', 'olympic', 'dantoomey2', 'koolqueef', 'sharpie', 'fist', 'notoriousbm95', 'rodriguez5', 'vinny2vicious', 'sista', 'petrie22', 'geta', 'jrwrz', 'pls', 'benton', 'carve', 'bloggerboxe', 'rianscalia', 'anon', 'therelike', 'hollywood', 'elizabeth', 'astupid', 'hype', 'niggerous', 'tomato', 'soup', 'markrothschild1', 'rockprincess818', 'nofear3136', 'lanna70115', 'benjaminnorton', 'badge', 'nazis', 'alaqsah8230', 't5', 'harris', 'wr', 'gri', 'uf', 'fsu', 'weston', 'sleezy', 'jeezy', 'asphalt', 'gmb', 'topblokebill', 'arii', 'dxpperjay', 'theerniie', 'intheovenjews', 'slavecatcher88', 'ovenjew', 'nigs', '300', '128514128514128514rt', 'goon', 'fkkk', 'down128293', 'sophiero3', 'medal', 'privilege', 'mikeaveli', 'perceive', 'injustice', 'darealalexinla', 'broken', 'davidly62793584', 'wallet', 'whilst', 'sarahvicwood', 'deuterostomes', 'cspan', 'swill', 'alcohol', 'ihatemoon', 'dealer', 'therealjrsmith', 'swaaggyyv', 'kamikaze', 'vinniepolitan', 'holyh00ker', 'dyke12812910024', 'raunchy', 'seannn181', 'inurselisa', 'blackredsoxfan', 'missvain', 'sirturn3r', 'waddupivy', 'dougie', 'yamme', 'probs', 'vhia', 'staycoolwheel', 'studhardt22', 'joshua', 'rollingwithtrin', 'knowwww', 'pussy128530', 'theonlyreed', 'tone314', 'banner', 'peasant', 'blacks', 'lildurk', 'bitches128556', 'aslina', 'trigonometric', 'um', 'nytminuscontext', 'jasminee', 'gamboa', '8220alicia', '688', 'vice504fly', 'greg', 'pics8221hatin', 'theprinceofnj', '8221252', '8220niggaimtatte', 'fixitjesus', 'tatted', 'stepheeezyy', '8220187xo', 'hg', '3yrs', 'nigha', 'restau8230', 'andrewjburns1', 'grime', 'trob', 'placement', 'scope', 'typically', 'hateful', 'antichristian', 'jennifer', 'melisa', 'erwin', 'danilonavarro85', 'chainsaw', 'mkay', 'salomaesadiqa', 'farrakhan', 'thetime', 'bias', 'twerkn4boba', 'donnerkay', 'surlyrevenant', 'enrage', '64', '290', 'weapon', 'legshis', 'hatred', 'fuel', 'arsenal', 'halfbreed', '128569', 'leo', 'jai', 'appearance', 'roleplayinggame', 'soulless', 'xdalovelytishai', 'nohoesnextdoor', 'assuming', 'classicbray', 'pp', 'yeawhat', 'maidana', 'broner', 'melecht', 'apartheid', '8220no', 'pedestrian', 'darkies8221', 'angelaaau', 'beaadawgg', 'trashiest', 'insta', 'boys', 'dirtyskimask', '82201stname', 'sons', 'fag8221', 'mariancristinax', 'filthy', 'fardousaa', 'becuz', 'drreams', 'receptionist', 'pertile', 'goodness', 'zipperhead', 'valonfox13', 'blk', 'schitt', 'oversensitive', 'waahh', 'hypocrite', 'agreasymonkey', 'properetacet', 'jonesss', 'shefeelsd', 'payne', 'milesfan79', 'soopsoo', 'rehab', 'hoesand', 'healedback', 'kcsnowwhite7', 'samsaunders42', 'nappy', 'marry', 'cb', 'baby24', 'thunduh', 'alsarabss', 'alfanolisa', '1791', 'mariachappellen', 'gee', 'baiter', 'prietito', 'lovexlilyy', 'jigaboos', 'homewrecker', 'ajade', 'knowin', '128586128566', 'charlesbarrkley', '58', 'to82211', '510breaking11', '3suck', 'porch', 'politeasshole', 'mentions', 'the8230', 'breeolson', 'gingerbeard66', 'prestigious', 'establishment', 'realsheembacc', 'beethetranny', 'mugshot', 'jawga', 'savanigga', 'officialdthrash', 'jawgaboyz', 'softestmuffin', 'tee13', 'torahblaze', 'liver', 'itsyour', 'wannabe', 'whooooo', 'chelsey', 'yourdudeferg', 'shaped', 'nekkohbk', 'mcm', 'sophhh', 'marie', 'emo', '2014samanthakay', 'ghostattics', 'banks', 'tran', 'chickengeorge', 'dead1281288220takeme2china', 'peagles14', 'versanche', 'rakwonogod', 'stupidity', 'iemonaid', 'nazi', '128567', 'iamniarich', 'printer', 'libraryit', 'happppppy', 'birthdayyyy', '104119110411961043215', '10433581041219', 'mjs79', 'chingonabe', 'femalejokerhoee', 'nevermind', 'thnk', 'fence', 'wishywashy', 'calm', 'yoself', 'godaddy', 'sopa', 'reward8221', 'pal', 'dessantigina', 'tonyjrodriguez', 'wolfvanhalen', 'rol8230', 'nahhhhhaahahahaha', 'cuzimdaddy', '5feet', '0inches', '100d', 'boyyyyyy', '128586128586', 'runuldorant', 'santi', '4l', 'bamoose12', 'stalk', 'itsmander', 'kfcyou', 'kfc', '5000', 'truck', 'sycksyllable', 'yawlknow', 'barbershop', 'spoiled', 'inb4', 'collegehumor', 'fully', 'samesex', '8220staycoolwheels', 'faggot8221elmaestro1', 'pitbull', 'goddamit', 'harmon', 'jennas', 'rodd', 'kennie', 'hahahahahahaha', 'sour', 'upset', 'feverspell', '1dgroupiegossip', 'bundle', 'utah', 'polynesian', 'mayoral', 'nonwhites', 'faggotsfag', 'theracistdoctor', 'erikcochrane', 'tonydecola', 'cashhhhhh', 'deleting', 'dike', 'wedges', 'will123', 'william', 'peckin', 'order1', 'christian2', 'colored3', 'porto', 'arab', 'dont', 'axin', 'coffincreepxx', 'lokihulibele', 'aamaadmiparty', 'aap', 'maoists', 'terroristscongies', 'delusional', 'gtdavidmasciotra', 'mcwilliamsbrett', 'legs', 'juicy', 'squeaky', 'minded', 'likely', 'indentured', 'servant', '8220arosati96', 'bromance', 'real8221', 'extender', 'danger', '8220bossmobbe', 'honkey8221', 'kiddsmy', 'pyt', 'saramariewelch', 'digital', 'selfie', 'thorpe', 'emily', 'cuhcuhcraig', 'kawhi', 'leonard', 'leak', 'nvm', 'msjoseline', 'lustboy', 'kakao', 'tsm', 'kitlange', 'oppress', 'shove', 'amendment', 'migrate', 'rd', 'durags', '8220my', 'died', 'dammn', 'pothead', 'twitter8221', 'jaibrooks1', 'ksteven37', 'nigga128078', 'payin', 'bigga128514128564', 'junglefeverfren', 'comeback', 'herb', 'wax', 'swallow', 'soxs', 'bald', 'standn', 'gates', 'swisher', 'session', 'cigarsnscotch', 'thatgapeach', 'alla', '1281308221', 'temple', 'dmvfollower', 'maryland', 'monogamous', 'didi23', 'delbert', 'belton', 'maryforbes14', 'enemiesofdonnaj', 'stephannanson', 'rino', 'speakerboehner', 'karlrove', 'frankluntz', 'conservatives', 'vernon1488', 'times', 'prison', 'miranda', 'mills', 'ginger', 'niggasbitche', 'jerrilyn71', 'historygoon', 'dicklicker', 'happily', 'queersi', 'fudg8230', 'midlaner', 'q', 'alexishope', '128149127926', 'flow935', 'y225ll', 'soca', 'lordwillin', 'animeking420', 'inkmyholebody', 'inbreed', 'paula', 'deen', 'extinct', 'ayefuckwoody', 'coryburgess87', 'afp', 'helpful', 'parenthetical', 'explanation', 'pombuenaa', '8220dnumberbefore2', '8220vice504fly', 'dnumberbefore2', 'b8221', 'famous8221these', 'ktpowers98', '8220tp', 'westsideflee', '1285611285611285341285341285551285531285531285538221fall', 'thechicagobaker', 'stopbeingfamous', 'raniakhalek', '72', 'wedlock', 'a47', 'vonteeeeee', '193lbum', 'fotos', 'gaywrite', 'project', 'highlight', 'ayy', 'carlton', 'switchedatbirth', 'godrocamora416', '8220nochillpaz', 'activities1', 'xbox2fucking', 'pet3', 'school8221', 'tielermlg', 'psvch', 'halfasse', 'skidmark', 'fucktard', 'alexissert', 'wright955', 'michaelgt03', 'bam00se', 'airlines', 'huff', 'thinner', '8220bixxhmakemerich', 'gay8221or', 'bi', 'bgally17', 'teammate', 'brandonprust8', 'yapping', '69', 'latinas', 'tip', 'manhood8230', 'ariesspear', 'come8230', 'ninja', 'moniee', 'china', 'slicing', 'forsake', 'married', 'matthometeam', 'radar', 'amazement', 'joy', 'injust', 'brenddan', '8220funnypicsdepot', 'wut', 'maxwell', 'larsen', 'tiffantasticc', '5eva', 'starkfreeordie', 'outgt', 'wannabecommunewithoutrailroad', 'stategt', 'cali', '8220crowdifornia', 'oniinebaby', 'lmfaohilarious', 'goldwhippp', 'tanner', 'atspace', 'jamie', 'foxx', 'treybizzy', 'weeks', 'rfn', 'idaho', 'truenovacane', 'mfka', 'roscoedash', 'sideline', 'eda', 'queers', 'aa', 'vbomb20', 'gduenez', 'jimboberson', 'sexwith', 'sockson', 'leonbaptist', 'mouthy', 'feelinyurthroat', 'beta', 'mariachi', 'slanguage', 'ceiling', 'passit2liv', 'longlivetylerd', 'witcho', 'abc7', '26yrold', 'tuesday', 'loves', 'biebs', 'religious', '8220rocafella123', 'waymoflydenu', 'fleek', 'vocabulary', 'pt', 'tiqqz', 'shinsnipe', 'christ', 'tutor', 'tas', 'zeitgeistbabe', 'lincromero7', 'jtstover', 'theobamadiary', 'rebhug', 'loriisright', 'department', 'gypsies', 'halfbreeds', 'trayvonmartin', 'zimmerman', 'thenetherland', 'unwashed', 'sheemteam97', 'cunts127468127463', 'gossipcop', 'julie', 'facednigger', 'fuckboirik', 'youza', 'iamken', 'farve', 'stuckup', 'brit', 'atg', 'knockdown', 'billionairecrow', 'neelahrelate', 'fe', 'sharpton', 'sunflower1790', 'shelliecorreia', 'jan4usa', 'niggress', 'clinchmtn316', 'sixonesixband', 'pullin', 'smasey', 'therealcvl', 'coryholmes24', 'kbye', 'native', 'tanktopshotta', '128582128130128520', 'saddybey', 'leiacatherinexx', 'stoni', 'librarianknight', 'templar', 'boris', 'fagjo', 'channymaraj', 'bran', 'nurturing', 'ovotiluoverdose', 'flossinlawson11', '9995', 'millerlite', 'broganwebber', 'beyonc233', 'jizzatthescene', 'assume', 'ivan', 'splash', 'bitchi', 'oneso', 'niggashut', 'briana', 'rashae', 'fuckeveryword', 'backtrack', 'whse', 'mgr', 'girlboy', 'celtic', 'ians', 'kamrenee', 'englishbrit123', 'commie', 'mrgeology', 'cement', 'knob', 'douchebag', 'holder8217s', 'isn8217', 'pickananny', 'lillivonschtupp', '13damage', 'brazenmodels', 'magazine', 'chromeasome', 'oklahoma', 'zwaaad', 'seegt', 'linegt', 'creation', 'overbreedinggt', 'periodgt', 'midniteboss', 'snipe', 'stoopid', 'randypawlik', 'cooopster98', 'chase123456718', 'devin', 'hester', 'mimistheone', 'sandusky', 'weirdo', 'shelby', 'sandwiches', 'darienbaby', 'jk', 'smith64', 'pablyandrew', 'mccartney', 'vanessa', 'honeybooboo', 'gazelle', 'stephenke', 'screenshots', 'philwotg', 'whitest', 'rednationblogga', 'shady', 'shethetruththo', 'guilt', 'absolve', 'fieldssuburbs', 'arrogant', 'djchubbeswagg', 'wutang', 'veeveeveeveevee', 'bidens', 'business8230', 'knowledge', 'imperfection', 'fuckingcashbro', 'bowl', 'waavylee', 'balls', 'yattabing', 'trelaire1st', 'gotbunns', 'dolo', '128074128514128514128514', 'soulsurvivor', 'zakbauer', 'zak', 'tretyler', '108', 'nonenglish', 'okiecop', 'phillytheboss', 'henny', 'negroes', 'panic', 'gotcha', 'liamgeraldshone', 'arannicolwhufc', 'dsaend', 'chrisjones', 'whyyousoshort', 'sramirez07943', 'goldbar', '128528128076128079', 'yt', 'receive', 'shrugs', 'muthafucka', 'chemicalkidss', 'infant', 'wacthh', 'catering', 'parasitestcot', 'richxinxflavor', 'phillip', 'ayeedeb', 'example', 'skrabah', 'trollingfag', 'chcgo', 'blck', 'pstr', 'flood', 'dth', 'ovr', 'endorsement', '8220u', 'sellout', 'ngger8221', 'wyattnuckel', 'insecure', 'antoniofrench', '2have', 'babies8221', 'panther', 'credibilityshot', 'fergusonriot', 'justice4mikebrown', 'westwest', 'yall', 'phampel', 'woohoo', 'mimiswagnotes', 'joh2guy', 'everythingnow', 'tortoise', 'bundyranch', 'krispy717', 'grizzboadam', '8220nihao', 'loaf', 'chill8221', 'wclemon', 'thejoelberggren', 'plus', 'tex', 'drapermark37', 'humans', 'tusk', 'christian', 'womanoverboard', 'kraut', 'towelhead', 'slightlyadjuste', 'capotoheaven', 'alls', 'soda', 'hobokarl', 'ramble', 'trashy', 'tipsy', 'lawless', 'lustful', 'iceyy505', 'darkie', '3mins', 'triple6em96', 'hunglikerobby', 'thin', 'meaghanyockey', 'butch', 'fuckhead', 'yungrajee', 'premium', 'hunt', 'wwltv', 'gayle', 'japped', 'uglyhxes', 'blacc', 'chyna', 'crip', 'abstraktalante', 'professor', 'unorthodex', 'elbasedparko', 'assholeofdayear', 'trannygo', 'tedcruz', 'ran8230', 'title', 'deed', 'wher', 'seymor', 'buccs', 'seanprice', '8220ttevy', 'affection', 'here8221fag', 'aldofelix', 'ctfu', 'xoxokelsey', 'losangeles', 'deport', 'poloswagmaster', 'scenario', 'mxllxvv', 'vivalajuicyy69', 'tragedy', 'dirt', 'montea', 'rollin', 'kayysavage', '128527128553', 'somethingigetalot', 'hawaiian', 'maggie', 'burdis', 'nickgoldapp', 'nebraska', 'denytheprophecy', 'legionary1488', 'jomavaesjos', 'ebloa', 'ray7', 'congratulation', 'officialskais', 'justdome', '128664127926128543', 'bathroom', 'gonzalez', 'username', 'bitchdicknigga', 'hayseed', 'yaselve', 'buffets', 'niggerfood', 'niggerperson', 'trashcamopearl', 'holler', 'road', 'ramlogan', 'uwi', 'mudda', 'limelight', 'theafricansiren', 'suspicious', 'h8', 'monkie', '128557128557128514how', 'badshah200', 'stlabubadu', 'threat2', 'apostate', 'kufargti', 'cld', 'wsword', 'islam', 'ampwatch', 'squeal', 'muzzy', 'mideast', 'midgetmadz', 'limp', 'isolate', 'hamster', 'stevoburns561', 'imswaveynshit', 'freddiegibb', 'heeeey', 'jewelsanddrugs9', 'ladygaga', 'madonna', 'madonnas', 'gaga', 'acl', 'phishlicia', '128545128545128074128298128163', 'l1ltr4p', 'sorrynotsorry', 'stupidbitche', 'kidnap', 'ohiowhat', 'shitmybosssay', 'taxstone', 'sassyharryballs', 'ballsack', 'farrar', 'xzimpx', 'chu22', 'ryanriehle', 'ethiopian', 'starvin', 'africa', 'buyfoodlittleguy', '81614', 'govjaynixon', '8220kill', 'hijack', 'presser', 'cancerous', 'timrosscomedy', 'craig12', 'tim', 'lebrons', 'expression', '8220inkmyholebody', 'xloitersquadx', 'staccs', 'wnt', 'fold', 'owner', 'yaboylilb', 'hiring', 'site', 'esem', 'sweetkixx', 'ofmine', 'infatuation', 'hebrew', 'fite', 'constituant', 'kevnasto', 'jackies', 'blondeproblem', 'jezzzz', '8220ginga', 'snaps13', 'shitpussiessay', 'jessica', 'tomorrow8221', 'ritenourschool', 'luvvida', 'jennybaquing', 'stereotypes', 'vodkathoughts', 'overly', 'powered', 'rsherman', 'racismisaliveandwellbro', 'conduct', 'straightgt', 'sonofgodgt', 'humplayproblem', 'lucricusis', 'dagger', 'dd', 'mtv', 'odb', 'lgbtq', 'mma', 'aflcio', 'onefucking', 'youi', 'qui', 'thepharaoh', 'zapollo0803', 'mildlydarkskin', 'element', 'tru', 'jean', '8220maxwell', 'uncledaddy69', 'weakenednachos', 'ep', '128175he', 'prosper', 'prevent', 'saucygyro', 'regionally', 'picky', 'wifebeater', 'yougt', 'islamnation', 'yogt', 'kirogx', 'pretend', 'bazinga', 'sidekicklike', 'andreberto', 'ped', 'munching', 'barrybond', 'goddamn', 'grandmas', 'maury', 'bravo615', 'bitchkrieg', 'cubs', 'saraelizabethj4', 'farmer', 'bossace555', 'sounds', '56pm', 'erintaylor14', 'brios82', 'villagebae', 'heidil', 'pigfucking', 'itsjustme7o7', 'mzkerievan', 'ctbauza', 'kriegsson', 'tradition', 'campos', 'uli', 'hesgay', 'jayfucknharris', 'youuuuu', 'genuinemitzi', 'nonvictional', 'fags', 'tiffnasty', 'nicole', 'serious8230', 'crackerjhak', 'anthonybialy', 'hrs', 'anuglynigga', 'bigbootybishopp', 'lassen', 'kyleefagnola', 'democr8230', 'menace2society', 'enemy', 'reconnaissance', 'asslxrd', 'inner', 'boutta', 'chain', 'rando', 'zoe', '1007165039', 'dime', 'clout', 'terrorism', 'm10eezy', 'reppe', 'rtcommence', 'carpet', 'bomb', 'soldier', 'execute', 'tunis', 'dolphrudager', 'cortez', 'chinatown', 'bulldoze', 'drizz', 'lakerking', 'invader', 'zim', 'sickening', 'jar', 'pickle', 'lizard', 'boythats', 'aryah', 'foolishness', 'agg', 'nugget69', 'sideway', 'dini', 'yous', 'laughable', 'amigo', 'nate', 'stoked128299128299128299', 'jpantsdotcom', 'realtony', 'faggothomoboth', 'fairly', 'twisted', 'gutierrez', 'alf', 'ashhruggiero', 'crisco', 'shmalec13', 'occdissent', 'coulter', 'gettingreal', 'soooooo', 'stud', 'bisexual', 'confront', 'leetreble', 'sissy', 'chandailbailey', 'hunturpls', 'sophi', 'aravosis', 'ballless', 'dickwad', 'disabled', 'vet', 'capital', 'dloesch', 'hannerr', 'strocorleone', 'yummys', 'deze', 'demon', 'fromtheshwa', 'itsjaylaaa', 'beetle', 'realist', 'illest', '128513128588128076', 'trigga', 'tre123', '1280768221', 'lawrences', 'nudes', 'sooooo', 'smashin', 'patdollard', 'brrrrangadang', '128529128529', 'frannyhilison', 'pattiemallette', 'randie', 'mob', 'jury', '8216nggas', 'ass160jury8217', 'flowingwar', 'mlk', '8220antsoo305', 'lexii', 'favoriting', 'this8221', 'hut', 'nadiaxo', 'mrgam3r49', 'cambreezy', 'thelittlefella', 'e', 'chalecarlo5', 'fuckboy', 'rancho', 'impersonator', 'adopt', 'ni8230', 'revolutionuk', 'torturer', 'trentlilweezy', 'trashme', 'dariendaywalt', 'goddam', 'djfeds', 'tacos', 'harveylevintmz', 'sly309', 'americathey', 'trout', 'deeeeaaaadd', 'impactparasite', 'rniswirvinn', 'lilkev', 'jakewaller97', 'm8230', 'ayo', 'crippled', 'bitcheslook', 'scalp', 'faggotkellz622', 'slothng', 'guarantee', 'relative', 'portsmouth', 'yostknowsmost', 'idowntown', 'ehasselbeck', 'politics', 'lace', 'jock', 'contrarian', 'trifling', 'butthurt', 'hindis', 'moslems', 'thekushzombie', 'aww', 'successful', 'hugging', 'suckedoff', 'tapout2', 'schools3', 'anzueto', 'mackey15', 'chood', 'charleyhood', 'rachael', 'goss', 'bible', 'shame1006710068', 'aaaaaaaaand', 'rileydakafka', 'kentucky', 'juvie', 'bail', 'vatxn', 'alien', 'muchomacho', 'jeandeaux1776', 'cspanwj', 'chimpout', 'aged', 'salvadoran', 'metlife', '8220moffettmm', 'place8221', 'rose', 'redorchid', 'daddyyou', 'vddie', 'mildly', 'justdoj', 'we8217d', 'merely', 'scientific', 'indicator', 'wronggt', 'unique', 'indiviuals', 'cancergt', 'bitchy', 'inlove', 'niggass', 'scoutingforfifa', 'theburntchip', 'joelburtfifa', 'jpizzlefifa', 'witness', 'joel', 'dtla', 'noneuropeans', 'jeff', 'hank', 'lgreiner3', 'raycewarden', 'bigjohn', 'studd', 'preparation', 'wise', 'therealgeorgez', 'guns', 'erlktweets', 'phillips', 'oscars', 'fuc8230', 'prayforjack', 'historically', 'nignoramus', 'eyebrowsryanh', 'around', 'bidenshairplugs', 'zzzzzz', 'shaft', 'ink', 'subordinate', 'sue', 'drinkin', 'motherfuckin', 'gahdamn', 'huhwhatsacondom', 'wooooow', '8220moesdeph', 'mommy', 'ivy', 'baby8221', 'timatheracer', '8220shinobicelsius', 'cam', 'lol8221gtgt', 'latinking', 'quan1t0', 'chava', 'lane', 'gyro', 'infest', 'savin', 'nem', 'imtoblame', 'fatherless', 'breh', 'twitterhoney', 'chvntre', 'upper', 'peyton', 'manning', 'bitch128520128170', 'minus', 'southpark', 'familyguyonfox', 'pantera', 'chrisrock', 'boyi', 'charleeredz13', 'jgabsss', 'stacey', 'dash', '128166', 'evaaaa', 'cheesus85', 'greyyygoose', 'faaaaggggottttt', 'teabagge', 'openwide', 'hav', 'kristin12909', 'somebodys', 'stonethegreat23', '128555', 'kylegotjoke', 'retare', 'brice2254', 'whiteangelss84', 'wag', 'phase', 'pussye', 'kristajaymfc', 'immature', 'kiela', '128514128514alright', 'frankthetank215', 'spur', 'unselfish', 'shawnnasanford', 'meganmonday13', 'kelsss', 'whalelookyhere', 'howdydowdy11', 'gaywad', 'peterpandacat', 'sav', 'ariza', 'hero', 'beyondtomcat', 'thewagnerer', 'exact', 'snap', 'schooler', 'just', 'joshin7', 'rileycooper', 'devilgrimz', 'vigxrart', 'blacklist', 'tehgodclan', 'baltsneakershow', 'fazededo', 'reject', 'maliktender', 'gayer', 'together128129', 'shesaid', 'blahblah', 'furrybah', 'paypay', 'wenchs', 'fairytale', 'daughters', 'zion', 'chasebasford', '128514128557128514128557'])"
            ]
          },
          "metadata": {
            "tags": []
          },
          "execution_count": 81
        }
      ]
    },
    {
      "cell_type": "code",
      "metadata": {
        "id": "wSadKLrGNHR9",
        "outputId": "8e625bc4-ea08-45a3-8bce-3f107e3adbdd",
        "colab": {
          "base_uri": "https://localhost:8080/",
          "height": 35
        }
      },
      "source": [
        "token.index_word[40]"
      ],
      "execution_count": 83,
      "outputs": [
        {
          "output_type": "execute_result",
          "data": {
            "application/vnd.google.colaboratory.intrinsic+json": {
              "type": "string"
            },
            "text/plain": [
              "'yellow'"
            ]
          },
          "metadata": {
            "tags": []
          },
          "execution_count": 83
        }
      ]
    },
    {
      "cell_type": "code",
      "metadata": {
        "id": "gtj-pDQnOO1s"
      },
      "source": [
        "x = ['learn to grow']"
      ],
      "execution_count": 86,
      "outputs": []
    },
    {
      "cell_type": "code",
      "metadata": {
        "id": "VhgXA4gWPRaf",
        "outputId": "73bc55db-e761-48ed-c042-22d4e2d993c1",
        "colab": {
          "base_uri": "https://localhost:8080/"
        }
      },
      "source": [
        "token.texts_to_sequences(x)"
      ],
      "execution_count": 87,
      "outputs": [
        {
          "output_type": "execute_result",
          "data": {
            "text/plain": [
              "[[398, 36, 256]]"
            ]
          },
          "metadata": {
            "tags": []
          },
          "execution_count": 87
        }
      ]
    },
    {
      "cell_type": "code",
      "metadata": {
        "id": "gxremMPVPUpK"
      },
      "source": [
        "vocab_size = len(token.word_counts) + 1"
      ],
      "execution_count": 88,
      "outputs": []
    },
    {
      "cell_type": "code",
      "metadata": {
        "id": "i0gb_FasPvuH"
      },
      "source": [
        "encoded_data = token.texts_to_sequences(text)"
      ],
      "execution_count": 89,
      "outputs": []
    },
    {
      "cell_type": "code",
      "metadata": {
        "id": "IpAp9AOVP3Zw",
        "outputId": "40b5f6e8-708d-4f8a-9bc2-af7471fa04b6",
        "colab": {
          "base_uri": "https://localhost:8080/"
        }
      },
      "source": [
        "len(encoded_data)"
      ],
      "execution_count": 91,
      "outputs": [
        {
          "output_type": "execute_result",
          "data": {
            "text/plain": [
              "4290"
            ]
          },
          "metadata": {
            "tags": []
          },
          "execution_count": 91
        }
      ]
    },
    {
      "cell_type": "code",
      "metadata": {
        "id": "8Nw15a8zQaqM",
        "outputId": "2f6d6eae-e877-4528-87a9-ca80947cae89",
        "colab": {
          "base_uri": "https://localhost:8080/"
        }
      },
      "source": [
        "encoded_data[:2]"
      ],
      "execution_count": 95,
      "outputs": [
        {
          "output_type": "execute_result",
          "data": {
            "text/plain": [
              "[[751, 514, 2, 3262, 3263, 1089], [41, 2]]"
            ]
          },
          "metadata": {
            "tags": []
          },
          "execution_count": 95
        }
      ]
    },
    {
      "cell_type": "markdown",
      "metadata": {
        "id": "ZmKp8VmhQGiN"
      },
      "source": [
        "To fix the size of each tweet, will add the padding for each text seperately. "
      ]
    },
    {
      "cell_type": "code",
      "metadata": {
        "id": "K9dbdwQDP6MA"
      },
      "source": [
        "max_len = 120\n",
        "X = pad_sequences(encoded_data, maxlen = max_len, padding= 'post')"
      ],
      "execution_count": 92,
      "outputs": []
    },
    {
      "cell_type": "code",
      "metadata": {
        "id": "t5kNwy6YQXAa",
        "outputId": "275ed181-f281-46dd-baf8-aad314bee3c2",
        "colab": {
          "base_uri": "https://localhost:8080/"
        }
      },
      "source": [
        "X"
      ],
      "execution_count": 93,
      "outputs": [
        {
          "output_type": "execute_result",
          "data": {
            "text/plain": [
              "array([[  751,   514,     2, ...,     0,     0,     0],\n",
              "       [   41,     2,     0, ...,     0,     0,     0],\n",
              "       [ 3264,     2,     0, ...,     0,     0,     0],\n",
              "       ...,\n",
              "       [    1,   322, 11222, ...,     0,     0,     0],\n",
              "       [ 1243,   447,   389, ...,     0,     0,     0],\n",
              "       [11229,   810,   143, ...,     0,     0,     0]], dtype=int32)"
            ]
          },
          "metadata": {
            "tags": []
          },
          "execution_count": 93
        }
      ]
    },
    {
      "cell_type": "code",
      "metadata": {
        "id": "Pg8VrKylQX1B",
        "outputId": "53d9d816-7205-453a-cca4-6aacd5f8feeb",
        "colab": {
          "base_uri": "https://localhost:8080/"
        }
      },
      "source": [
        "X.shape"
      ],
      "execution_count": 96,
      "outputs": [
        {
          "output_type": "execute_result",
          "data": {
            "text/plain": [
              "(4290, 120)"
            ]
          },
          "metadata": {
            "tags": []
          },
          "execution_count": 96
        }
      ]
    },
    {
      "cell_type": "markdown",
      "metadata": {
        "id": "BJgHbCEAQmzQ"
      },
      "source": [
        "Model prepration "
      ]
    },
    {
      "cell_type": "code",
      "metadata": {
        "id": "9TnYG6EWQit1"
      },
      "source": [
        "y = df_new['class']"
      ],
      "execution_count": 99,
      "outputs": []
    },
    {
      "cell_type": "code",
      "metadata": {
        "id": "Q94a7gDWQsGc",
        "outputId": "90b5f7a4-c94f-43c7-b2c1-d8a62b4a0877",
        "colab": {
          "base_uri": "https://localhost:8080/"
        }
      },
      "source": [
        "y"
      ],
      "execution_count": 100,
      "outputs": [
        {
          "output_type": "execute_result",
          "data": {
            "text/plain": [
              "0       1\n",
              "1       1\n",
              "2       1\n",
              "3       1\n",
              "4       1\n",
              "       ..\n",
              "4285    0\n",
              "4286    0\n",
              "4287    0\n",
              "4288    0\n",
              "4289    0\n",
              "Name: class, Length: 4290, dtype: int64"
            ]
          },
          "metadata": {
            "tags": []
          },
          "execution_count": 100
        }
      ]
    },
    {
      "cell_type": "code",
      "metadata": {
        "id": "jYuNQhHaQtOE"
      },
      "source": [
        "from tensorflow.keras.utils import to_categorical"
      ],
      "execution_count": 101,
      "outputs": []
    },
    {
      "cell_type": "code",
      "metadata": {
        "id": "rc1-QL4KQ4BN"
      },
      "source": [
        "y = to_categorical(y)"
      ],
      "execution_count": 102,
      "outputs": []
    },
    {
      "cell_type": "code",
      "metadata": {
        "id": "F-0vMxdvQ-EE",
        "outputId": "abe7cb2a-65f4-4740-9d3b-70cb1257e433",
        "colab": {
          "base_uri": "https://localhost:8080/"
        }
      },
      "source": [
        "y.shape"
      ],
      "execution_count": 104,
      "outputs": [
        {
          "output_type": "execute_result",
          "data": {
            "text/plain": [
              "(4290, 3)"
            ]
          },
          "metadata": {
            "tags": []
          },
          "execution_count": 104
        }
      ]
    },
    {
      "cell_type": "code",
      "metadata": {
        "id": "bgLlVVk2Q-og",
        "outputId": "b3ce7fde-23b8-4b71-e25a-e8874a9337bf",
        "colab": {
          "base_uri": "https://localhost:8080/"
        }
      },
      "source": [
        "X.shape"
      ],
      "execution_count": 105,
      "outputs": [
        {
          "output_type": "execute_result",
          "data": {
            "text/plain": [
              "(4290, 120)"
            ]
          },
          "metadata": {
            "tags": []
          },
          "execution_count": 105
        }
      ]
    },
    {
      "cell_type": "code",
      "metadata": {
        "id": "YePIzWN1REJW"
      },
      "source": [
        "X_train, X_test,y_train,y_test=train_test_split(X,y,test_size= 0.2, random_state= 10, stratify = y)"
      ],
      "execution_count": 140,
      "outputs": []
    },
    {
      "cell_type": "code",
      "metadata": {
        "id": "FujVcsveRbnF",
        "outputId": "c929e60d-3801-4c8a-b233-52595b0c4e54",
        "colab": {
          "base_uri": "https://localhost:8080/"
        }
      },
      "source": [
        "X_train.shape, X_test.shape, y_train.shape, y_test.shape"
      ],
      "execution_count": 109,
      "outputs": [
        {
          "output_type": "execute_result",
          "data": {
            "text/plain": [
              "((3432, 120), (858, 120), (3432, 3), (858, 3))"
            ]
          },
          "metadata": {
            "tags": []
          },
          "execution_count": 109
        }
      ]
    },
    {
      "cell_type": "code",
      "metadata": {
        "id": "3umqZ8r6RgVT"
      },
      "source": [
        "vec_size = 300\n",
        "\n",
        "model = Sequential()\n",
        "model.add(Embedding(vocab_size,vec_size, input_length=max_len))\n",
        "\n",
        "model.add(Conv1D(32,2, activation='relu'))\n",
        "\n",
        "model.add(MaxPooling1D(2))\n",
        "\n",
        "model.add(Dropout(0.2))\n",
        "\n",
        "model.add(Dense(32, activation='relu'))\n",
        "\n",
        "model.add(GlobalMaxPooling1D())\n",
        "\n",
        "model.add(Dense(3,activation='softmax'))"
      ],
      "execution_count": 114,
      "outputs": []
    },
    {
      "cell_type": "code",
      "metadata": {
        "id": "RLnuSapxS-Ug"
      },
      "source": [
        "\n",
        "model.compile(optimizer=Adam(learning_rate=0.001) , loss='categorical_crossentropy', metrics = ['accuracy'])"
      ],
      "execution_count": 117,
      "outputs": []
    },
    {
      "cell_type": "code",
      "metadata": {
        "id": "-SJ1AhMuTv5E",
        "outputId": "fe99af1b-8184-4456-9f5e-21e02d6a482c",
        "colab": {
          "base_uri": "https://localhost:8080/"
        }
      },
      "source": [
        "model.fit(X_train,y_train,epochs=3, validation_data=(X_test,y_test), shuffle=True)"
      ],
      "execution_count": 118,
      "outputs": [
        {
          "output_type": "stream",
          "text": [
            "Epoch 1/3\n",
            "108/108 [==============================] - 5s 47ms/step - loss: 0.8800 - accuracy: 0.6407 - val_loss: 0.6249 - val_accuracy: 0.7727\n",
            "Epoch 2/3\n",
            "108/108 [==============================] - 4s 41ms/step - loss: 0.4726 - accuracy: 0.8164 - val_loss: 0.5489 - val_accuracy: 0.7797\n",
            "Epoch 3/3\n",
            "108/108 [==============================] - 4s 41ms/step - loss: 0.2759 - accuracy: 0.8980 - val_loss: 0.5791 - val_accuracy: 0.7622\n"
          ],
          "name": "stdout"
        },
        {
          "output_type": "execute_result",
          "data": {
            "text/plain": [
              "<tensorflow.python.keras.callbacks.History at 0x7f3ec4e15f60>"
            ]
          },
          "metadata": {
            "tags": []
          },
          "execution_count": 118
        }
      ]
    },
    {
      "cell_type": "code",
      "metadata": {
        "id": "uVeV2AeAUQ-n",
        "outputId": "f0d851eb-9eb3-409e-ceb6-091a25aeb4ea",
        "colab": {
          "base_uri": "https://localhost:8080/",
          "height": 282
        }
      },
      "source": [
        "pd.DataFrame(model.history.history).plot()"
      ],
      "execution_count": 120,
      "outputs": [
        {
          "output_type": "execute_result",
          "data": {
            "text/plain": [
              "<matplotlib.axes._subplots.AxesSubplot at 0x7f3ec1b77048>"
            ]
          },
          "metadata": {
            "tags": []
          },
          "execution_count": 120
        },
        {
          "output_type": "display_data",
          "data": {
            "image/png": "[encoded data removed]",
            "text/plain": [
              "<Figure size 432x288 with 1 Axes>"
            ]
          },
          "metadata": {
            "tags": [],
            "needs_background": "light"
          }
        }
      ]
    },
    {
      "cell_type": "markdown",
      "metadata": {
        "id": "YsfNVKrZUqN4"
      },
      "source": [
        "Model Testing"
      ]
    },
    {
      "cell_type": "code",
      "metadata": {
        "id": "DhfraOtYUc8O"
      },
      "source": [
        "from sklearn.metrics import confusion_matrix, classification_report\n",
        "from mlxtend.plotting import plot_confusion_matrix"
      ],
      "execution_count": 121,
      "outputs": []
    },
    {
      "cell_type": "code",
      "metadata": {
        "id": "gAQUx-nNU5U8"
      },
      "source": [
        "y_pred = np.argmax(model.predict(X_test),axis=-1)"
      ],
      "execution_count": 127,
      "outputs": []
    },
    {
      "cell_type": "code",
      "metadata": {
        "id": "dDO5YYfRVEOn",
        "outputId": "4c03d4a7-f7f0-4e8b-e240-72d7d9642014",
        "colab": {
          "base_uri": "https://localhost:8080/"
        }
      },
      "source": [
        "y_pred.shape"
      ],
      "execution_count": 142,
      "outputs": [
        {
          "output_type": "execute_result",
          "data": {
            "text/plain": [
              "(858,)"
            ]
          },
          "metadata": {
            "tags": []
          },
          "execution_count": 142
        }
      ]
    },
    {
      "cell_type": "code",
      "metadata": {
        "id": "LCuySIbyVjHD",
        "outputId": "fbd577e8-0f5a-4498-a4b4-ca42167530a4",
        "colab": {
          "base_uri": "https://localhost:8080/"
        }
      },
      "source": [
        "y_test.shape"
      ],
      "execution_count": 139,
      "outputs": [
        {
          "output_type": "execute_result",
          "data": {
            "text/plain": [
              "()"
            ]
          },
          "metadata": {
            "tags": []
          },
          "execution_count": 139
        }
      ]
    },
    {
      "cell_type": "code",
      "metadata": {
        "id": "2bptKwUsaG6t",
        "outputId": "7dc09567-e0e0-402d-e61c-a610a535c679",
        "colab": {
          "base_uri": "https://localhost:8080/"
        }
      },
      "source": [
        "y_test= np.argmax(y_test,axis=-1)\n",
        "y_test.shape"
      ],
      "execution_count": 141,
      "outputs": [
        {
          "output_type": "execute_result",
          "data": {
            "text/plain": [
              "(858,)"
            ]
          },
          "metadata": {
            "tags": []
          },
          "execution_count": 141
        }
      ]
    },
    {
      "cell_type": "code",
      "metadata": {
        "id": "69Dh2pdIaRnl",
        "outputId": "c502dd63-c629-4f33-d776-d2a0f9a3d4f2",
        "colab": {
          "base_uri": "https://localhost:8080/",
          "height": 313
        }
      },
      "source": [
        "plot_confusion_matrix(confusion_matrix(y_test,y_pred))"
      ],
      "execution_count": 143,
      "outputs": [
        {
          "output_type": "execute_result",
          "data": {
            "text/plain": [
              "(<Figure size 432x288 with 1 Axes>,\n",
              " <matplotlib.axes._subplots.AxesSubplot at 0x7f3ec0c90278>)"
            ]
          },
          "metadata": {
            "tags": []
          },
          "execution_count": 143
        },
        {
          "output_type": "display_data",
          "data": {
            "image/png": "[encoded data removed]",
            "text/plain": [
              "<Figure size 432x288 with 1 Axes>"
            ]
          },
          "metadata": {
            "tags": [],
            "needs_background": "light"
          }
        }
      ]
    },
    {
      "cell_type": "code",
      "metadata": {
        "id": "3bB1YUVBaaoQ",
        "outputId": "0a879c21-3e0a-46d8-c849-d185c9d38bab",
        "colab": {
          "base_uri": "https://localhost:8080/"
        }
      },
      "source": [
        "print(classification_report(y_test,y_pred))"
      ],
      "execution_count": 145,
      "outputs": [
        {
          "output_type": "stream",
          "text": [
            "              precision    recall  f1-score   support\n",
            "\n",
            "           0       0.68      0.73      0.70       286\n",
            "           1       0.77      0.71      0.74       286\n",
            "           2       0.85      0.85      0.85       286\n",
            "\n",
            "    accuracy                           0.76       858\n",
            "   macro avg       0.76      0.76      0.76       858\n",
            "weighted avg       0.76      0.76      0.76       858\n",
            "\n"
          ],
          "name": "stdout"
        }
      ]
    },
    {
      "cell_type": "markdown",
      "metadata": {
        "id": "lTl41Ie3bo_T"
      },
      "source": [
        "Testing with custom data"
      ]
    },
    {
      "cell_type": "code",
      "metadata": {
        "id": "DoSYTiKQbcDu"
      },
      "source": [
        "x = 'hey bitch what you are doing. I will screw you'\n",
        "# sorry for the sentence used above"
      ],
      "execution_count": 202,
      "outputs": []
    },
    {
      "cell_type": "code",
      "metadata": {
        "id": "1qIfTvXNbwme"
      },
      "source": [
        "x=token.texts_to_sequences([x])"
      ],
      "execution_count": 203,
      "outputs": []
    },
    {
      "cell_type": "code",
      "metadata": {
        "id": "7iyOxK8ZdAHX"
      },
      "source": [
        "x = pad_sequences(x, maxlen=max_len, padding='post')"
      ],
      "execution_count": 204,
      "outputs": []
    },
    {
      "cell_type": "code",
      "metadata": {
        "id": "cIeNVKUwdVOA",
        "outputId": "89e6f5aa-2a16-4da4-9c9e-338637be508d",
        "colab": {
          "base_uri": "https://localhost:8080/"
        }
      },
      "source": [
        "x"
      ],
      "execution_count": 205,
      "outputs": [
        {
          "output_type": "execute_result",
          "data": {
            "text/plain": [
              "array([[ 171,    2, 1192,  935, 2979,    0,    0,    0,    0,    0,    0,\n",
              "           0,    0,    0,    0,    0,    0,    0,    0,    0,    0,    0,\n",
              "           0,    0,    0,    0,    0,    0,    0,    0,    0,    0,    0,\n",
              "           0,    0,    0,    0,    0,    0,    0,    0,    0,    0,    0,\n",
              "           0,    0,    0,    0,    0,    0,    0,    0,    0,    0,    0,\n",
              "           0,    0,    0,    0,    0,    0,    0,    0,    0,    0,    0,\n",
              "           0,    0,    0,    0,    0,    0,    0,    0,    0,    0,    0,\n",
              "           0,    0,    0,    0,    0,    0,    0,    0,    0,    0,    0,\n",
              "           0,    0,    0,    0,    0,    0,    0,    0,    0,    0,    0,\n",
              "           0,    0,    0,    0,    0,    0,    0,    0,    0,    0,    0,\n",
              "           0,    0,    0,    0,    0,    0,    0,    0,    0,    0]],\n",
              "      dtype=int32)"
            ]
          },
          "metadata": {
            "tags": []
          },
          "execution_count": 205
        }
      ]
    },
    {
      "cell_type": "code",
      "metadata": {
        "id": "10EfQIlBdhc2",
        "outputId": "ae5970ff-3921-4698-f859-d88b5638d866",
        "colab": {
          "base_uri": "https://localhost:8080/"
        }
      },
      "source": [
        "np.argmax(model.predict(x), axis=-1)"
      ],
      "execution_count": 206,
      "outputs": [
        {
          "output_type": "execute_result",
          "data": {
            "text/plain": [
              "array([1])"
            ]
          },
          "metadata": {
            "tags": []
          },
          "execution_count": 206
        }
      ]
    },
    {
      "cell_type": "markdown",
      "metadata": {
        "id": "wS_6Wgl1fkb1"
      },
      "source": [
        "Classes are as below:\n",
        "\n",
        "1 offensive \n",
        "\n",
        "0 hate \n",
        "\n",
        "2 neither\n",
        "\n",
        "\n",
        "This is predicted by the model that the sentence used above is offensive.\n"
      ]
    },
    {
      "cell_type": "code",
      "metadata": {
        "id": "nwyYu0v9ezL6"
      },
      "source": [
        ""
      ],
      "execution_count": null,
      "outputs": []
    }
  ]
}