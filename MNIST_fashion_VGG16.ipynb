{
  "nbformat": 4,
  "nbformat_minor": 0,
  "metadata": {
    "kernelspec": {
      "display_name": "Python 3",
      "language": "python",
      "name": "python3"
    },
    "language_info": {
      "codemirror_mode": {
        "name": "ipython",
        "version": 3
      },
      "file_extension": ".py",
      "mimetype": "text/x-python",
      "name": "python",
      "nbconvert_exporter": "python",
      "pygments_lexer": "ipython3",
      "version": "3.7.4"
    },
    "colab": {
      "name": "MNIST_fashion.ipynb",
      "provenance": [],
      "collapsed_sections": [
        "8niRp4x9VzKg",
        "gzYEDnLBVzKi"
      ],
      "include_colab_link": true
    },
    "accelerator": "GPU"
  },
  "cells": [
    {
      "cell_type": "markdown",
      "metadata": {
        "id": "view-in-github",
        "colab_type": "text"
      },
      "source": [
        "<a href=\"https://colab.research.google.com/github/santoshkumarbvp/Deep-Learning/blob/main/MNIST_fashion_VGG16.ipynb\" target=\"_parent\"><img src=\"https://colab.research.google.com/assets/colab-badge.svg\" alt=\"Open In Colab\"/></a>"
      ]
    },
    {
      "cell_type": "code",
      "metadata": {
        "colab": {
          "base_uri": "https://localhost:8080/"
        },
        "id": "d6L1kcgPaKU5",
        "outputId": "6654c4a4-8035-4e8d-aa25-7e93d14392d4"
      },
      "source": [
        "!nvidia-smi"
      ],
      "execution_count": 2,
      "outputs": [
        {
          "output_type": "stream",
          "text": [
            "Thu Jan  7 07:35:19 2021       \n",
            "+-----------------------------------------------------------------------------+\n",
            "| NVIDIA-SMI 460.27.04    Driver Version: 418.67       CUDA Version: 10.1     |\n",
            "|-------------------------------+----------------------+----------------------+\n",
            "| GPU  Name        Persistence-M| Bus-Id        Disp.A | Volatile Uncorr. ECC |\n",
            "| Fan  Temp  Perf  Pwr:Usage/Cap|         Memory-Usage | GPU-Util  Compute M. |\n",
            "|                               |                      |               MIG M. |\n",
            "|===============================+======================+======================|\n",
            "|   0  Tesla P4            Off  | 00000000:00:04.0 Off |                    0 |\n",
            "| N/A   49C    P8     8W /  75W |      0MiB /  7611MiB |      0%      Default |\n",
            "|                               |                      |                 ERR! |\n",
            "+-------------------------------+----------------------+----------------------+\n",
            "                                                                               \n",
            "+-----------------------------------------------------------------------------+\n",
            "| Processes:                                                                  |\n",
            "|  GPU   GI   CI        PID   Type   Process name                  GPU Memory |\n",
            "|        ID   ID                                                   Usage      |\n",
            "|=============================================================================|\n",
            "|  No running processes found                                                 |\n",
            "+-----------------------------------------------------------------------------+\n"
          ],
          "name": "stdout"
        }
      ]
    },
    {
      "cell_type": "markdown",
      "metadata": {
        "id": "_UJhxoRBVzKT"
      },
      "source": [
        "## The Data\n",
        "\n",
        "**TASK 1: Run the code below to download the dataset using Keras.**"
      ]
    },
    {
      "cell_type": "code",
      "metadata": {
        "id": "8zSuzAAeVzKU"
      },
      "source": [
        "from tensorflow.keras.datasets import fashion_mnist\n",
        "\n",
        "(x_train, y_train), (x_test, y_test) = fashion_mnist.load_data()"
      ],
      "execution_count": 5,
      "outputs": []
    },
    {
      "cell_type": "markdown",
      "metadata": {
        "id": "1RSDx4qFVzKW"
      },
      "source": [
        "## Visualizing the Data\n",
        "\n",
        "**TASK 2: Use matplotlib to view an image from the data set. It can be any image from the data set.**"
      ]
    },
    {
      "cell_type": "code",
      "metadata": {
        "colab": {
          "base_uri": "https://localhost:8080/"
        },
        "id": "gNJunLjfVzKX",
        "outputId": "b2efa30a-48d4-4a36-9ed3-0a44b1bc6f3d"
      },
      "source": [
        "x_train[0].shape, x_train.shape"
      ],
      "execution_count": null,
      "outputs": [
        {
          "output_type": "execute_result",
          "data": {
            "text/plain": [
              "((28, 28), (60000, 28, 28))"
            ]
          },
          "metadata": {
            "tags": []
          },
          "execution_count": 33
        }
      ]
    },
    {
      "cell_type": "code",
      "metadata": {
        "id": "yFuV2Q50WWzb"
      },
      "source": [
        "import matplotlib.pyplot as plt\r\n",
        "from matplotlib.image import imread"
      ],
      "execution_count": null,
      "outputs": []
    },
    {
      "cell_type": "code",
      "metadata": {
        "colab": {
          "base_uri": "https://localhost:8080/",
          "height": 282
        },
        "id": "RS_BATtBVzKY",
        "outputId": "b3a7b2a8-55d7-498c-b136-4747d5db3938"
      },
      "source": [
        "plt.imshow(x_train[5])"
      ],
      "execution_count": null,
      "outputs": [
        {
          "output_type": "execute_result",
          "data": {
            "text/plain": [
              "<matplotlib.image.AxesImage at 0x7f4ed21180f0>"
            ]
          },
          "metadata": {
            "tags": []
          },
          "execution_count": 35
        },
        {
          "output_type": "display_data",
          "data": {
            "image/png": "[encoded data removed]",
            "text/plain": [
              "<Figure size 432x288 with 1 Axes>"
            ]
          },
          "metadata": {
            "tags": [],
            "needs_background": "light"
          }
        }
      ]
    },
    {
      "cell_type": "code",
      "metadata": {
        "id": "Q760h_8yVzKZ"
      },
      "source": [
        ""
      ],
      "execution_count": null,
      "outputs": []
    },
    {
      "cell_type": "markdown",
      "metadata": {
        "id": "lhqPPielVzKZ"
      },
      "source": [
        "## Preprocessing the Data\n",
        "\n",
        "**TASK 3: Normalize the X train and X test data by dividing by the max value of the image arrays.**"
      ]
    },
    {
      "cell_type": "code",
      "metadata": {
        "id": "ERXJpLU0VzKa"
      },
      "source": [
        "x_train=x_train/255\r\n",
        "x_test=x_test/255"
      ],
      "execution_count": null,
      "outputs": []
    },
    {
      "cell_type": "code",
      "metadata": {
        "id": "lKt7YKp0VzKa"
      },
      "source": [
        ""
      ],
      "execution_count": null,
      "outputs": []
    },
    {
      "cell_type": "code",
      "metadata": {
        "id": "1divEKClVzKb"
      },
      "source": [
        ""
      ],
      "execution_count": null,
      "outputs": []
    },
    {
      "cell_type": "markdown",
      "metadata": {
        "id": "Dl8LpmsAVzKb"
      },
      "source": [
        "**Task 4: Reshape the X arrays to include a 4 dimension of the single channel. Similar to what we did for the numbers MNIST data set.**"
      ]
    },
    {
      "cell_type": "code",
      "metadata": {
        "colab": {
          "base_uri": "https://localhost:8080/"
        },
        "id": "hvtm2HJ7VzKb",
        "outputId": "67bf5f8a-0334-46ad-ec39-ae4e226043a9"
      },
      "source": [
        "x_test.shape, x_train.shape"
      ],
      "execution_count": null,
      "outputs": [
        {
          "output_type": "execute_result",
          "data": {
            "text/plain": [
              "((10000, 28, 28), (60000, 28, 28))"
            ]
          },
          "metadata": {
            "tags": []
          },
          "execution_count": 37
        }
      ]
    },
    {
      "cell_type": "code",
      "metadata": {
        "id": "SH0ERHZjVzKc"
      },
      "source": [
        "import numpy as np"
      ],
      "execution_count": null,
      "outputs": []
    },
    {
      "cell_type": "code",
      "metadata": {
        "id": "7ea66RXtVzKc"
      },
      "source": [
        "x_test=np.expand_dims(x_test, axis=-1)\r\n",
        "x_train=np.expand_dims(x_train, axis=-1)"
      ],
      "execution_count": null,
      "outputs": []
    },
    {
      "cell_type": "markdown",
      "metadata": {
        "id": "g3TAOSfiVzKd"
      },
      "source": [
        "**TASK 5: Convert the y_train and y_test values to be one-hot encoded for categorical analysis by Keras.**"
      ]
    },
    {
      "cell_type": "code",
      "metadata": {
        "id": "ZgT3aZLkVzKd"
      },
      "source": [
        "from tensorflow.keras.utils import to_categorical"
      ],
      "execution_count": 35,
      "outputs": []
    },
    {
      "cell_type": "code",
      "metadata": {
        "id": "vKghGpM6VzKd"
      },
      "source": [
        "y_test_ohe = to_categorical(y_test)\r\n",
        "y_train_ohe = to_categorical(y_train)"
      ],
      "execution_count": 36,
      "outputs": []
    },
    {
      "cell_type": "code",
      "metadata": {
        "id": "3aJI3o2JVzKe"
      },
      "source": [
        ""
      ],
      "execution_count": null,
      "outputs": []
    },
    {
      "cell_type": "code",
      "metadata": {
        "id": "ZttGFkZUVzKe"
      },
      "source": [
        ""
      ],
      "execution_count": null,
      "outputs": []
    },
    {
      "cell_type": "markdown",
      "metadata": {
        "id": "mHP4tVvbVzKf"
      },
      "source": [
        "## Building the Model\n",
        "\n",
        "**TASK 5: Use Keras to create a model consisting of at least the following layers (but feel free to experiment):**\n",
        "\n",
        "* 2D Convolutional Layer, filters=32 and kernel_size=(4,4)\n",
        "* Pooling Layer where pool_size = (2,2)\n",
        "\n",
        "* Flatten Layer\n",
        "* Dense Layer (128 Neurons, but feel free to play around with this value), RELU activation\n",
        "\n",
        "* Final Dense Layer of 10 Neurons with a softmax activation\n",
        "\n",
        "**Then compile the model with these parameters: loss='categorical_crossentropy', optimizer='rmsprop', metrics=['accuracy']**"
      ]
    },
    {
      "cell_type": "code",
      "metadata": {
        "id": "hBa4A_tOVzKf"
      },
      "source": [
        "from tensorflow.keras.models import Sequential\r\n",
        "from tensorflow.keras.layers import Flatten, Dense, Conv2D, MaxPooling2D\r\n",
        "\r\n",
        "from tensorflow.keras.callbacks import EarlyStopping"
      ],
      "execution_count": 6,
      "outputs": []
    },
    {
      "cell_type": "code",
      "metadata": {
        "id": "VFV5ctZDVzKf"
      },
      "source": [
        "model = Sequential()\r\n",
        "model.add(Conv2D(kernel_size=(4,4),filters=32,input_shape=(28,28,1)))\r\n",
        "model.add(MaxPooling2D(pool_size=(2,2)))\r\n",
        "model.add(Flatten())\r\n",
        "model.add(Dense(units=128,activation='relu'))\r\n",
        "model.add(Dense(units=10,activation='softmax'))\r\n",
        "\r\n",
        "model.compile(loss='categorical_crossentropy', optimizer='rmsprop',metrics=['accuracy'])\r\n"
      ],
      "execution_count": 7,
      "outputs": []
    },
    {
      "cell_type": "code",
      "metadata": {
        "id": "RgqQuJknc7wo"
      },
      "source": [
        "es = EarlyStopping(monitor='accuracy',patience=3)"
      ],
      "execution_count": 8,
      "outputs": []
    },
    {
      "cell_type": "code",
      "metadata": {
        "colab": {
          "base_uri": "https://localhost:8080/"
        },
        "id": "cILBdl6MZ0uV",
        "outputId": "84a8ac36-49c5-4f4e-b327-0969b420168b"
      },
      "source": [
        "model.summary()"
      ],
      "execution_count": null,
      "outputs": [
        {
          "output_type": "stream",
          "text": [
            "Model: \"sequential_1\"\n",
            "_________________________________________________________________\n",
            "Layer (type)                 Output Shape              Param #   \n",
            "=================================================================\n",
            "conv2d_1 (Conv2D)            (None, 25, 25, 32)        544       \n",
            "_________________________________________________________________\n",
            "max_pooling2d_1 (MaxPooling2 (None, 12, 12, 32)        0         \n",
            "_________________________________________________________________\n",
            "flatten_1 (Flatten)          (None, 4608)              0         \n",
            "_________________________________________________________________\n",
            "dense_2 (Dense)              (None, 128)               589952    \n",
            "_________________________________________________________________\n",
            "dense_3 (Dense)              (None, 10)                1290      \n",
            "=================================================================\n",
            "Total params: 591,786\n",
            "Trainable params: 591,786\n",
            "Non-trainable params: 0\n",
            "_________________________________________________________________\n"
          ],
          "name": "stdout"
        }
      ]
    },
    {
      "cell_type": "code",
      "metadata": {
        "colab": {
          "base_uri": "https://localhost:8080/"
        },
        "id": "lmt4G1PoVzKg",
        "outputId": "bbb0ffaa-1f22-4e4c-e5fd-8d46f569a5c3"
      },
      "source": [
        "x_train.shape, y_train.shape, x_test.shape, y_test.shape"
      ],
      "execution_count": null,
      "outputs": [
        {
          "output_type": "execute_result",
          "data": {
            "text/plain": [
              "((60000, 28, 28, 1), (60000, 10), (10000, 28, 28, 1), (10000, 10))"
            ]
          },
          "metadata": {
            "tags": []
          },
          "execution_count": 46
        }
      ]
    },
    {
      "cell_type": "markdown",
      "metadata": {
        "id": "8niRp4x9VzKg"
      },
      "source": [
        "### Training the Model\n",
        "**TASK 6: Train/Fit the model to the x_train set. Amount of epochs is up to you.**"
      ]
    },
    {
      "cell_type": "code",
      "metadata": {
        "colab": {
          "base_uri": "https://localhost:8080/"
        },
        "id": "B6rDWW1VVzKh",
        "outputId": "288ce5c2-11c6-43db-fa6a-f71cdc76462c"
      },
      "source": [
        "model.fit(x_train,y_train,batch_size=32,validation_data=(x_test,y_test),epochs=20, callbacks=[es])"
      ],
      "execution_count": null,
      "outputs": [
        {
          "output_type": "stream",
          "text": [
            "Epoch 1/20\n",
            "1875/1875 [==============================] - 6s 3ms/step - loss: 0.2710 - accuracy: 0.9024 - val_loss: 0.2938 - val_accuracy: 0.8953\n",
            "Epoch 2/20\n",
            "1875/1875 [==============================] - 6s 3ms/step - loss: 0.2252 - accuracy: 0.9173 - val_loss: 0.2858 - val_accuracy: 0.8999\n",
            "Epoch 3/20\n",
            "1875/1875 [==============================] - 6s 3ms/step - loss: 0.1943 - accuracy: 0.9307 - val_loss: 0.3000 - val_accuracy: 0.9023\n",
            "Epoch 4/20\n",
            "1875/1875 [==============================] - 6s 3ms/step - loss: 0.1696 - accuracy: 0.9382 - val_loss: 0.3027 - val_accuracy: 0.9019\n",
            "Epoch 5/20\n",
            "1875/1875 [==============================] - 6s 3ms/step - loss: 0.1491 - accuracy: 0.9460 - val_loss: 0.3200 - val_accuracy: 0.9058\n",
            "Epoch 6/20\n",
            "1875/1875 [==============================] - 6s 3ms/step - loss: 0.1319 - accuracy: 0.9532 - val_loss: 0.3065 - val_accuracy: 0.9076\n",
            "Epoch 7/20\n",
            "1875/1875 [==============================] - 6s 3ms/step - loss: 0.1178 - accuracy: 0.9582 - val_loss: 0.3527 - val_accuracy: 0.9094\n",
            "Epoch 8/20\n",
            "1875/1875 [==============================] - 6s 3ms/step - loss: 0.1061 - accuracy: 0.9616 - val_loss: 0.4270 - val_accuracy: 0.9025\n",
            "Epoch 9/20\n",
            "1875/1875 [==============================] - 6s 3ms/step - loss: 0.0962 - accuracy: 0.9661 - val_loss: 0.3975 - val_accuracy: 0.9082\n",
            "Epoch 10/20\n",
            "1875/1875 [==============================] - 6s 3ms/step - loss: 0.0851 - accuracy: 0.9696 - val_loss: 0.4497 - val_accuracy: 0.9073\n",
            "Epoch 11/20\n",
            "1875/1875 [==============================] - 6s 3ms/step - loss: 0.0775 - accuracy: 0.9728 - val_loss: 0.5284 - val_accuracy: 0.9053\n",
            "Epoch 12/20\n",
            "1875/1875 [==============================] - 6s 3ms/step - loss: 0.0715 - accuracy: 0.9761 - val_loss: 0.5298 - val_accuracy: 0.9010\n",
            "Epoch 13/20\n",
            "1875/1875 [==============================] - 6s 3ms/step - loss: 0.0625 - accuracy: 0.9793 - val_loss: 0.5187 - val_accuracy: 0.9086\n",
            "Epoch 14/20\n",
            "1875/1875 [==============================] - 6s 3ms/step - loss: 0.0584 - accuracy: 0.9804 - val_loss: 0.5839 - val_accuracy: 0.9066\n",
            "Epoch 15/20\n",
            "1875/1875 [==============================] - 6s 3ms/step - loss: 0.0535 - accuracy: 0.9820 - val_loss: 0.6208 - val_accuracy: 0.9071\n",
            "Epoch 16/20\n",
            "1875/1875 [==============================] - 6s 3ms/step - loss: 0.0475 - accuracy: 0.9837 - val_loss: 0.6241 - val_accuracy: 0.9028\n",
            "Epoch 17/20\n",
            "1875/1875 [==============================] - 6s 3ms/step - loss: 0.0436 - accuracy: 0.9855 - val_loss: 0.6576 - val_accuracy: 0.9034\n",
            "Epoch 18/20\n",
            "1875/1875 [==============================] - 6s 3ms/step - loss: 0.0393 - accuracy: 0.9871 - val_loss: 0.7060 - val_accuracy: 0.9083\n",
            "Epoch 19/20\n",
            "1875/1875 [==============================] - 6s 3ms/step - loss: 0.0378 - accuracy: 0.9876 - val_loss: 0.6972 - val_accuracy: 0.9006\n",
            "Epoch 20/20\n",
            "1875/1875 [==============================] - 6s 3ms/step - loss: 0.0342 - accuracy: 0.9887 - val_loss: 0.8311 - val_accuracy: 0.9046\n"
          ],
          "name": "stdout"
        },
        {
          "output_type": "execute_result",
          "data": {
            "text/plain": [
              "<tensorflow.python.keras.callbacks.History at 0x7f4ed0404b38>"
            ]
          },
          "metadata": {
            "tags": []
          },
          "execution_count": 50
        }
      ]
    },
    {
      "cell_type": "markdown",
      "metadata": {
        "id": "gzYEDnLBVzKi"
      },
      "source": [
        "### Evaluating the Model\n",
        "\n",
        "**TASK 7: Show the accuracy,precision,recall,f1-score the model achieved on the x_test data set. Keep in mind, there are quite a few ways to do this, but we recommend following the same procedure we showed in the MNIST lecture.**"
      ]
    },
    {
      "cell_type": "code",
      "metadata": {
        "colab": {
          "base_uri": "https://localhost:8080/"
        },
        "id": "C2UO6ifiVzKi",
        "outputId": "a499a3c6-cde4-4294-c92e-8ad68c10a484"
      },
      "source": [
        "model.evaluate(x_test,y_test)"
      ],
      "execution_count": null,
      "outputs": [
        {
          "output_type": "stream",
          "text": [
            "313/313 [==============================] - 1s 2ms/step - loss: 0.8311 - accuracy: 0.9046\n"
          ],
          "name": "stdout"
        },
        {
          "output_type": "execute_result",
          "data": {
            "text/plain": [
              "[0.8311181664466858, 0.9046000242233276]"
            ]
          },
          "metadata": {
            "tags": []
          },
          "execution_count": 51
        }
      ]
    },
    {
      "cell_type": "code",
      "metadata": {
        "id": "bTq7wlJIVzKj"
      },
      "source": [
        "pred =model.predict(x_test)"
      ],
      "execution_count": null,
      "outputs": []
    },
    {
      "cell_type": "code",
      "metadata": {
        "id": "h6Q3ZAiwVzKj"
      },
      "source": [
        "pred_i= np.array([np.argmax(i) for i in pred])\r\n",
        "y_test_i= np.array([np.argmax(i) for i in y_test])"
      ],
      "execution_count": null,
      "outputs": []
    },
    {
      "cell_type": "code",
      "metadata": {
        "colab": {
          "base_uri": "https://localhost:8080/"
        },
        "id": "zbaB9MeVVzKj",
        "outputId": "0592458c-5c13-4e93-b005-0e5beb0953b8"
      },
      "source": [
        "pred_i.shape"
      ],
      "execution_count": null,
      "outputs": [
        {
          "output_type": "execute_result",
          "data": {
            "text/plain": [
              "(10000,)"
            ]
          },
          "metadata": {
            "tags": []
          },
          "execution_count": 57
        }
      ]
    },
    {
      "cell_type": "code",
      "metadata": {
        "id": "o1yF6yH7VzKk"
      },
      "source": [
        "from sklearn.metrics import confusion_matrix, classification_report, accuracy_score"
      ],
      "execution_count": null,
      "outputs": []
    },
    {
      "cell_type": "code",
      "metadata": {
        "colab": {
          "base_uri": "https://localhost:8080/"
        },
        "id": "Gcd2WtxqVzKk",
        "outputId": "efca0307-5d2c-4b22-a7c4-f3d88850451a"
      },
      "source": [
        "confusion_matrix(y_test_i,pred_i)"
      ],
      "execution_count": null,
      "outputs": [
        {
          "output_type": "execute_result",
          "data": {
            "text/plain": [
              "array([[834,   0,  26,  16,   4,   2, 112,   0,   5,   1],\n",
              "       [  3, 972,   2,  13,   5,   0,   4,   0,   1,   0],\n",
              "       [ 12,   0, 854,  11,  67,   1,  53,   0,   2,   0],\n",
              "       [  9,   4,  12, 908,  37,   0,  24,   0,   5,   1],\n",
              "       [  1,   0,  56,  22, 862,   0,  59,   0,   0,   0],\n",
              "       [  0,   0,   0,   0,   0, 988,   1,   6,   2,   3],\n",
              "       [ 90,   0,  62,  29,  62,   0, 744,   0,  12,   1],\n",
              "       [  0,   0,   0,   0,   0,  34,   0, 940,   1,  25],\n",
              "       [  1,   0,   3,   6,   2,   1,   5,   2, 977,   3],\n",
              "       [  0,   0,   0,   0,   0,  10,   0,  23,   0, 967]])"
            ]
          },
          "metadata": {
            "tags": []
          },
          "execution_count": 65
        }
      ]
    },
    {
      "cell_type": "code",
      "metadata": {
        "colab": {
          "base_uri": "https://localhost:8080/"
        },
        "id": "PVpraNbwVzKk",
        "outputId": "3d073803-c349-4e3a-ee45-b77bbbf61213"
      },
      "source": [
        "accuracy_score(y_test_i,pred_i)"
      ],
      "execution_count": null,
      "outputs": [
        {
          "output_type": "execute_result",
          "data": {
            "text/plain": [
              "0.9046"
            ]
          },
          "metadata": {
            "tags": []
          },
          "execution_count": 66
        }
      ]
    },
    {
      "cell_type": "code",
      "metadata": {
        "colab": {
          "base_uri": "https://localhost:8080/"
        },
        "id": "2H3u2S52VzKl",
        "outputId": "1c219c11-22c3-4307-c97d-6710b1e12bf7"
      },
      "source": [
        "print(classification_report(y_test_i,pred_i))"
      ],
      "execution_count": null,
      "outputs": [
        {
          "output_type": "stream",
          "text": [
            "              precision    recall  f1-score   support\n",
            "\n",
            "           0       0.88      0.83      0.86      1000\n",
            "           1       1.00      0.97      0.98      1000\n",
            "           2       0.84      0.85      0.85      1000\n",
            "           3       0.90      0.91      0.91      1000\n",
            "           4       0.83      0.86      0.85      1000\n",
            "           5       0.95      0.99      0.97      1000\n",
            "           6       0.74      0.74      0.74      1000\n",
            "           7       0.97      0.94      0.95      1000\n",
            "           8       0.97      0.98      0.97      1000\n",
            "           9       0.97      0.97      0.97      1000\n",
            "\n",
            "    accuracy                           0.90     10000\n",
            "   macro avg       0.91      0.90      0.90     10000\n",
            "weighted avg       0.91      0.90      0.90     10000\n",
            "\n"
          ],
          "name": "stdout"
        }
      ]
    },
    {
      "cell_type": "code",
      "metadata": {
        "scrolled": true,
        "id": "AzsUiayoVzKl"
      },
      "source": [
        ""
      ],
      "execution_count": null,
      "outputs": []
    },
    {
      "cell_type": "markdown",
      "metadata": {
        "id": "QkwOmOQIVzKl"
      },
      "source": [
        "# Great Job! lets do same through vgg16"
      ]
    },
    {
      "cell_type": "code",
      "metadata": {
        "id": "BMsgTZpThYuF"
      },
      "source": [
        "from tensorflow.keras.applications.vgg16 import VGG16\r\n",
        "from tensorflow.keras.preprocessing.image import ImageDataGenerator,load_img\r\n",
        "from tensorflow.keras.applications.vgg16 import preprocess_input\r\n",
        "from tensorflow.keras.models import Model\r\n",
        "import cv2, numpy as np"
      ],
      "execution_count": 13,
      "outputs": []
    },
    {
      "cell_type": "code",
      "metadata": {
        "colab": {
          "base_uri": "https://localhost:8080/"
        },
        "id": "_ZPyLfeWkBkk",
        "outputId": "83b35c0d-286d-4f80-98a5-63026f9dfbdf"
      },
      "source": [
        "x_train.shape"
      ],
      "execution_count": 10,
      "outputs": [
        {
          "output_type": "execute_result",
          "data": {
            "text/plain": [
              "(60000, 28, 28)"
            ]
          },
          "metadata": {
            "tags": []
          },
          "execution_count": 10
        }
      ]
    },
    {
      "cell_type": "code",
      "metadata": {
        "id": "Y-zzbS7WpetU"
      },
      "source": [
        "x_train_rs = np.array([cv2.resize(i, (32, 32)) for i in x_train] )\r\n",
        "x_test_rs = np.array([cv2.resize(i, (32, 32)) for i in x_test] )"
      ],
      "execution_count": 20,
      "outputs": []
    },
    {
      "cell_type": "code",
      "metadata": {
        "colab": {
          "base_uri": "https://localhost:8080/"
        },
        "id": "3181WbuCqlbN",
        "outputId": "f8b37f78-2991-4d1c-8e3e-d9a8459ed63a"
      },
      "source": [
        "x_train_rs.shape"
      ],
      "execution_count": 21,
      "outputs": [
        {
          "output_type": "execute_result",
          "data": {
            "text/plain": [
              "(60000, 32, 32)"
            ]
          },
          "metadata": {
            "tags": []
          },
          "execution_count": 21
        }
      ]
    },
    {
      "cell_type": "code",
      "metadata": {
        "id": "hgu6quFwo6P_"
      },
      "source": [
        "x_train_3c = np.array([cv2.merge([i,i,i]) for i in x_train_rs])\r\n",
        "x_test_3c = np.array([cv2.merge([i,i,i]) for i in x_test_rs])"
      ],
      "execution_count": 22,
      "outputs": []
    },
    {
      "cell_type": "code",
      "metadata": {
        "colab": {
          "base_uri": "https://localhost:8080/"
        },
        "id": "Jg4iBM6vpjXw",
        "outputId": "1c38b114-b0c6-4ba6-a1c6-dbac53e2bbd8"
      },
      "source": [
        "x_train_3c.shape"
      ],
      "execution_count": 23,
      "outputs": [
        {
          "output_type": "execute_result",
          "data": {
            "text/plain": [
              "(60000, 32, 32, 3)"
            ]
          },
          "metadata": {
            "tags": []
          },
          "execution_count": 23
        }
      ]
    },
    {
      "cell_type": "code",
      "metadata": {
        "id": "jjA6zFAnihf8"
      },
      "source": [
        "y_test_ohe = to_categorical(y_test)\r\n",
        "y_train_ohe = to_categorical(y_train)"
      ],
      "execution_count": 37,
      "outputs": []
    },
    {
      "cell_type": "code",
      "metadata": {
        "id": "h6pQQx0Ciiiy"
      },
      "source": [
        ""
      ],
      "execution_count": 89,
      "outputs": []
    },
    {
      "cell_type": "code",
      "metadata": {
        "id": "3RfcKU2HjJ-a"
      },
      "source": [
        "x_train_3c=np.expand_dims(x_train_3c,axis=-1)\r\n",
        "x_test_3c=np.expand_dims(x_test_3c,axis=-1)\r\n"
      ],
      "execution_count": 18,
      "outputs": []
    },
    {
      "cell_type": "code",
      "metadata": {
        "colab": {
          "base_uri": "https://localhost:8080/",
          "height": 283
        },
        "id": "LSrWMbqGiigN",
        "outputId": "45f7cac5-b64d-4001-e841-31b22e5c4646"
      },
      "source": [
        "plt.imshow(bigger)"
      ],
      "execution_count": 77,
      "outputs": [
        {
          "output_type": "execute_result",
          "data": {
            "text/plain": [
              "<matplotlib.image.AxesImage at 0x7f4eb7a61400>"
            ]
          },
          "metadata": {
            "tags": []
          },
          "execution_count": 77
        },
        {
          "output_type": "display_data",
          "data": {
            "image/png": "[encoded data removed]",
            "text/plain": [
              "<Figure size 432x288 with 1 Axes>"
            ]
          },
          "metadata": {
            "tags": [],
            "needs_background": "light"
          }
        }
      ]
    },
    {
      "cell_type": "code",
      "metadata": {
        "id": "hV8eL7eqk4AP"
      },
      "source": [
        "IMAGE_SIZE = list(x_train_3c.shape[1:-1])"
      ],
      "execution_count": 24,
      "outputs": []
    },
    {
      "cell_type": "code",
      "metadata": {
        "colab": {
          "base_uri": "https://localhost:8080/"
        },
        "id": "ECKTboM5lQGe",
        "outputId": "e4893d6f-75bc-4353-d5cb-1852a5bc6807"
      },
      "source": [
        "IMAGE_SIZE"
      ],
      "execution_count": 25,
      "outputs": [
        {
          "output_type": "execute_result",
          "data": {
            "text/plain": [
              "[32, 32]"
            ]
          },
          "metadata": {
            "tags": []
          },
          "execution_count": 25
        }
      ]
    },
    {
      "cell_type": "code",
      "metadata": {
        "id": "q7htfj85n8Zy"
      },
      "source": [
        ""
      ],
      "execution_count": null,
      "outputs": []
    },
    {
      "cell_type": "code",
      "metadata": {
        "id": "fO060Tjbn8W4"
      },
      "source": [
        ""
      ],
      "execution_count": null,
      "outputs": []
    },
    {
      "cell_type": "code",
      "metadata": {
        "id": "Kt-uXfWRn8UM"
      },
      "source": [
        ""
      ],
      "execution_count": null,
      "outputs": []
    },
    {
      "cell_type": "code",
      "metadata": {
        "id": "G6J85HTRn8Re"
      },
      "source": [
        ""
      ],
      "execution_count": null,
      "outputs": []
    },
    {
      "cell_type": "code",
      "metadata": {
        "id": "vR-2Yvsfn8C0"
      },
      "source": [
        ""
      ],
      "execution_count": null,
      "outputs": []
    },
    {
      "cell_type": "code",
      "metadata": {
        "id": "wUK0-4aOgsEO"
      },
      "source": [
        "vgg16 = VGG16(input_shape=IMAGE_SIZE + [3], weights='imagenet', include_top=False)"
      ],
      "execution_count": 26,
      "outputs": []
    },
    {
      "cell_type": "code",
      "metadata": {
        "id": "bZIPYT2ulI_z"
      },
      "source": [
        "for layer in vgg16.layers:\r\n",
        "    layer.trainable = False"
      ],
      "execution_count": 27,
      "outputs": []
    },
    {
      "cell_type": "code",
      "metadata": {
        "id": "GFIhESWjleXP"
      },
      "source": [
        "x = Flatten()(vgg16.output)"
      ],
      "execution_count": 28,
      "outputs": []
    },
    {
      "cell_type": "code",
      "metadata": {
        "id": "HZlimuk4lkge"
      },
      "source": [
        "prediction = Dense(10, activation='softmax')(x)\r\n"
      ],
      "execution_count": 29,
      "outputs": []
    },
    {
      "cell_type": "code",
      "metadata": {
        "id": "6UHGhf_hlmjp"
      },
      "source": [
        "vgg_mnist = Model(inputs=vgg16.input, outputs=prediction)"
      ],
      "execution_count": 31,
      "outputs": []
    },
    {
      "cell_type": "code",
      "metadata": {
        "colab": {
          "base_uri": "https://localhost:8080/"
        },
        "id": "SiLd08PElyxp",
        "outputId": "f394352a-44f8-4cb1-bcac-ce1e6ed74768"
      },
      "source": [
        "vgg_mnist.summary()"
      ],
      "execution_count": 32,
      "outputs": [
        {
          "output_type": "stream",
          "text": [
            "Model: \"model_1\"\n",
            "_________________________________________________________________\n",
            "Layer (type)                 Output Shape              Param #   \n",
            "=================================================================\n",
            "input_1 (InputLayer)         [(None, 32, 32, 3)]       0         \n",
            "_________________________________________________________________\n",
            "block1_conv1 (Conv2D)        (None, 32, 32, 64)        1792      \n",
            "_________________________________________________________________\n",
            "block1_conv2 (Conv2D)        (None, 32, 32, 64)        36928     \n",
            "_________________________________________________________________\n",
            "block1_pool (MaxPooling2D)   (None, 16, 16, 64)        0         \n",
            "_________________________________________________________________\n",
            "block2_conv1 (Conv2D)        (None, 16, 16, 128)       73856     \n",
            "_________________________________________________________________\n",
            "block2_conv2 (Conv2D)        (None, 16, 16, 128)       147584    \n",
            "_________________________________________________________________\n",
            "block2_pool (MaxPooling2D)   (None, 8, 8, 128)         0         \n",
            "_________________________________________________________________\n",
            "block3_conv1 (Conv2D)        (None, 8, 8, 256)         295168    \n",
            "_________________________________________________________________\n",
            "block3_conv2 (Conv2D)        (None, 8, 8, 256)         590080    \n",
            "_________________________________________________________________\n",
            "block3_conv3 (Conv2D)        (None, 8, 8, 256)         590080    \n",
            "_________________________________________________________________\n",
            "block3_pool (MaxPooling2D)   (None, 4, 4, 256)         0         \n",
            "_________________________________________________________________\n",
            "block4_conv1 (Conv2D)        (None, 4, 4, 512)         1180160   \n",
            "_________________________________________________________________\n",
            "block4_conv2 (Conv2D)        (None, 4, 4, 512)         2359808   \n",
            "_________________________________________________________________\n",
            "block4_conv3 (Conv2D)        (None, 4, 4, 512)         2359808   \n",
            "_________________________________________________________________\n",
            "block4_pool (MaxPooling2D)   (None, 2, 2, 512)         0         \n",
            "_________________________________________________________________\n",
            "block5_conv1 (Conv2D)        (None, 2, 2, 512)         2359808   \n",
            "_________________________________________________________________\n",
            "block5_conv2 (Conv2D)        (None, 2, 2, 512)         2359808   \n",
            "_________________________________________________________________\n",
            "block5_conv3 (Conv2D)        (None, 2, 2, 512)         2359808   \n",
            "_________________________________________________________________\n",
            "block5_pool (MaxPooling2D)   (None, 1, 1, 512)         0         \n",
            "_________________________________________________________________\n",
            "flatten_1 (Flatten)          (None, 512)               0         \n",
            "_________________________________________________________________\n",
            "dense_2 (Dense)              (None, 10)                5130      \n",
            "=================================================================\n",
            "Total params: 14,719,818\n",
            "Trainable params: 5,130\n",
            "Non-trainable params: 14,714,688\n",
            "_________________________________________________________________\n"
          ],
          "name": "stdout"
        }
      ]
    },
    {
      "cell_type": "code",
      "metadata": {
        "id": "sCfsvomMmTkh"
      },
      "source": [
        "vgg_mnist.compile(\r\n",
        "  loss='categorical_crossentropy',\r\n",
        "  optimizer='adam',\r\n",
        "  metrics=['accuracy']\r\n",
        ")"
      ],
      "execution_count": 39,
      "outputs": []
    },
    {
      "cell_type": "code",
      "metadata": {
        "colab": {
          "base_uri": "https://localhost:8080/"
        },
        "id": "olTg2FTcmbBq",
        "outputId": "825f9789-e7b7-4f98-9dee-8080890de501"
      },
      "source": [
        "\r\n",
        "\r\n",
        "vgg_mnist.fit(x_train_3c,y_train_ohe,batch_size=32,validation_data=(x_test_3c,y_test_ohe),epochs=20,callbacks=[es])"
      ],
      "execution_count": 41,
      "outputs": [
        {
          "output_type": "stream",
          "text": [
            "Epoch 1/20\n",
            "1875/1875 [==============================] - 22s 12ms/step - loss: 0.7186 - accuracy: 0.8103 - val_loss: 0.7499 - val_accuracy: 0.7988\n",
            "Epoch 2/20\n",
            "1875/1875 [==============================] - 22s 12ms/step - loss: 0.6605 - accuracy: 0.8143 - val_loss: 0.7282 - val_accuracy: 0.8001\n",
            "Epoch 3/20\n",
            "1875/1875 [==============================] - 21s 11ms/step - loss: 0.6528 - accuracy: 0.8160 - val_loss: 0.8058 - val_accuracy: 0.8017\n",
            "Epoch 4/20\n",
            "1875/1875 [==============================] - 22s 12ms/step - loss: 0.6515 - accuracy: 0.8182 - val_loss: 0.8059 - val_accuracy: 0.7956\n",
            "Epoch 5/20\n",
            "1875/1875 [==============================] - 21s 11ms/step - loss: 0.6470 - accuracy: 0.8170 - val_loss: 0.6793 - val_accuracy: 0.8212\n",
            "Epoch 6/20\n",
            "1875/1875 [==============================] - 22s 11ms/step - loss: 0.6418 - accuracy: 0.8197 - val_loss: 0.6798 - val_accuracy: 0.8182\n",
            "Epoch 7/20\n",
            "1875/1875 [==============================] - 21s 11ms/step - loss: 0.6351 - accuracy: 0.8204 - val_loss: 0.7806 - val_accuracy: 0.7881\n",
            "Epoch 8/20\n",
            "1875/1875 [==============================] - 22s 11ms/step - loss: 0.6333 - accuracy: 0.8212 - val_loss: 0.7085 - val_accuracy: 0.8220\n",
            "Epoch 9/20\n",
            "1875/1875 [==============================] - 22s 12ms/step - loss: 0.6323 - accuracy: 0.8205 - val_loss: 0.7520 - val_accuracy: 0.8070\n",
            "Epoch 10/20\n",
            "1875/1875 [==============================] - 22s 11ms/step - loss: 0.6288 - accuracy: 0.8216 - val_loss: 0.7337 - val_accuracy: 0.8086\n",
            "Epoch 11/20\n",
            "1875/1875 [==============================] - 22s 12ms/step - loss: 0.6398 - accuracy: 0.8222 - val_loss: 0.8199 - val_accuracy: 0.7926\n",
            "Epoch 12/20\n",
            "1875/1875 [==============================] - 22s 12ms/step - loss: 0.6435 - accuracy: 0.8209 - val_loss: 0.7347 - val_accuracy: 0.8160\n",
            "Epoch 13/20\n",
            "1875/1875 [==============================] - 22s 12ms/step - loss: 0.6335 - accuracy: 0.8232 - val_loss: 0.9211 - val_accuracy: 0.7741\n",
            "Epoch 14/20\n",
            "1875/1875 [==============================] - 22s 12ms/step - loss: 0.6322 - accuracy: 0.8226 - val_loss: 0.7349 - val_accuracy: 0.8113\n",
            "Epoch 15/20\n",
            "1875/1875 [==============================] - 22s 12ms/step - loss: 0.6296 - accuracy: 0.8228 - val_loss: 0.8545 - val_accuracy: 0.7904\n",
            "Epoch 16/20\n",
            "1875/1875 [==============================] - 22s 12ms/step - loss: 0.6309 - accuracy: 0.8227 - val_loss: 0.7612 - val_accuracy: 0.8092\n"
          ],
          "name": "stdout"
        },
        {
          "output_type": "execute_result",
          "data": {
            "text/plain": [
              "<tensorflow.python.keras.callbacks.History at 0x7f080026f630>"
            ]
          },
          "metadata": {
            "tags": []
          },
          "execution_count": 41
        }
      ]
    },
    {
      "cell_type": "code",
      "metadata": {
        "colab": {
          "base_uri": "https://localhost:8080/"
        },
        "id": "TrPd1MQ1m7Sa",
        "outputId": "dae1500c-c90a-4411-a27a-1af21d9fb7bb"
      },
      "source": [
        "x_train_3c.shape"
      ],
      "execution_count": 153,
      "outputs": [
        {
          "output_type": "execute_result",
          "data": {
            "text/plain": [
              "(60000, 32, 32, 3)"
            ]
          },
          "metadata": {
            "tags": []
          },
          "execution_count": 153
        }
      ]
    },
    {
      "cell_type": "code",
      "metadata": {
        "id": "r1k2L30qnebS"
      },
      "source": [
        ""
      ],
      "execution_count": null,
      "outputs": []
    }
  ]
}