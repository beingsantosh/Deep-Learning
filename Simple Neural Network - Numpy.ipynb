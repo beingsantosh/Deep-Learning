{
 "cells": [
  {
   "cell_type": "markdown",
   "metadata": {},
   "source": [
    "## Neural network concept via numpy\n",
    " Simply explained how weights, biases and noise are calculated through gradient decent process to reduce the loss function."
   ]
  },
  {
   "cell_type": "code",
   "execution_count": 63,
   "metadata": {},
   "outputs": [],
   "source": [
    "import numpy as np\n",
    "import matplotlib.pyplot as plt\n",
    "from mpl_toolkits.mplot3d import Axes3D\n",
    "import seaborn as sns\n",
    "import warnings\n",
    "warnings.filterwarnings('ignore')"
   ]
  },
  {
   "cell_type": "code",
   "execution_count": 23,
   "metadata": {},
   "outputs": [],
   "source": [
    "# Generate data\n",
    "\n",
    "n = 1000\n",
    "\n",
    "xs = np.random.uniform(low = -10 , high = 10 , size= (n,1))\n",
    "ys = np.random.uniform(low = -10 , high = 10 , size= (n,1))\n",
    "\n",
    "\n",
    "x_y = np.column_stack((xs,ys))"
   ]
  },
  {
   "cell_type": "code",
   "execution_count": 24,
   "metadata": {},
   "outputs": [
    {
     "data": {
      "text/plain": [
       "(1000, 2)"
      ]
     },
     "execution_count": 24,
     "metadata": {},
     "output_type": "execute_result"
    }
   ],
   "source": [
    "x_y.shape"
   ]
  },
  {
   "cell_type": "code",
   "execution_count": 30,
   "metadata": {},
   "outputs": [],
   "source": [
    "# Targets\n",
    "# lets assume a function with 2 varibles and find their weight from neural network\n",
    "# f(x,y) = 9*x -7*y + 3 + noise\n",
    "\n",
    "noise = np.random.uniform(-1,1,(n,1))\n",
    "weight = np.array([9 , -7])"
   ]
  },
  {
   "cell_type": "code",
   "execution_count": 37,
   "metadata": {},
   "outputs": [],
   "source": [
    "weight=weight.reshape(2,-1)"
   ]
  },
  {
   "cell_type": "code",
   "execution_count": 39,
   "metadata": {},
   "outputs": [],
   "source": [
    "# target would be\n",
    "f = np.dot(x_y, weight) + 3 + noise"
   ]
  },
  {
   "cell_type": "code",
   "execution_count": 44,
   "metadata": {},
   "outputs": [
    {
     "data": {
      "text/plain": [
       "((1000, 2), (2, 1), (1000, 1), (1000, 1))"
      ]
     },
     "execution_count": 44,
     "metadata": {},
     "output_type": "execute_result"
    }
   ],
   "source": [
    "x_y.shape,weight.shape,noise.shape, f.shape"
   ]
  },
  {
   "cell_type": "code",
   "execution_count": 45,
   "metadata": {},
   "outputs": [],
   "source": [
    "# now modelling to find out the coefficient"
   ]
  },
  {
   "cell_type": "code",
   "execution_count": 46,
   "metadata": {},
   "outputs": [
    {
     "name": "stdout",
     "output_type": "stream",
     "text": [
      "[[ 0.04292313]\n",
      " [-0.05379563]]\n",
      "[-0.03676453]\n"
     ]
    }
   ],
   "source": [
    "# initialize the variables\n",
    "\n",
    "init_range = 0.1\n",
    "weights = np.random.uniform(-init_range, init_range, size = (2,1))\n",
    "biases = np.random.uniform(-init_range,init_range, size= 1)\n",
    "print (weights)\n",
    "print ( biases)"
   ]
  },
  {
   "cell_type": "code",
   "execution_count": 47,
   "metadata": {},
   "outputs": [],
   "source": [
    "# set learning rate\n",
    "learning_rate = 0.02"
   ]
  },
  {
   "cell_type": "code",
   "execution_count": 54,
   "metadata": {},
   "outputs": [
    {
     "name": "stdout",
     "output_type": "stream",
     "text": [
      "0.16061700006087937\n",
      "0.16061700006087937\n",
      "0.1606170000608793\n",
      "0.16061700006087926\n",
      "0.16061700006087942\n",
      "0.1606170000608793\n",
      "0.16061700006087917\n",
      "0.16061700006087962\n",
      "0.16061700006087948\n",
      "0.1606170000608794\n",
      "0.16061700006087942\n",
      "0.16061700006087956\n",
      "0.16061700006087942\n",
      "0.16061700006087956\n",
      "0.1606170000608794\n",
      "0.16061700006087964\n",
      "0.16061700006087937\n",
      "0.16061700006087942\n",
      "0.16061700006087934\n",
      "0.16061700006087942\n",
      "0.16061700006087937\n",
      "0.16061700006087945\n",
      "0.16061700006087942\n",
      "0.16061700006087937\n",
      "0.16061700006087962\n",
      "0.1606170000608793\n",
      "0.16061700006087917\n",
      "0.16061700006087923\n",
      "0.16061700006087937\n",
      "0.16061700006087926\n",
      "0.16061700006087926\n",
      "0.16061700006087926\n",
      "0.16061700006087934\n",
      "0.16061700006087926\n",
      "0.1606170000608793\n",
      "0.16061700006087926\n",
      "0.16061700006087937\n",
      "0.16061700006087942\n",
      "0.16061700006087923\n",
      "0.1606170000608794\n",
      "0.1606170000608793\n",
      "0.16061700006087942\n",
      "0.1606170000608793\n",
      "0.16061700006087937\n",
      "0.1606170000608794\n",
      "0.16061700006087937\n",
      "0.16061700006087926\n",
      "0.16061700006087934\n",
      "0.16061700006087948\n",
      "0.16061700006087934\n",
      "0.16061700006087934\n",
      "0.1606170000608793\n",
      "0.16061700006087928\n",
      "0.1606170000608793\n",
      "0.1606170000608793\n",
      "0.1606170000608794\n",
      "0.16061700006087948\n",
      "0.16061700006087937\n",
      "0.1606170000608794\n",
      "0.16061700006087926\n",
      "0.16061700006087937\n",
      "0.1606170000608793\n",
      "0.16061700006087942\n",
      "0.16061700006087926\n",
      "0.1606170000608793\n",
      "0.1606170000608793\n",
      "0.16061700006087942\n",
      "0.16061700006087937\n",
      "0.1606170000608793\n",
      "0.16061700006087928\n",
      "0.1606170000608793\n",
      "0.1606170000608793\n",
      "0.1606170000608793\n",
      "0.16061700006087937\n",
      "0.16061700006087937\n",
      "0.16061700006087937\n",
      "0.1606170000608793\n",
      "0.16061700006087934\n",
      "0.16061700006087928\n",
      "0.1606170000608793\n",
      "0.16061700006087926\n",
      "0.1606170000608794\n",
      "0.16061700006087945\n",
      "0.16061700006087942\n",
      "0.1606170000608793\n",
      "0.16061700006087942\n",
      "0.16061700006087923\n",
      "0.1606170000608793\n",
      "0.16061700006087948\n",
      "0.16061700006087937\n",
      "0.16061700006087948\n",
      "0.16061700006087942\n",
      "0.16061700006087945\n",
      "0.16061700006087928\n",
      "0.1606170000608792\n",
      "0.16061700006087937\n",
      "0.16061700006087937\n",
      "0.16061700006087942\n",
      "0.16061700006087937\n",
      "0.1606170000608794\n"
     ]
    }
   ],
   "source": [
    "#train the model\n",
    "\n",
    "for i in range (100):\n",
    "    output = np.dot(x_y,weights) + biases\n",
    "    loss = np.sum((output - f)**2)/2/n      # f is  target\n",
    "    print(loss)\n",
    "    \n",
    "    \n",
    "    deltas_scaled = (output - f)/n\n",
    "    \n",
    "    weights = weights -learning_rate * np.dot(x_y.T,deltas_scaled)\n",
    "    biases = biases -learning_rate * np.sum(deltas_scaled)"
   ]
  },
  {
   "cell_type": "code",
   "execution_count": 61,
   "metadata": {},
   "outputs": [
    {
     "name": "stdout",
     "output_type": "stream",
     "text": [
      "Calculated weights are : [9.00049209][-6.99792657] , 2.999896969130769\n",
      "Expected weights are ( as decided earlier before training) : [9][-7] , 3\n"
     ]
    }
   ],
   "source": [
    "# calculated weight and biases are almost similar as expected\n",
    "print( f'Calculated weights are : {weights[0]}{weights[1]} , {biases[0]}')\n",
    "print( f'Expected weights are ( as decided earlier before training) : {weight[0]}{weight[1]} , {3}')"
   ]
  },
  {
   "cell_type": "code",
   "execution_count": 62,
   "metadata": {},
   "outputs": [
    {
     "data": {
      "text/plain": [
       "[<matplotlib.lines.Line2D at 0x22841042088>]"
      ]
     },
     "execution_count": 62,
     "metadata": {},
     "output_type": "execute_result"
    },
    {
     "data": {
      "image/png": "[encoded data removed]",
      "text/plain": [
       "<Figure size 432x288 with 1 Axes>"
      ]
     },
     "metadata": {
      "needs_background": "light"
     },
     "output_type": "display_data"
    }
   ],
   "source": [
    "plt.plot( output, f)"
   ]
  },
  {
   "cell_type": "markdown",
   "metadata": {},
   "source": [
    "# ! great"
   ]
  },
  {
   "cell_type": "code",
   "execution_count": null,
   "metadata": {},
   "outputs": [],
   "source": []
  }
 ],
 "metadata": {
  "kernelspec": {
   "display_name": "Python 3",
   "language": "python",
   "name": "python3"
  },
  "language_info": {
   "codemirror_mode": {
    "name": "ipython",
    "version": 3
   },
   "file_extension": ".py",
   "mimetype": "text/x-python",
   "name": "python",
   "nbconvert_exporter": "python",
   "pygments_lexer": "ipython3",
   "version": "3.7.9"
  }
 },
 "nbformat": 4,
 "nbformat_minor": 2
}
