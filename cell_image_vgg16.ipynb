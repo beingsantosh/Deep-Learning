{
  "nbformat": 4,
  "nbformat_minor": 0,
  "metadata": {
    "colab": {
      "name": "cell_image_vgg16.ipynb",
      "provenance": [],
      "collapsed_sections": [],
      "mount_file_id": "1JOXtTcyZR4S-WhDl2ldwjRy_yCtHRMTj",
      "authorship_tag": "ABX9TyPgpQ+S44b9czSynFhRv00f",
      "include_colab_link": true
    },
    "kernelspec": {
      "name": "python3",
      "display_name": "Python 3"
    }
  },
  "cells": [
    {
      "cell_type": "markdown",
      "metadata": {
        "id": "view-in-github",
        "colab_type": "text"
      },
      "source": [
        "<a href=\"https://colab.research.google.com/github/santoshkumarbvp/Deep-Learning/blob/main/cell_image_vgg16.ipynb\" target=\"_parent\"><img src=\"https://colab.research.google.com/assets/colab-badge.svg\" alt=\"Open In Colab\"/></a>"
      ]
    },
    {
      "cell_type": "code",
      "metadata": {
        "id": "WlItowehxcxz"
      },
      "source": [
        "from glob import glob\r\n",
        "import os"
      ],
      "execution_count": 41,
      "outputs": []
    },
    {
      "cell_type": "code",
      "metadata": {
        "id": "J99zaVXNxrJL"
      },
      "source": [
        "train_path = 'drive/MyDrive/cell_images/cell_images/train/'\r\n",
        "test_path = 'drive/MyDrive/cell_images/cell_images/test/'"
      ],
      "execution_count": 161,
      "outputs": []
    },
    {
      "cell_type": "code",
      "metadata": {
        "id": "N0e07RvYIrG3"
      },
      "source": [
        "def filecount(folderpath):\r\n",
        "  if folderpath[-1] == '/': folderpath = folderpath.rstrip('/')\r\n",
        "  if folderpath.split('/')[-1] == 'train' or 'test':  folderpath = '/'.join(folderpath.split('/')[:-1])\r\n",
        "  \r\n",
        "  classes_train = os.listdir(folderpath+'/train')\r\n",
        "  classes_test = os.listdir(folderpath+'/test')\r\n",
        "\r\n",
        "  if len(classes_test) != len(classes_train):\r\n",
        "    return 'Classes in both train and test folder are different.. please check'\r\n",
        "      \r\n",
        "  \r\n",
        "  count = dict()\r\n",
        " \r\n",
        "  classname = os.listdir(folderpath+'/train')\r\n",
        "  count['Class name'] = tuple(classname)\r\n",
        "  for subfolders in ['test','train']:\r\n",
        "    allclasses_filecount = []\r\n",
        "    for c in classname:\r\n",
        "\r\n",
        "      file_count= sum([1 for f in glob(folderpath+'/'+subfolders+'/'+c+'/*') if os.path.isfile(f)])\r\n",
        "      allclasses_filecount.append(file_count)\r\n",
        "    count[subfolders] = tuple(allclasses_filecount)\r\n",
        "    \r\n",
        "  return count"
      ],
      "execution_count": 162,
      "outputs": []
    },
    {
      "cell_type": "code",
      "metadata": {
        "colab": {
          "base_uri": "https://localhost:8080/"
        },
        "id": "8ZjIeXVLIss_",
        "outputId": "eebdc540-03cf-471c-9662-38dbb4a52e04"
      },
      "source": [
        "filecount(train_path)"
      ],
      "execution_count": 163,
      "outputs": [
        {
          "output_type": "execute_result",
          "data": {
            "text/plain": [
              "{'Class name': ('uninfected', 'parasitized'),\n",
              " 'test': (1300, 1300),\n",
              " 'train': (10794, 12479)}"
            ]
          },
          "metadata": {
            "tags": []
          },
          "execution_count": 163
        }
      ]
    },
    {
      "cell_type": "code",
      "metadata": {
        "id": "p1DVXqh9Iv66"
      },
      "source": [
        ""
      ],
      "execution_count": null,
      "outputs": []
    }
  ]
}