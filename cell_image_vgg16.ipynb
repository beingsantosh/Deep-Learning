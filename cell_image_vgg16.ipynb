{
  "nbformat": 4,
  "nbformat_minor": 0,
  "metadata": {
    "colab": {
      "name": "cell_image_vgg16.ipynb",
      "provenance": [],
      "collapsed_sections": [],
      "mount_file_id": "1JOXtTcyZR4S-WhDl2ldwjRy_yCtHRMTj",
      "authorship_tag": "ABX9TyM8eO7DwyCjrYWviqOFOEX/",
      "include_colab_link": true
    },
    "kernelspec": {
      "name": "python3",
      "display_name": "Python 3"
    },
    "accelerator": "GPU"
  },
  "cells": [
    {
      "cell_type": "markdown",
      "metadata": {
        "id": "view-in-github",
        "colab_type": "text"
      },
      "source": [
        "<a href=\"https://colab.research.google.com/github/santoshkumarbvp/Deep-Learning/blob/main/cell_image_vgg16.ipynb\" target=\"_parent\"><img src=\"https://colab.research.google.com/assets/colab-badge.svg\" alt=\"Open In Colab\"/></a>"
      ]
    },
    {
      "cell_type": "code",
      "metadata": {
        "id": "WlItowehxcxz"
      },
      "source": [
        "from glob import glob\r\n",
        "import os\r\n",
        "import matplotlib.pyplot as plt\r\n",
        "from matplotlib.image import imread\r\n",
        "from tensorflow.keras.preprocessing import image\r\n",
        "import numpy as np\r\n",
        "import seaborn as sns\r\n",
        "from tensorflow.keras.preprocessing.image import ImageDataGenerator\r\n",
        "from tensorflow.keras.models import load_model\r\n",
        "from sklearn.metrics import confusion_matrix, classification_report, accuracy_score"
      ],
      "execution_count": 146,
      "outputs": []
    },
    {
      "cell_type": "code",
      "metadata": {
        "colab": {
          "base_uri": "https://localhost:8080/"
        },
        "id": "1GewUR9dclr6",
        "outputId": "7ff133e4-61bf-4c72-d976-977e72d8e778"
      },
      "source": [
        "!nvidia-smi"
      ],
      "execution_count": 17,
      "outputs": [
        {
          "output_type": "stream",
          "text": [
            "Fri Jan  8 05:53:26 2021       \n",
            "+-----------------------------------------------------------------------------+\n",
            "| NVIDIA-SMI 460.27.04    Driver Version: 418.67       CUDA Version: 10.1     |\n",
            "|-------------------------------+----------------------+----------------------+\n",
            "| GPU  Name        Persistence-M| Bus-Id        Disp.A | Volatile Uncorr. ECC |\n",
            "| Fan  Temp  Perf  Pwr:Usage/Cap|         Memory-Usage | GPU-Util  Compute M. |\n",
            "|                               |                      |               MIG M. |\n",
            "|===============================+======================+======================|\n",
            "|   0  Tesla T4            Off  | 00000000:00:04.0 Off |                    0 |\n",
            "| N/A   60C    P0    30W /  70W |    227MiB / 15079MiB |      0%      Default |\n",
            "|                               |                      |                 ERR! |\n",
            "+-------------------------------+----------------------+----------------------+\n",
            "                                                                               \n",
            "+-----------------------------------------------------------------------------+\n",
            "| Processes:                                                                  |\n",
            "|  GPU   GI   CI        PID   Type   Process name                  GPU Memory |\n",
            "|        ID   ID                                                   Usage      |\n",
            "|=============================================================================|\n",
            "|  No running processes found                                                 |\n",
            "+-----------------------------------------------------------------------------+\n"
          ],
          "name": "stdout"
        }
      ]
    },
    {
      "cell_type": "code",
      "metadata": {
        "id": "J99zaVXNxrJL"
      },
      "source": [
        "path = 'drive/MyDrive/cell_images/cell_images/'\r\n"
      ],
      "execution_count": 18,
      "outputs": []
    },
    {
      "cell_type": "markdown",
      "metadata": {
        "id": "DO0JsMKvaZpD"
      },
      "source": [
        "First lets understand the data.\r\n",
        "\r\n",
        "\r\n",
        "1.   Size\r\n",
        "2.   Number of classes\r\n",
        "\r\n"
      ]
    },
    {
      "cell_type": "code",
      "metadata": {
        "id": "N0e07RvYIrG3"
      },
      "source": [
        "def filecount(folderpath):\r\n",
        "  # this provides the total data count for each class \r\n",
        "  if folderpath[-1] == '/': folderpath = folderpath.rstrip('/')\r\n",
        "  if folderpath.split('/')[-1] == ('train' or 'test'):  folderpath = '/'.join(folderpath.split('/')[:-1])\r\n",
        "  \r\n",
        "  classes_train = os.listdir(folderpath+'/train')\r\n",
        "  classes_test = os.listdir(folderpath+'/test')\r\n",
        "\r\n",
        "  if len(classes_test) != len(classes_train):\r\n",
        "    return 'Classes in both train and test folder are different.. please check'\r\n",
        "      \r\n",
        "  \r\n",
        "  count = dict()\r\n",
        " \r\n",
        "  classname = os.listdir(folderpath+'/train')\r\n",
        "  count['Class name'] = tuple(classname)\r\n",
        "  for subfolders in ['test','train']:\r\n",
        "    allclasses_filecount = []\r\n",
        "    for c in classname:\r\n",
        "\r\n",
        "      file_count= sum([1 for f in glob(folderpath+'/'+subfolders+'/'+c+'/*') if os.path.isfile(f)])\r\n",
        "      allclasses_filecount.append(file_count)\r\n",
        "    count[subfolders] = tuple(allclasses_filecount)\r\n",
        "    \r\n",
        "  return count"
      ],
      "execution_count": 19,
      "outputs": []
    },
    {
      "cell_type": "code",
      "metadata": {
        "colab": {
          "base_uri": "https://localhost:8080/"
        },
        "id": "8ZjIeXVLIss_",
        "outputId": "d49bab87-02ec-468d-fa68-2a7827ecbc43"
      },
      "source": [
        "filecount(path)"
      ],
      "execution_count": 20,
      "outputs": [
        {
          "output_type": "execute_result",
          "data": {
            "text/plain": [
              "{'Class name': ('uninfected', 'parasitized'),\n",
              " 'test': (1300, 1300),\n",
              " 'train': (10794, 12479)}"
            ]
          },
          "metadata": {
            "tags": []
          },
          "execution_count": 20
        }
      ]
    },
    {
      "cell_type": "markdown",
      "metadata": {
        "id": "1cXrfb4Aamql"
      },
      "source": [
        "Lets check if all the files have same pixels"
      ]
    },
    {
      "cell_type": "code",
      "metadata": {
        "id": "XhzH_JPiYz7K"
      },
      "source": [
        "dim1=[]\r\n",
        "dim2 =[]\r\n",
        "channel = set()\r\n",
        "for folder in ['test','train']:\r\n",
        "  for cl in ['uninfected','parasitized']:\r\n",
        "    for file in glob('drive/MyDrive/cell_images/cell_images/'+folder+'/'+ cl+'/*')[:500]:\r\n",
        "      d1,d2, c = imread(file).shape\r\n",
        "      dim1.append(d1)\r\n",
        "      dim2.append(d2)\r\n",
        "      channel.add(c)"
      ],
      "execution_count": 62,
      "outputs": []
    },
    {
      "cell_type": "code",
      "metadata": {
        "colab": {
          "base_uri": "https://localhost:8080/",
          "height": 335
        },
        "id": "ySdns5bYpUY5",
        "outputId": "21bd4063-f8b0-4daf-ae33-33fd9304536f"
      },
      "source": [
        "sns.scatterplot(dim1,dim2)"
      ],
      "execution_count": 63,
      "outputs": [
        {
          "output_type": "stream",
          "text": [
            "/usr/local/lib/python3.6/dist-packages/seaborn/_decorators.py:43: FutureWarning: Pass the following variables as keyword args: x, y. From version 0.12, the only valid positional argument will be `data`, and passing other arguments without an explicit keyword will result in an error or misinterpretation.\n",
            "  FutureWarning\n"
          ],
          "name": "stderr"
        },
        {
          "output_type": "execute_result",
          "data": {
            "text/plain": [
              "<matplotlib.axes._subplots.AxesSubplot at 0x7f59033fe4a8>"
            ]
          },
          "metadata": {
            "tags": []
          },
          "execution_count": 63
        },
        {
          "output_type": "display_data",
          "data": {
            "image/png": "[encoded data removed]",
            "text/plain": [
              "<Figure size 432x288 with 1 Axes>"
            ]
          },
          "metadata": {
            "tags": [],
            "needs_background": "light"
          }
        }
      ]
    },
    {
      "cell_type": "code",
      "metadata": {
        "colab": {
          "base_uri": "https://localhost:8080/"
        },
        "id": "rC7QyJRipX8I",
        "outputId": "41a07951-f3ba-4fb3-ca1b-0f7eea884f0f"
      },
      "source": [
        "np.array(dim1).mean(), np.array(dim2).mean()"
      ],
      "execution_count": 66,
      "outputs": [
        {
          "output_type": "execute_result",
          "data": {
            "text/plain": [
              "(135.844, 134.755)"
            ]
          },
          "metadata": {
            "tags": []
          },
          "execution_count": 66
        }
      ]
    },
    {
      "cell_type": "code",
      "metadata": {
        "id": "rS9XOCJp18IL"
      },
      "source": [
        "img_shape= (130,130,3)"
      ],
      "execution_count": 136,
      "outputs": []
    },
    {
      "cell_type": "code",
      "metadata": {
        "colab": {
          "base_uri": "https://localhost:8080/"
        },
        "id": "k5yEZMjVCZ9M",
        "outputId": "6a0b195f-80fb-4119-f1e3-aa9449088c52"
      },
      "source": [
        "130*130*3"
      ],
      "execution_count": 135,
      "outputs": [
        {
          "output_type": "execute_result",
          "data": {
            "text/plain": [
              "50700"
            ]
          },
          "metadata": {
            "tags": []
          },
          "execution_count": 135
        }
      ]
    },
    {
      "cell_type": "markdown",
      "metadata": {
        "id": "qtFtImiQt4y8"
      },
      "source": [
        "so lets take 135,135,3 , while doing imagedata generator"
      ]
    },
    {
      "cell_type": "code",
      "metadata": {
        "colab": {
          "base_uri": "https://localhost:8080/"
        },
        "id": "ti99n6u3wEM1",
        "outputId": "3d9af688-7dec-4ddc-dc66-4733007f812b"
      },
      "source": [
        "img = glob(path+'train/parasitized/*')[0]\r\n",
        "imread(img).max()  # already normalized, otherwise 1/255"
      ],
      "execution_count": 79,
      "outputs": [
        {
          "output_type": "execute_result",
          "data": {
            "text/plain": [
              "0.8862745"
            ]
          },
          "metadata": {
            "tags": []
          },
          "execution_count": 79
        }
      ]
    },
    {
      "cell_type": "code",
      "metadata": {
        "id": "aWHQiDP6rCpt"
      },
      "source": [
        "img_gen = ImageDataGenerator(rotation_range=20,\r\n",
        "                             width_shift_range=0.1,\r\n",
        "                             height_shift_range = 0.1,\r\n",
        "                             shear_range=0.1,\r\n",
        "                             zoom_range=0.1,\r\n",
        "                             horizontal_flip= True,\r\n",
        "                             fill_mode = 'nearest')\r\n"
      ],
      "execution_count": 137,
      "outputs": []
    },
    {
      "cell_type": "code",
      "metadata": {
        "colab": {
          "base_uri": "https://localhost:8080/",
          "height": 132
        },
        "id": "0X7HYbz7ucKp",
        "outputId": "b2e9f831-8802-4748-db69-1521623ca800"
      },
      "source": [
        "image.load_img(img)"
      ],
      "execution_count": 82,
      "outputs": [
        {
          "output_type": "execute_result",
          "data": {
            "image/png": "[encoded data removed]",
            "text/plain": [
              "<PIL.PngImagePlugin.PngImageFile image mode=RGB size=106x115 at 0x7F590345E9E8>"
            ]
          },
          "metadata": {
            "tags": []
          },
          "execution_count": 82
        }
      ]
    },
    {
      "cell_type": "code",
      "metadata": {
        "colab": {
          "base_uri": "https://localhost:8080/",
          "height": 285
        },
        "id": "ortR6na8xbOl",
        "outputId": "a46f3804-4146-498d-f475-fc00b1ba94cc"
      },
      "source": [
        "plt.imshow(imread(img))"
      ],
      "execution_count": 85,
      "outputs": [
        {
          "output_type": "execute_result",
          "data": {
            "text/plain": [
              "<matplotlib.image.AxesImage at 0x7f59030388d0>"
            ]
          },
          "metadata": {
            "tags": []
          },
          "execution_count": 85
        },
        {
          "output_type": "display_data",
          "data": {
            "image/png": "[encoded data removed]",
            "text/plain": [
              "<Figure size 432x288 with 1 Axes>"
            ]
          },
          "metadata": {
            "tags": [],
            "needs_background": "light"
          }
        }
      ]
    },
    {
      "cell_type": "code",
      "metadata": {
        "colab": {
          "base_uri": "https://localhost:8080/",
          "height": 285
        },
        "id": "aZFAaa_sy1GJ",
        "outputId": "09f1102b-f921-4a8b-c2a3-853a0ffc5594"
      },
      "source": [
        "plt.imshow(img_gen.random_transform(imread(img)))"
      ],
      "execution_count": 103,
      "outputs": [
        {
          "output_type": "execute_result",
          "data": {
            "text/plain": [
              "<matplotlib.image.AxesImage at 0x7f590ce8b8d0>"
            ]
          },
          "metadata": {
            "tags": []
          },
          "execution_count": 103
        },
        {
          "output_type": "display_data",
          "data": {
            "image/png": "[encoded data removed]",
            "text/plain": [
              "<Figure size 432x288 with 1 Axes>"
            ]
          },
          "metadata": {
            "tags": [],
            "needs_background": "light"
          }
        }
      ]
    },
    {
      "cell_type": "code",
      "metadata": {
        "colab": {
          "base_uri": "https://localhost:8080/"
        },
        "id": "O_ZMLGvvzK0o",
        "outputId": "c7153d95-179b-43fb-a22c-9e78cbfb45f1"
      },
      "source": [
        "train_gen = img_gen.flow_from_directory(path+'train', \r\n",
        "                            target_size = img_shape[:2],\r\n",
        "                            color_mode = 'rgb',\r\n",
        "                            batch_size = 32,\r\n",
        "                            class_mode = 'binary'\r\n",
        "                            )\r\n",
        "\r\n",
        "test_gen = img_gen.flow_from_directory(path+'test', \r\n",
        "                            target_size = img_shape[:2],\r\n",
        "                            color_mode = 'rgb',\r\n",
        "                            batch_size = 32,\r\n",
        "                            class_mode = 'binary',\r\n",
        "                            shuffle = False\r\n",
        "                            )"
      ],
      "execution_count": 138,
      "outputs": [
        {
          "output_type": "stream",
          "text": [
            "Found 23273 images belonging to 2 classes.\n",
            "Found 2600 images belonging to 2 classes.\n"
          ],
          "name": "stdout"
        }
      ]
    },
    {
      "cell_type": "code",
      "metadata": {
        "colab": {
          "base_uri": "https://localhost:8080/"
        },
        "id": "HzSwDUzM7Q8N",
        "outputId": "2c4ea776-8dff-4642-aefd-bd9a17bd5d63"
      },
      "source": [
        "train_gen.class_indices , test_gen.class_indices"
      ],
      "execution_count": 119,
      "outputs": [
        {
          "output_type": "execute_result",
          "data": {
            "text/plain": [
              "({'parasitized': 0, 'uninfected': 1}, {'parasitized': 0, 'uninfected': 1})"
            ]
          },
          "metadata": {
            "tags": []
          },
          "execution_count": 119
        }
      ]
    },
    {
      "cell_type": "code",
      "metadata": {
        "id": "Eym_4l8R0dVR"
      },
      "source": [
        ""
      ],
      "execution_count": null,
      "outputs": []
    },
    {
      "cell_type": "markdown",
      "metadata": {
        "id": "593Ssh6u1Kwq"
      },
      "source": [
        "Initializing the Model "
      ]
    },
    {
      "cell_type": "code",
      "metadata": {
        "id": "JF6L6Vhn1OFR"
      },
      "source": [
        "from tensorflow.keras.models import Sequential\r\n",
        "from tensorflow.keras.layers import Dense, MaxPool2D, Flatten, Conv2D, Dropout"
      ],
      "execution_count": 106,
      "outputs": []
    },
    {
      "cell_type": "code",
      "metadata": {
        "id": "xUCVzGN11ebd"
      },
      "source": [
        "model = Sequential()\r\n",
        "model.add(Conv2D(kernel_size=(3,3),filters=32, input_shape= img_shape, activation='relu'))\r\n",
        "model.add(MaxPool2D(pool_size=(2,2)))\r\n",
        "\r\n",
        "model.add(Conv2D(kernel_size=(3,3),filters=64, activation='relu'))\r\n",
        "model.add(MaxPool2D(pool_size=(2,2)))\r\n",
        "\r\n",
        "model.add(Conv2D(kernel_size=(3,3),filters=64, activation='relu'))\r\n",
        "model.add(MaxPool2D(pool_size=(2,2)))\r\n",
        "\r\n",
        "model.add(Flatten())\r\n",
        "\r\n",
        "model.add(Dense(128,activation='relu'))\r\n",
        "model.add(Dropout(0.5))\r\n",
        "\r\n",
        "model.add(Dense(1, activation='sigmoid'))\r\n",
        "\r\n",
        "model.compile(loss= 'binary_crossentropy', optimizer = 'adam', metrics=['accuracy'])"
      ],
      "execution_count": 110,
      "outputs": []
    },
    {
      "cell_type": "code",
      "metadata": {
        "colab": {
          "base_uri": "https://localhost:8080/"
        },
        "id": "-0HCzSjA1hou",
        "outputId": "6bcfbaae-d075-4b07-d4c0-7f9801be7728"
      },
      "source": [
        "model.summary()"
      ],
      "execution_count": 112,
      "outputs": [
        {
          "output_type": "stream",
          "text": [
            "Model: \"sequential_2\"\n",
            "_________________________________________________________________\n",
            "Layer (type)                 Output Shape              Param #   \n",
            "=================================================================\n",
            "conv2d (Conv2D)              (None, 133, 133, 32)      896       \n",
            "_________________________________________________________________\n",
            "max_pooling2d (MaxPooling2D) (None, 66, 66, 32)        0         \n",
            "_________________________________________________________________\n",
            "conv2d_1 (Conv2D)            (None, 64, 64, 64)        18496     \n",
            "_________________________________________________________________\n",
            "max_pooling2d_1 (MaxPooling2 (None, 32, 32, 64)        0         \n",
            "_________________________________________________________________\n",
            "conv2d_2 (Conv2D)            (None, 30, 30, 64)        36928     \n",
            "_________________________________________________________________\n",
            "max_pooling2d_2 (MaxPooling2 (None, 15, 15, 64)        0         \n",
            "_________________________________________________________________\n",
            "flatten (Flatten)            (None, 14400)             0         \n",
            "_________________________________________________________________\n",
            "dense (Dense)                (None, 128)               1843328   \n",
            "_________________________________________________________________\n",
            "dropout (Dropout)            (None, 128)               0         \n",
            "_________________________________________________________________\n",
            "dense_1 (Dense)              (None, 1)                 129       \n",
            "=================================================================\n",
            "Total params: 1,899,777\n",
            "Trainable params: 1,899,777\n",
            "Non-trainable params: 0\n",
            "_________________________________________________________________\n"
          ],
          "name": "stdout"
        }
      ]
    },
    {
      "cell_type": "code",
      "metadata": {
        "id": "q3DVDgT332E5"
      },
      "source": [
        "from tensorflow.keras.callbacks import EarlyStopping"
      ],
      "execution_count": 113,
      "outputs": []
    },
    {
      "cell_type": "code",
      "metadata": {
        "id": "YQGMJVp34atH"
      },
      "source": [
        "es = EarlyStopping(monitor='val_loss',patience=4)\r\n"
      ],
      "execution_count": 114,
      "outputs": []
    },
    {
      "cell_type": "code",
      "metadata": {
        "id": "vN1si-u954wH"
      },
      "source": [
        "result = model.fit(train_gen,epochs= 20, validation_data=test_gen,callbacks=[es])"
      ],
      "execution_count": 120,
      "outputs": []
    },
    {
      "cell_type": "markdown",
      "metadata": {
        "id": "sfHQkc9hAn09"
      },
      "source": [
        "Training will take lot of time, lets upload the already learned model."
      ]
    },
    {
      "cell_type": "code",
      "metadata": {
        "id": "Ci-pow5W7yOG"
      },
      "source": [
        "pre_model=load_model('/content/drive/MyDrive/cell_images/malaria_detector.h5')"
      ],
      "execution_count": 139,
      "outputs": []
    },
    {
      "cell_type": "code",
      "metadata": {
        "id": "LF71uY06BcGs"
      },
      "source": [
        "# pre_model.evaluate(test_gen)\r\n"
      ],
      "execution_count": 131,
      "outputs": []
    },
    {
      "cell_type": "code",
      "metadata": {
        "colab": {
          "base_uri": "https://localhost:8080/"
        },
        "id": "P4AcD6dMBmK8",
        "outputId": "9bfc3094-958c-4c92-8b97-042818e79342"
      },
      "source": [
        "pre_model.evaluate(test_gen)"
      ],
      "execution_count": 140,
      "outputs": [
        {
          "output_type": "stream",
          "text": [
            "82/82 [==============================] - 13s 158ms/step - loss: 35.8365 - accuracy: 0.8704\n"
          ],
          "name": "stdout"
        },
        {
          "output_type": "execute_result",
          "data": {
            "text/plain": [
              "[35.8365364074707, 0.8703846335411072]"
            ]
          },
          "metadata": {
            "tags": []
          },
          "execution_count": 140
        }
      ]
    },
    {
      "cell_type": "code",
      "metadata": {
        "colab": {
          "base_uri": "https://localhost:8080/"
        },
        "id": "8PEzvahDCCRS",
        "outputId": "23785228-0058-4289-c576-ae505eb79312"
      },
      "source": [
        "pre_model.metrics_names"
      ],
      "execution_count": 133,
      "outputs": [
        {
          "output_type": "execute_result",
          "data": {
            "text/plain": [
              "['loss', 'accuracy']"
            ]
          },
          "metadata": {
            "tags": []
          },
          "execution_count": 133
        }
      ]
    },
    {
      "cell_type": "code",
      "metadata": {
        "id": "8OSigNdnCL9m"
      },
      "source": [
        "pred = pre_model.predict(test_gen)"
      ],
      "execution_count": 142,
      "outputs": []
    },
    {
      "cell_type": "code",
      "metadata": {
        "id": "Hnr5kctoDDwJ"
      },
      "source": [
        "pred = pred > 0.5"
      ],
      "execution_count": 144,
      "outputs": []
    },
    {
      "cell_type": "code",
      "metadata": {
        "colab": {
          "base_uri": "https://localhost:8080/"
        },
        "id": "mPjrH3I_DN_2",
        "outputId": "684f11af-4c41-4feb-cf8d-9c32ae1d1b54"
      },
      "source": [
        "pred"
      ],
      "execution_count": 145,
      "outputs": [
        {
          "output_type": "execute_result",
          "data": {
            "text/plain": [
              "array([[False],\n",
              "       [False],\n",
              "       [False],\n",
              "       ...,\n",
              "       [ True],\n",
              "       [False],\n",
              "       [False]])"
            ]
          },
          "metadata": {
            "tags": []
          },
          "execution_count": 145
        }
      ]
    },
    {
      "cell_type": "code",
      "metadata": {
        "id": "mcjN-DDkDVpa"
      },
      "source": [
        "y_true = test_gen.classes"
      ],
      "execution_count": 149,
      "outputs": []
    },
    {
      "cell_type": "code",
      "metadata": {
        "colab": {
          "base_uri": "https://localhost:8080/"
        },
        "id": "QI2fHGd9Dord",
        "outputId": "8269cf17-66a5-4886-a4c3-4da548957098"
      },
      "source": [
        "confusion_matrix(y_true,pred)"
      ],
      "execution_count": 150,
      "outputs": [
        {
          "output_type": "execute_result",
          "data": {
            "text/plain": [
              "array([[1273,   27],\n",
              "       [ 315,  985]])"
            ]
          },
          "metadata": {
            "tags": []
          },
          "execution_count": 150
        }
      ]
    },
    {
      "cell_type": "code",
      "metadata": {
        "colab": {
          "base_uri": "https://localhost:8080/"
        },
        "id": "-52TDMByD1C9",
        "outputId": "63df16d0-b287-4df0-f5ea-5c3728dd4807"
      },
      "source": [
        "print(classification_report(y_true,pred))"
      ],
      "execution_count": 152,
      "outputs": [
        {
          "output_type": "stream",
          "text": [
            "              precision    recall  f1-score   support\n",
            "\n",
            "           0       0.80      0.98      0.88      1300\n",
            "           1       0.97      0.76      0.85      1300\n",
            "\n",
            "    accuracy                           0.87      2600\n",
            "   macro avg       0.89      0.87      0.87      2600\n",
            "weighted avg       0.89      0.87      0.87      2600\n",
            "\n"
          ],
          "name": "stdout"
        }
      ]
    },
    {
      "cell_type": "markdown",
      "metadata": {
        "id": "PH3H09dLFO4N"
      },
      "source": [
        "predicting the single image"
      ]
    },
    {
      "cell_type": "code",
      "metadata": {
        "colab": {
          "base_uri": "https://localhost:8080/",
          "height": 35
        },
        "id": "IhxSlcmaD5FV",
        "outputId": "4d2c00af-59e9-4a91-c3b7-8a5f51187300"
      },
      "source": [
        "img"
      ],
      "execution_count": 177,
      "outputs": [
        {
          "output_type": "execute_result",
          "data": {
            "application/vnd.google.colaboratory.intrinsic+json": {
              "type": "string"
            },
            "text/plain": [
              "'drive/MyDrive/cell_images/cell_images/train/parasitized/C99P60ThinF_IMG_20150918_141001_cell_113.png'"
            ]
          },
          "metadata": {
            "tags": []
          },
          "execution_count": 177
        }
      ]
    },
    {
      "cell_type": "code",
      "metadata": {
        "id": "3_ss9_9jFSmA"
      },
      "source": [
        "img_array = imread(img)"
      ],
      "execution_count": 178,
      "outputs": []
    },
    {
      "cell_type": "code",
      "metadata": {
        "colab": {
          "base_uri": "https://localhost:8080/"
        },
        "id": "tk44tss-Fp23",
        "outputId": "8278594b-5b52-4eab-d670-f1a4126c8d42"
      },
      "source": [
        "img_array.shape"
      ],
      "execution_count": 179,
      "outputs": [
        {
          "output_type": "execute_result",
          "data": {
            "text/plain": [
              "(115, 106, 3)"
            ]
          },
          "metadata": {
            "tags": []
          },
          "execution_count": 179
        }
      ]
    },
    {
      "cell_type": "code",
      "metadata": {
        "id": "z6jfpabKKhFY"
      },
      "source": [
        "img_array = cv2.resize(img_array,(130,130))"
      ],
      "execution_count": 180,
      "outputs": []
    },
    {
      "cell_type": "code",
      "metadata": {
        "colab": {
          "base_uri": "https://localhost:8080/"
        },
        "id": "EkHVd_kaKiP_",
        "outputId": "81fafc44-06e7-448c-b013-6bc2d1800c4b"
      },
      "source": [
        "img_array.shape"
      ],
      "execution_count": 181,
      "outputs": [
        {
          "output_type": "execute_result",
          "data": {
            "text/plain": [
              "(130, 130, 3)"
            ]
          },
          "metadata": {
            "tags": []
          },
          "execution_count": 181
        }
      ]
    },
    {
      "cell_type": "code",
      "metadata": {
        "id": "RbBUMwnbFsn1"
      },
      "source": [
        "img_pred=np.expand_dims(img_array, axis=0)"
      ],
      "execution_count": 185,
      "outputs": []
    },
    {
      "cell_type": "code",
      "metadata": {
        "colab": {
          "base_uri": "https://localhost:8080/"
        },
        "id": "Xe-7S6RvF2Ez",
        "outputId": "b3bd5a97-fcbf-4185-b56a-865090824b16"
      },
      "source": [
        "img_pred.shape"
      ],
      "execution_count": 186,
      "outputs": [
        {
          "output_type": "execute_result",
          "data": {
            "text/plain": [
              "(1, 130, 130, 3)"
            ]
          },
          "metadata": {
            "tags": []
          },
          "execution_count": 186
        }
      ]
    },
    {
      "cell_type": "code",
      "metadata": {
        "colab": {
          "base_uri": "https://localhost:8080/"
        },
        "id": "Ro6YCBi9Fa3q",
        "outputId": "ad0fbdbf-9003-4f3b-f4db-a7d5b743a1b7"
      },
      "source": [
        "pre_model.predict(img_pred).round(2) "
      ],
      "execution_count": 191,
      "outputs": [
        {
          "output_type": "execute_result",
          "data": {
            "text/plain": [
              "array([[0.02]], dtype=float32)"
            ]
          },
          "metadata": {
            "tags": []
          },
          "execution_count": 191
        }
      ]
    },
    {
      "cell_type": "markdown",
      "metadata": {
        "id": "QZTy3YoNLNF6"
      },
      "source": [
        "it is predicted as parasitized cell."
      ]
    },
    {
      "cell_type": "code",
      "metadata": {
        "colab": {
          "base_uri": "https://localhost:8080/"
        },
        "id": "WswnCjscFklP",
        "outputId": "1f442237-a593-48b8-d13d-7e270d9a4f28"
      },
      "source": [
        "test_gen.class_indices"
      ],
      "execution_count": 188,
      "outputs": [
        {
          "output_type": "execute_result",
          "data": {
            "text/plain": [
              "{'parasitized': 0, 'uninfected': 1}"
            ]
          },
          "metadata": {
            "tags": []
          },
          "execution_count": 188
        }
      ]
    },
    {
      "cell_type": "code",
      "metadata": {
        "id": "zEls9lAKK3U5"
      },
      "source": [
        ""
      ],
      "execution_count": null,
      "outputs": []
    }
  ]
}